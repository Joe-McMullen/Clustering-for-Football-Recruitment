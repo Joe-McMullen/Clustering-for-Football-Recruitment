{
 "cells": [
  {
   "cell_type": "code",
   "execution_count": 14,
   "metadata": {
    "collapsed": true
   },
   "outputs": [],
   "source": [
    "import numpy as np\n",
    "import pandas as pd"
   ]
  },
  {
   "cell_type": "code",
   "execution_count": 15,
   "outputs": [],
   "source": [
    "# load in data set, football manager data plus estimated valuation\n",
    "df = pd.read_csv('value_df.csv')"
   ],
   "metadata": {
    "collapsed": false
   }
  },
  {
   "cell_type": "code",
   "execution_count": 16,
   "outputs": [],
   "source": [
    "#drop unwanted index and any duplicates\n",
    "df.drop(columns= 'Unnamed: 0', inplace= True)\n",
    "df.drop_duplicates(inplace= True)"
   ],
   "metadata": {
    "collapsed": false
   }
  },
  {
   "cell_type": "code",
   "execution_count": 17,
   "outputs": [],
   "source": [
    "#take top 1000 players\n",
    "df = df.head(1000)"
   ],
   "metadata": {
    "collapsed": false
   }
  },
  {
   "cell_type": "code",
   "execution_count": 18,
   "outputs": [
    {
     "data": {
      "text/plain": "1000"
     },
     "execution_count": 18,
     "metadata": {},
     "output_type": "execute_result"
    }
   ],
   "source": [
    "len(df)"
   ],
   "metadata": {
    "collapsed": false
   }
  },
  {
   "cell_type": "markdown",
   "source": [
    "# Scaling"
   ],
   "metadata": {
    "collapsed": false
   }
  },
  {
   "cell_type": "code",
   "execution_count": 19,
   "outputs": [
    {
     "data": {
      "text/plain": "Index(['age', 'player_id', 'Corners', 'Crossing', 'Dribbling', 'Finishing',\n       'First Touch', 'Free Kick Taking', 'Heading', 'Long Shots',\n       'Long Throws', 'Marking', 'Passing', 'Penalty Taking', 'Tackling',\n       'Technique', 'Aggression', 'Anticipation', 'Bravery', 'Composure',\n       'Concentration', 'Decisions', 'Determination', 'Flair', 'Leadership',\n       'Off the Ball', 'Positioning', 'Teamwork', 'Vision', 'Work Rate',\n       'Acceleration', 'Agility', 'Balance', 'Jumping Reach',\n       'Natural Fitness', 'Pace', 'Stamina', 'Strength', 'sum_stats',\n       'estimated_value', 'log_value'],\n      dtype='object')"
     },
     "execution_count": 19,
     "metadata": {},
     "output_type": "execute_result"
    }
   ],
   "source": [
    "# get column names\n",
    "df.describe().columns"
   ],
   "metadata": {
    "collapsed": false
   }
  },
  {
   "cell_type": "code",
   "execution_count": 20,
   "outputs": [],
   "source": [
    "# min max scaler\n",
    "from sklearn.preprocessing import MinMaxScaler\n",
    "\n",
    "stats = ['Corners', 'Crossing', 'Dribbling',\n",
    "         'Finishing', 'First Touch', 'Free Kick Taking', 'Heading', 'Long Shots',\n",
    "         'Long Throws', 'Marking', 'Passing', 'Penalty Taking', 'Tackling',\n",
    "         'Technique', 'Aggression', 'Anticipation', 'Bravery', 'Composure',\n",
    "         'Concentration', 'Decisions', 'Determination', 'Flair', 'Leadership',\n",
    "         'Off the Ball', 'Positioning', 'Teamwork', 'Vision', 'Work Rate',\n",
    "         'Acceleration', 'Agility', 'Balance', 'Jumping Reach',\n",
    "         'Natural Fitness', 'Pace', 'Stamina', 'Strength']\n",
    "# Create an instance of MinMaxScaler\n",
    "scaler = MinMaxScaler()\n",
    "\n",
    "# Fit the scaler to the data and transform the data\n",
    "X_scaled = scaler.fit_transform(df[stats])\n"
   ],
   "metadata": {
    "collapsed": false
   }
  },
  {
   "cell_type": "markdown",
   "source": [
    "# Kmeans"
   ],
   "metadata": {
    "collapsed": false
   }
  },
  {
   "cell_type": "code",
   "execution_count": 21,
   "outputs": [
    {
     "data": {
      "application/vnd.plotly.v1+json": {
       "data": [
        {
         "x": [
          5,
          6,
          7,
          8,
          9,
          10,
          11,
          12,
          13,
          14,
          15,
          16,
          17,
          18,
          19,
          20,
          21,
          22,
          23,
          24,
          25
         ],
         "y": [
          138635.3840898798,
          133736.33219825593,
          129275.26355570504,
          126746.87912718275,
          124539.18010526088,
          122248.03416913265,
          120476.2639275126,
          119186.40848196278,
          117343.93630397266,
          115801.4159996212,
          114576.86503340674,
          113473.18393131135,
          112443.33553472131,
          111690.83246410954,
          110409.31907112368,
          109476.92316458112,
          108855.49480686866,
          108324.6963860552,
          106565.73845398732,
          106404.61605661086,
          105767.9450110638
         ],
         "type": "scatter"
        }
       ],
       "layout": {
        "template": {
         "data": {
          "histogram2dcontour": [
           {
            "type": "histogram2dcontour",
            "colorbar": {
             "outlinewidth": 0,
             "ticks": ""
            },
            "colorscale": [
             [
              0.0,
              "#0d0887"
             ],
             [
              0.1111111111111111,
              "#46039f"
             ],
             [
              0.2222222222222222,
              "#7201a8"
             ],
             [
              0.3333333333333333,
              "#9c179e"
             ],
             [
              0.4444444444444444,
              "#bd3786"
             ],
             [
              0.5555555555555556,
              "#d8576b"
             ],
             [
              0.6666666666666666,
              "#ed7953"
             ],
             [
              0.7777777777777778,
              "#fb9f3a"
             ],
             [
              0.8888888888888888,
              "#fdca26"
             ],
             [
              1.0,
              "#f0f921"
             ]
            ]
           }
          ],
          "choropleth": [
           {
            "type": "choropleth",
            "colorbar": {
             "outlinewidth": 0,
             "ticks": ""
            }
           }
          ],
          "histogram2d": [
           {
            "type": "histogram2d",
            "colorbar": {
             "outlinewidth": 0,
             "ticks": ""
            },
            "colorscale": [
             [
              0.0,
              "#0d0887"
             ],
             [
              0.1111111111111111,
              "#46039f"
             ],
             [
              0.2222222222222222,
              "#7201a8"
             ],
             [
              0.3333333333333333,
              "#9c179e"
             ],
             [
              0.4444444444444444,
              "#bd3786"
             ],
             [
              0.5555555555555556,
              "#d8576b"
             ],
             [
              0.6666666666666666,
              "#ed7953"
             ],
             [
              0.7777777777777778,
              "#fb9f3a"
             ],
             [
              0.8888888888888888,
              "#fdca26"
             ],
             [
              1.0,
              "#f0f921"
             ]
            ]
           }
          ],
          "heatmap": [
           {
            "type": "heatmap",
            "colorbar": {
             "outlinewidth": 0,
             "ticks": ""
            },
            "colorscale": [
             [
              0.0,
              "#0d0887"
             ],
             [
              0.1111111111111111,
              "#46039f"
             ],
             [
              0.2222222222222222,
              "#7201a8"
             ],
             [
              0.3333333333333333,
              "#9c179e"
             ],
             [
              0.4444444444444444,
              "#bd3786"
             ],
             [
              0.5555555555555556,
              "#d8576b"
             ],
             [
              0.6666666666666666,
              "#ed7953"
             ],
             [
              0.7777777777777778,
              "#fb9f3a"
             ],
             [
              0.8888888888888888,
              "#fdca26"
             ],
             [
              1.0,
              "#f0f921"
             ]
            ]
           }
          ],
          "heatmapgl": [
           {
            "type": "heatmapgl",
            "colorbar": {
             "outlinewidth": 0,
             "ticks": ""
            },
            "colorscale": [
             [
              0.0,
              "#0d0887"
             ],
             [
              0.1111111111111111,
              "#46039f"
             ],
             [
              0.2222222222222222,
              "#7201a8"
             ],
             [
              0.3333333333333333,
              "#9c179e"
             ],
             [
              0.4444444444444444,
              "#bd3786"
             ],
             [
              0.5555555555555556,
              "#d8576b"
             ],
             [
              0.6666666666666666,
              "#ed7953"
             ],
             [
              0.7777777777777778,
              "#fb9f3a"
             ],
             [
              0.8888888888888888,
              "#fdca26"
             ],
             [
              1.0,
              "#f0f921"
             ]
            ]
           }
          ],
          "contourcarpet": [
           {
            "type": "contourcarpet",
            "colorbar": {
             "outlinewidth": 0,
             "ticks": ""
            }
           }
          ],
          "contour": [
           {
            "type": "contour",
            "colorbar": {
             "outlinewidth": 0,
             "ticks": ""
            },
            "colorscale": [
             [
              0.0,
              "#0d0887"
             ],
             [
              0.1111111111111111,
              "#46039f"
             ],
             [
              0.2222222222222222,
              "#7201a8"
             ],
             [
              0.3333333333333333,
              "#9c179e"
             ],
             [
              0.4444444444444444,
              "#bd3786"
             ],
             [
              0.5555555555555556,
              "#d8576b"
             ],
             [
              0.6666666666666666,
              "#ed7953"
             ],
             [
              0.7777777777777778,
              "#fb9f3a"
             ],
             [
              0.8888888888888888,
              "#fdca26"
             ],
             [
              1.0,
              "#f0f921"
             ]
            ]
           }
          ],
          "surface": [
           {
            "type": "surface",
            "colorbar": {
             "outlinewidth": 0,
             "ticks": ""
            },
            "colorscale": [
             [
              0.0,
              "#0d0887"
             ],
             [
              0.1111111111111111,
              "#46039f"
             ],
             [
              0.2222222222222222,
              "#7201a8"
             ],
             [
              0.3333333333333333,
              "#9c179e"
             ],
             [
              0.4444444444444444,
              "#bd3786"
             ],
             [
              0.5555555555555556,
              "#d8576b"
             ],
             [
              0.6666666666666666,
              "#ed7953"
             ],
             [
              0.7777777777777778,
              "#fb9f3a"
             ],
             [
              0.8888888888888888,
              "#fdca26"
             ],
             [
              1.0,
              "#f0f921"
             ]
            ]
           }
          ],
          "mesh3d": [
           {
            "type": "mesh3d",
            "colorbar": {
             "outlinewidth": 0,
             "ticks": ""
            }
           }
          ],
          "scatter": [
           {
            "fillpattern": {
             "fillmode": "overlay",
             "size": 10,
             "solidity": 0.2
            },
            "type": "scatter"
           }
          ],
          "parcoords": [
           {
            "type": "parcoords",
            "line": {
             "colorbar": {
              "outlinewidth": 0,
              "ticks": ""
             }
            }
           }
          ],
          "scatterpolargl": [
           {
            "type": "scatterpolargl",
            "marker": {
             "colorbar": {
              "outlinewidth": 0,
              "ticks": ""
             }
            }
           }
          ],
          "bar": [
           {
            "error_x": {
             "color": "#2a3f5f"
            },
            "error_y": {
             "color": "#2a3f5f"
            },
            "marker": {
             "line": {
              "color": "#E5ECF6",
              "width": 0.5
             },
             "pattern": {
              "fillmode": "overlay",
              "size": 10,
              "solidity": 0.2
             }
            },
            "type": "bar"
           }
          ],
          "scattergeo": [
           {
            "type": "scattergeo",
            "marker": {
             "colorbar": {
              "outlinewidth": 0,
              "ticks": ""
             }
            }
           }
          ],
          "scatterpolar": [
           {
            "type": "scatterpolar",
            "marker": {
             "colorbar": {
              "outlinewidth": 0,
              "ticks": ""
             }
            }
           }
          ],
          "histogram": [
           {
            "marker": {
             "pattern": {
              "fillmode": "overlay",
              "size": 10,
              "solidity": 0.2
             }
            },
            "type": "histogram"
           }
          ],
          "scattergl": [
           {
            "type": "scattergl",
            "marker": {
             "colorbar": {
              "outlinewidth": 0,
              "ticks": ""
             }
            }
           }
          ],
          "scatter3d": [
           {
            "type": "scatter3d",
            "line": {
             "colorbar": {
              "outlinewidth": 0,
              "ticks": ""
             }
            },
            "marker": {
             "colorbar": {
              "outlinewidth": 0,
              "ticks": ""
             }
            }
           }
          ],
          "scattermapbox": [
           {
            "type": "scattermapbox",
            "marker": {
             "colorbar": {
              "outlinewidth": 0,
              "ticks": ""
             }
            }
           }
          ],
          "scatterternary": [
           {
            "type": "scatterternary",
            "marker": {
             "colorbar": {
              "outlinewidth": 0,
              "ticks": ""
             }
            }
           }
          ],
          "scattercarpet": [
           {
            "type": "scattercarpet",
            "marker": {
             "colorbar": {
              "outlinewidth": 0,
              "ticks": ""
             }
            }
           }
          ],
          "carpet": [
           {
            "aaxis": {
             "endlinecolor": "#2a3f5f",
             "gridcolor": "white",
             "linecolor": "white",
             "minorgridcolor": "white",
             "startlinecolor": "#2a3f5f"
            },
            "baxis": {
             "endlinecolor": "#2a3f5f",
             "gridcolor": "white",
             "linecolor": "white",
             "minorgridcolor": "white",
             "startlinecolor": "#2a3f5f"
            },
            "type": "carpet"
           }
          ],
          "table": [
           {
            "cells": {
             "fill": {
              "color": "#EBF0F8"
             },
             "line": {
              "color": "white"
             }
            },
            "header": {
             "fill": {
              "color": "#C8D4E3"
             },
             "line": {
              "color": "white"
             }
            },
            "type": "table"
           }
          ],
          "barpolar": [
           {
            "marker": {
             "line": {
              "color": "#E5ECF6",
              "width": 0.5
             },
             "pattern": {
              "fillmode": "overlay",
              "size": 10,
              "solidity": 0.2
             }
            },
            "type": "barpolar"
           }
          ],
          "pie": [
           {
            "automargin": true,
            "type": "pie"
           }
          ]
         },
         "layout": {
          "autotypenumbers": "strict",
          "colorway": [
           "#636efa",
           "#EF553B",
           "#00cc96",
           "#ab63fa",
           "#FFA15A",
           "#19d3f3",
           "#FF6692",
           "#B6E880",
           "#FF97FF",
           "#FECB52"
          ],
          "font": {
           "color": "#2a3f5f"
          },
          "hovermode": "closest",
          "hoverlabel": {
           "align": "left"
          },
          "paper_bgcolor": "white",
          "plot_bgcolor": "#E5ECF6",
          "polar": {
           "bgcolor": "#E5ECF6",
           "angularaxis": {
            "gridcolor": "white",
            "linecolor": "white",
            "ticks": ""
           },
           "radialaxis": {
            "gridcolor": "white",
            "linecolor": "white",
            "ticks": ""
           }
          },
          "ternary": {
           "bgcolor": "#E5ECF6",
           "aaxis": {
            "gridcolor": "white",
            "linecolor": "white",
            "ticks": ""
           },
           "baxis": {
            "gridcolor": "white",
            "linecolor": "white",
            "ticks": ""
           },
           "caxis": {
            "gridcolor": "white",
            "linecolor": "white",
            "ticks": ""
           }
          },
          "coloraxis": {
           "colorbar": {
            "outlinewidth": 0,
            "ticks": ""
           }
          },
          "colorscale": {
           "sequential": [
            [
             0.0,
             "#0d0887"
            ],
            [
             0.1111111111111111,
             "#46039f"
            ],
            [
             0.2222222222222222,
             "#7201a8"
            ],
            [
             0.3333333333333333,
             "#9c179e"
            ],
            [
             0.4444444444444444,
             "#bd3786"
            ],
            [
             0.5555555555555556,
             "#d8576b"
            ],
            [
             0.6666666666666666,
             "#ed7953"
            ],
            [
             0.7777777777777778,
             "#fb9f3a"
            ],
            [
             0.8888888888888888,
             "#fdca26"
            ],
            [
             1.0,
             "#f0f921"
            ]
           ],
           "sequentialminus": [
            [
             0.0,
             "#0d0887"
            ],
            [
             0.1111111111111111,
             "#46039f"
            ],
            [
             0.2222222222222222,
             "#7201a8"
            ],
            [
             0.3333333333333333,
             "#9c179e"
            ],
            [
             0.4444444444444444,
             "#bd3786"
            ],
            [
             0.5555555555555556,
             "#d8576b"
            ],
            [
             0.6666666666666666,
             "#ed7953"
            ],
            [
             0.7777777777777778,
             "#fb9f3a"
            ],
            [
             0.8888888888888888,
             "#fdca26"
            ],
            [
             1.0,
             "#f0f921"
            ]
           ],
           "diverging": [
            [
             0,
             "#8e0152"
            ],
            [
             0.1,
             "#c51b7d"
            ],
            [
             0.2,
             "#de77ae"
            ],
            [
             0.3,
             "#f1b6da"
            ],
            [
             0.4,
             "#fde0ef"
            ],
            [
             0.5,
             "#f7f7f7"
            ],
            [
             0.6,
             "#e6f5d0"
            ],
            [
             0.7,
             "#b8e186"
            ],
            [
             0.8,
             "#7fbc41"
            ],
            [
             0.9,
             "#4d9221"
            ],
            [
             1,
             "#276419"
            ]
           ]
          },
          "xaxis": {
           "gridcolor": "white",
           "linecolor": "white",
           "ticks": "",
           "title": {
            "standoff": 15
           },
           "zerolinecolor": "white",
           "automargin": true,
           "zerolinewidth": 2
          },
          "yaxis": {
           "gridcolor": "white",
           "linecolor": "white",
           "ticks": "",
           "title": {
            "standoff": 15
           },
           "zerolinecolor": "white",
           "automargin": true,
           "zerolinewidth": 2
          },
          "scene": {
           "xaxis": {
            "backgroundcolor": "#E5ECF6",
            "gridcolor": "white",
            "linecolor": "white",
            "showbackground": true,
            "ticks": "",
            "zerolinecolor": "white",
            "gridwidth": 2
           },
           "yaxis": {
            "backgroundcolor": "#E5ECF6",
            "gridcolor": "white",
            "linecolor": "white",
            "showbackground": true,
            "ticks": "",
            "zerolinecolor": "white",
            "gridwidth": 2
           },
           "zaxis": {
            "backgroundcolor": "#E5ECF6",
            "gridcolor": "white",
            "linecolor": "white",
            "showbackground": true,
            "ticks": "",
            "zerolinecolor": "white",
            "gridwidth": 2
           }
          },
          "shapedefaults": {
           "line": {
            "color": "#2a3f5f"
           }
          },
          "annotationdefaults": {
           "arrowcolor": "#2a3f5f",
           "arrowhead": 0,
           "arrowwidth": 1
          },
          "geo": {
           "bgcolor": "white",
           "landcolor": "#E5ECF6",
           "subunitcolor": "white",
           "showland": true,
           "showlakes": true,
           "lakecolor": "white"
          },
          "title": {
           "x": 0.05
          },
          "mapbox": {
           "style": "light"
          }
         }
        },
        "xaxis": {
         "range": [
          4,
          26
         ],
         "title": {
          "text": "Cluster Number"
         }
        },
        "title": {
         "text": "Inertia vs Cluster Number"
        },
        "yaxis": {
         "title": {
          "text": "Inertia"
         }
        }
       },
       "config": {
        "plotlyServerURL": "https://plot.ly"
       }
      },
      "text/html": "<div>                            <div id=\"5bd6c759-5a05-47c2-abbb-3e9a0c9233f7\" class=\"plotly-graph-div\" style=\"height:525px; width:100%;\"></div>            <script type=\"text/javascript\">                require([\"plotly\"], function(Plotly) {                    window.PLOTLYENV=window.PLOTLYENV || {};                                    if (document.getElementById(\"5bd6c759-5a05-47c2-abbb-3e9a0c9233f7\")) {                    Plotly.newPlot(                        \"5bd6c759-5a05-47c2-abbb-3e9a0c9233f7\",                        [{\"x\":[5,6,7,8,9,10,11,12,13,14,15,16,17,18,19,20,21,22,23,24,25],\"y\":[138635.3840898798,133736.33219825593,129275.26355570504,126746.87912718275,124539.18010526088,122248.03416913265,120476.2639275126,119186.40848196278,117343.93630397266,115801.4159996212,114576.86503340674,113473.18393131135,112443.33553472131,111690.83246410954,110409.31907112368,109476.92316458112,108855.49480686866,108324.6963860552,106565.73845398732,106404.61605661086,105767.9450110638],\"type\":\"scatter\"}],                        {\"template\":{\"data\":{\"histogram2dcontour\":[{\"type\":\"histogram2dcontour\",\"colorbar\":{\"outlinewidth\":0,\"ticks\":\"\"},\"colorscale\":[[0.0,\"#0d0887\"],[0.1111111111111111,\"#46039f\"],[0.2222222222222222,\"#7201a8\"],[0.3333333333333333,\"#9c179e\"],[0.4444444444444444,\"#bd3786\"],[0.5555555555555556,\"#d8576b\"],[0.6666666666666666,\"#ed7953\"],[0.7777777777777778,\"#fb9f3a\"],[0.8888888888888888,\"#fdca26\"],[1.0,\"#f0f921\"]]}],\"choropleth\":[{\"type\":\"choropleth\",\"colorbar\":{\"outlinewidth\":0,\"ticks\":\"\"}}],\"histogram2d\":[{\"type\":\"histogram2d\",\"colorbar\":{\"outlinewidth\":0,\"ticks\":\"\"},\"colorscale\":[[0.0,\"#0d0887\"],[0.1111111111111111,\"#46039f\"],[0.2222222222222222,\"#7201a8\"],[0.3333333333333333,\"#9c179e\"],[0.4444444444444444,\"#bd3786\"],[0.5555555555555556,\"#d8576b\"],[0.6666666666666666,\"#ed7953\"],[0.7777777777777778,\"#fb9f3a\"],[0.8888888888888888,\"#fdca26\"],[1.0,\"#f0f921\"]]}],\"heatmap\":[{\"type\":\"heatmap\",\"colorbar\":{\"outlinewidth\":0,\"ticks\":\"\"},\"colorscale\":[[0.0,\"#0d0887\"],[0.1111111111111111,\"#46039f\"],[0.2222222222222222,\"#7201a8\"],[0.3333333333333333,\"#9c179e\"],[0.4444444444444444,\"#bd3786\"],[0.5555555555555556,\"#d8576b\"],[0.6666666666666666,\"#ed7953\"],[0.7777777777777778,\"#fb9f3a\"],[0.8888888888888888,\"#fdca26\"],[1.0,\"#f0f921\"]]}],\"heatmapgl\":[{\"type\":\"heatmapgl\",\"colorbar\":{\"outlinewidth\":0,\"ticks\":\"\"},\"colorscale\":[[0.0,\"#0d0887\"],[0.1111111111111111,\"#46039f\"],[0.2222222222222222,\"#7201a8\"],[0.3333333333333333,\"#9c179e\"],[0.4444444444444444,\"#bd3786\"],[0.5555555555555556,\"#d8576b\"],[0.6666666666666666,\"#ed7953\"],[0.7777777777777778,\"#fb9f3a\"],[0.8888888888888888,\"#fdca26\"],[1.0,\"#f0f921\"]]}],\"contourcarpet\":[{\"type\":\"contourcarpet\",\"colorbar\":{\"outlinewidth\":0,\"ticks\":\"\"}}],\"contour\":[{\"type\":\"contour\",\"colorbar\":{\"outlinewidth\":0,\"ticks\":\"\"},\"colorscale\":[[0.0,\"#0d0887\"],[0.1111111111111111,\"#46039f\"],[0.2222222222222222,\"#7201a8\"],[0.3333333333333333,\"#9c179e\"],[0.4444444444444444,\"#bd3786\"],[0.5555555555555556,\"#d8576b\"],[0.6666666666666666,\"#ed7953\"],[0.7777777777777778,\"#fb9f3a\"],[0.8888888888888888,\"#fdca26\"],[1.0,\"#f0f921\"]]}],\"surface\":[{\"type\":\"surface\",\"colorbar\":{\"outlinewidth\":0,\"ticks\":\"\"},\"colorscale\":[[0.0,\"#0d0887\"],[0.1111111111111111,\"#46039f\"],[0.2222222222222222,\"#7201a8\"],[0.3333333333333333,\"#9c179e\"],[0.4444444444444444,\"#bd3786\"],[0.5555555555555556,\"#d8576b\"],[0.6666666666666666,\"#ed7953\"],[0.7777777777777778,\"#fb9f3a\"],[0.8888888888888888,\"#fdca26\"],[1.0,\"#f0f921\"]]}],\"mesh3d\":[{\"type\":\"mesh3d\",\"colorbar\":{\"outlinewidth\":0,\"ticks\":\"\"}}],\"scatter\":[{\"fillpattern\":{\"fillmode\":\"overlay\",\"size\":10,\"solidity\":0.2},\"type\":\"scatter\"}],\"parcoords\":[{\"type\":\"parcoords\",\"line\":{\"colorbar\":{\"outlinewidth\":0,\"ticks\":\"\"}}}],\"scatterpolargl\":[{\"type\":\"scatterpolargl\",\"marker\":{\"colorbar\":{\"outlinewidth\":0,\"ticks\":\"\"}}}],\"bar\":[{\"error_x\":{\"color\":\"#2a3f5f\"},\"error_y\":{\"color\":\"#2a3f5f\"},\"marker\":{\"line\":{\"color\":\"#E5ECF6\",\"width\":0.5},\"pattern\":{\"fillmode\":\"overlay\",\"size\":10,\"solidity\":0.2}},\"type\":\"bar\"}],\"scattergeo\":[{\"type\":\"scattergeo\",\"marker\":{\"colorbar\":{\"outlinewidth\":0,\"ticks\":\"\"}}}],\"scatterpolar\":[{\"type\":\"scatterpolar\",\"marker\":{\"colorbar\":{\"outlinewidth\":0,\"ticks\":\"\"}}}],\"histogram\":[{\"marker\":{\"pattern\":{\"fillmode\":\"overlay\",\"size\":10,\"solidity\":0.2}},\"type\":\"histogram\"}],\"scattergl\":[{\"type\":\"scattergl\",\"marker\":{\"colorbar\":{\"outlinewidth\":0,\"ticks\":\"\"}}}],\"scatter3d\":[{\"type\":\"scatter3d\",\"line\":{\"colorbar\":{\"outlinewidth\":0,\"ticks\":\"\"}},\"marker\":{\"colorbar\":{\"outlinewidth\":0,\"ticks\":\"\"}}}],\"scattermapbox\":[{\"type\":\"scattermapbox\",\"marker\":{\"colorbar\":{\"outlinewidth\":0,\"ticks\":\"\"}}}],\"scatterternary\":[{\"type\":\"scatterternary\",\"marker\":{\"colorbar\":{\"outlinewidth\":0,\"ticks\":\"\"}}}],\"scattercarpet\":[{\"type\":\"scattercarpet\",\"marker\":{\"colorbar\":{\"outlinewidth\":0,\"ticks\":\"\"}}}],\"carpet\":[{\"aaxis\":{\"endlinecolor\":\"#2a3f5f\",\"gridcolor\":\"white\",\"linecolor\":\"white\",\"minorgridcolor\":\"white\",\"startlinecolor\":\"#2a3f5f\"},\"baxis\":{\"endlinecolor\":\"#2a3f5f\",\"gridcolor\":\"white\",\"linecolor\":\"white\",\"minorgridcolor\":\"white\",\"startlinecolor\":\"#2a3f5f\"},\"type\":\"carpet\"}],\"table\":[{\"cells\":{\"fill\":{\"color\":\"#EBF0F8\"},\"line\":{\"color\":\"white\"}},\"header\":{\"fill\":{\"color\":\"#C8D4E3\"},\"line\":{\"color\":\"white\"}},\"type\":\"table\"}],\"barpolar\":[{\"marker\":{\"line\":{\"color\":\"#E5ECF6\",\"width\":0.5},\"pattern\":{\"fillmode\":\"overlay\",\"size\":10,\"solidity\":0.2}},\"type\":\"barpolar\"}],\"pie\":[{\"automargin\":true,\"type\":\"pie\"}]},\"layout\":{\"autotypenumbers\":\"strict\",\"colorway\":[\"#636efa\",\"#EF553B\",\"#00cc96\",\"#ab63fa\",\"#FFA15A\",\"#19d3f3\",\"#FF6692\",\"#B6E880\",\"#FF97FF\",\"#FECB52\"],\"font\":{\"color\":\"#2a3f5f\"},\"hovermode\":\"closest\",\"hoverlabel\":{\"align\":\"left\"},\"paper_bgcolor\":\"white\",\"plot_bgcolor\":\"#E5ECF6\",\"polar\":{\"bgcolor\":\"#E5ECF6\",\"angularaxis\":{\"gridcolor\":\"white\",\"linecolor\":\"white\",\"ticks\":\"\"},\"radialaxis\":{\"gridcolor\":\"white\",\"linecolor\":\"white\",\"ticks\":\"\"}},\"ternary\":{\"bgcolor\":\"#E5ECF6\",\"aaxis\":{\"gridcolor\":\"white\",\"linecolor\":\"white\",\"ticks\":\"\"},\"baxis\":{\"gridcolor\":\"white\",\"linecolor\":\"white\",\"ticks\":\"\"},\"caxis\":{\"gridcolor\":\"white\",\"linecolor\":\"white\",\"ticks\":\"\"}},\"coloraxis\":{\"colorbar\":{\"outlinewidth\":0,\"ticks\":\"\"}},\"colorscale\":{\"sequential\":[[0.0,\"#0d0887\"],[0.1111111111111111,\"#46039f\"],[0.2222222222222222,\"#7201a8\"],[0.3333333333333333,\"#9c179e\"],[0.4444444444444444,\"#bd3786\"],[0.5555555555555556,\"#d8576b\"],[0.6666666666666666,\"#ed7953\"],[0.7777777777777778,\"#fb9f3a\"],[0.8888888888888888,\"#fdca26\"],[1.0,\"#f0f921\"]],\"sequentialminus\":[[0.0,\"#0d0887\"],[0.1111111111111111,\"#46039f\"],[0.2222222222222222,\"#7201a8\"],[0.3333333333333333,\"#9c179e\"],[0.4444444444444444,\"#bd3786\"],[0.5555555555555556,\"#d8576b\"],[0.6666666666666666,\"#ed7953\"],[0.7777777777777778,\"#fb9f3a\"],[0.8888888888888888,\"#fdca26\"],[1.0,\"#f0f921\"]],\"diverging\":[[0,\"#8e0152\"],[0.1,\"#c51b7d\"],[0.2,\"#de77ae\"],[0.3,\"#f1b6da\"],[0.4,\"#fde0ef\"],[0.5,\"#f7f7f7\"],[0.6,\"#e6f5d0\"],[0.7,\"#b8e186\"],[0.8,\"#7fbc41\"],[0.9,\"#4d9221\"],[1,\"#276419\"]]},\"xaxis\":{\"gridcolor\":\"white\",\"linecolor\":\"white\",\"ticks\":\"\",\"title\":{\"standoff\":15},\"zerolinecolor\":\"white\",\"automargin\":true,\"zerolinewidth\":2},\"yaxis\":{\"gridcolor\":\"white\",\"linecolor\":\"white\",\"ticks\":\"\",\"title\":{\"standoff\":15},\"zerolinecolor\":\"white\",\"automargin\":true,\"zerolinewidth\":2},\"scene\":{\"xaxis\":{\"backgroundcolor\":\"#E5ECF6\",\"gridcolor\":\"white\",\"linecolor\":\"white\",\"showbackground\":true,\"ticks\":\"\",\"zerolinecolor\":\"white\",\"gridwidth\":2},\"yaxis\":{\"backgroundcolor\":\"#E5ECF6\",\"gridcolor\":\"white\",\"linecolor\":\"white\",\"showbackground\":true,\"ticks\":\"\",\"zerolinecolor\":\"white\",\"gridwidth\":2},\"zaxis\":{\"backgroundcolor\":\"#E5ECF6\",\"gridcolor\":\"white\",\"linecolor\":\"white\",\"showbackground\":true,\"ticks\":\"\",\"zerolinecolor\":\"white\",\"gridwidth\":2}},\"shapedefaults\":{\"line\":{\"color\":\"#2a3f5f\"}},\"annotationdefaults\":{\"arrowcolor\":\"#2a3f5f\",\"arrowhead\":0,\"arrowwidth\":1},\"geo\":{\"bgcolor\":\"white\",\"landcolor\":\"#E5ECF6\",\"subunitcolor\":\"white\",\"showland\":true,\"showlakes\":true,\"lakecolor\":\"white\"},\"title\":{\"x\":0.05},\"mapbox\":{\"style\":\"light\"}}},\"xaxis\":{\"range\":[4,26],\"title\":{\"text\":\"Cluster Number\"}},\"title\":{\"text\":\"Inertia vs Cluster Number\"},\"yaxis\":{\"title\":{\"text\":\"Inertia\"}}},                        {\"responsive\": true}                    ).then(function(){\n                            \nvar gd = document.getElementById('5bd6c759-5a05-47c2-abbb-3e9a0c9233f7');\nvar x = new MutationObserver(function (mutations, observer) {{\n        var display = window.getComputedStyle(gd).display;\n        if (!display || display === 'none') {{\n            console.log([gd, 'removed!']);\n            Plotly.purge(gd);\n            observer.disconnect();\n        }}\n}});\n\n// Listen for the removal of the full notebook cells\nvar notebookContainer = gd.closest('#notebook-container');\nif (notebookContainer) {{\n    x.observe(notebookContainer, {childList: true});\n}}\n\n// Listen for the clearing of the current output cell\nvar outputEl = gd.closest('.output');\nif (outputEl) {{\n    x.observe(outputEl, {childList: true});\n}}\n\n                        })                };                });            </script>        </div>"
     },
     "metadata": {},
     "output_type": "display_data"
    }
   ],
   "source": [
    "# kmeans clustering from scikit-learn\n",
    "from sklearn.cluster import KMeans\n",
    "import plotly.graph_objects as go\n",
    "#consider different numbers of clustering and inertia score\n",
    "inertia = []\n",
    "for i in range(5,26):\n",
    "    kmeans = KMeans(\n",
    "        n_clusters=i, init=\"k-means++\",\n",
    "        n_init=10,\n",
    "        tol=1e-04, random_state=42\n",
    "    )\n",
    "    kmeans.fit(df[stats])\n",
    "    inertia.append(kmeans.inertia_)\n",
    "fig = go.Figure(data=go.Scatter(x=np.arange(5,26),y=inertia))\n",
    "fig.update_layout(title=\"Inertia vs Cluster Number\",xaxis=dict(range=[4,26],title=\"Cluster Number\"),\n",
    "                  yaxis={'title':'Inertia'})"
   ],
   "metadata": {
    "collapsed": false
   }
  },
  {
   "cell_type": "markdown",
   "source": [
    "# Silhouette Score"
   ],
   "metadata": {
    "collapsed": false
   }
  },
  {
   "cell_type": "code",
   "execution_count": 22,
   "outputs": [
    {
     "data": {
      "text/plain": "<Figure size 640x480 with 1 Axes>",
      "image/png": "[encoded data removed]"
     },
     "metadata": {},
     "output_type": "display_data"
    }
   ],
   "source": [
    "from sklearn import metrics\n",
    "import seaborn as sns\n",
    "import matplotlib.pyplot as plt\n",
    "#consider silhouette score\n",
    "k_range = range(5, 26)\n",
    "scores = []\n",
    "inertia = []\n",
    "for k in k_range:\n",
    "    km3 = KMeans(n_clusters=k, random_state=124)\n",
    "    km3.fit(X_scaled)\n",
    "    scores.append(metrics.silhouette_score(X_scaled, km3.labels_))\n",
    "    inertia.append(km3.inertia_)\n",
    "\n",
    "#\n",
    "plt.plot(k_range, scores)\n",
    "plt.xlabel('Number of clusters')\n",
    "plt.ylabel('Silhouette Coefficient')\n",
    "plt.grid(False)"
   ],
   "metadata": {
    "collapsed": false
   }
  },
  {
   "cell_type": "markdown",
   "source": [
    "# Final Kmeans model"
   ],
   "metadata": {
    "collapsed": false
   }
  },
  {
   "cell_type": "code",
   "execution_count": 23,
   "outputs": [
    {
     "data": {
      "text/plain": "KMeans(n_clusters=18, random_state=42)"
     },
     "execution_count": 23,
     "metadata": {},
     "output_type": "execute_result"
    }
   ],
   "source": [
    "#final model with optimized params\n",
    "km_final = KMeans(n_clusters= 18,random_state= 42)\n",
    "km_final.fit(X_scaled)\n"
   ],
   "metadata": {
    "collapsed": false
   }
  },
  {
   "cell_type": "code",
   "execution_count": 1,
   "outputs": [
    {
     "ename": "NameError",
     "evalue": "name 'km_final' is not defined",
     "output_type": "error",
     "traceback": [
      "\u001B[1;31m---------------------------------------------------------------------------\u001B[0m",
      "\u001B[1;31mNameError\u001B[0m                                 Traceback (most recent call last)",
      "\u001B[1;32m~\\AppData\\Local\\Temp\\ipykernel_6540\\287349954.py\u001B[0m in \u001B[0;36m<module>\u001B[1;34m\u001B[0m\n\u001B[0;32m      1\u001B[0m \u001B[1;31m#add cluster labels to dataframe\u001B[0m\u001B[1;33m\u001B[0m\u001B[1;33m\u001B[0m\u001B[0m\n\u001B[1;32m----> 2\u001B[1;33m \u001B[0mdf\u001B[0m\u001B[1;33m[\u001B[0m\u001B[1;34m'cluster'\u001B[0m\u001B[1;33m]\u001B[0m \u001B[1;33m=\u001B[0m \u001B[0mkm_final\u001B[0m\u001B[1;33m.\u001B[0m\u001B[0mlabels_\u001B[0m\u001B[1;33m\u001B[0m\u001B[1;33m\u001B[0m\u001B[0m\n\u001B[0m\u001B[0;32m      3\u001B[0m \u001B[0mdf\u001B[0m\u001B[1;33m.\u001B[0m\u001B[0msort_values\u001B[0m\u001B[1;33m(\u001B[0m\u001B[1;34m'cluster'\u001B[0m\u001B[1;33m)\u001B[0m\u001B[1;33m\u001B[0m\u001B[1;33m\u001B[0m\u001B[0m\n\u001B[0;32m      4\u001B[0m \u001B[1;33m\u001B[0m\u001B[0m\n\u001B[0;32m      5\u001B[0m \u001B[0mstats\u001B[0m\u001B[1;33m.\u001B[0m\u001B[0mappend\u001B[0m\u001B[1;33m(\u001B[0m\u001B[1;34m'cluster'\u001B[0m\u001B[1;33m)\u001B[0m\u001B[1;33m\u001B[0m\u001B[1;33m\u001B[0m\u001B[0m\n",
      "\u001B[1;31mNameError\u001B[0m: name 'km_final' is not defined"
     ]
    }
   ],
   "source": [
    "#add cluster labels to dataframe\n",
    "df['cluster'] = km_final.labels_\n",
    "df.sort_values('cluster')\n",
    "\n",
    "stats.append('cluster')\n"
   ],
   "metadata": {
    "collapsed": false
   }
  },
  {
   "cell_type": "markdown",
   "source": [
    "# Results"
   ],
   "metadata": {
    "collapsed": false
   }
  },
  {
   "cell_type": "code",
   "execution_count": 25,
   "outputs": [
    {
     "name": "stderr",
     "output_type": "stream",
     "text": [
      "C:\\Users\\joemc\\anaconda3\\lib\\site-packages\\plotly\\express\\_core.py:271: FutureWarning:\n",
      "\n",
      "The frame.append method is deprecated and will be removed from pandas in a future version. Use pandas.concat instead.\n",
      "\n",
      "C:\\Users\\joemc\\anaconda3\\lib\\site-packages\\plotly\\express\\_core.py:271: FutureWarning:\n",
      "\n",
      "The frame.append method is deprecated and will be removed from pandas in a future version. Use pandas.concat instead.\n",
      "\n",
      "C:\\Users\\joemc\\anaconda3\\lib\\site-packages\\plotly\\express\\_core.py:271: FutureWarning:\n",
      "\n",
      "The frame.append method is deprecated and will be removed from pandas in a future version. Use pandas.concat instead.\n",
      "\n",
      "C:\\Users\\joemc\\anaconda3\\lib\\site-packages\\plotly\\express\\_core.py:271: FutureWarning:\n",
      "\n",
      "The frame.append method is deprecated and will be removed from pandas in a future version. Use pandas.concat instead.\n",
      "\n",
      "C:\\Users\\joemc\\anaconda3\\lib\\site-packages\\plotly\\express\\_core.py:271: FutureWarning:\n",
      "\n",
      "The frame.append method is deprecated and will be removed from pandas in a future version. Use pandas.concat instead.\n",
      "\n",
      "C:\\Users\\joemc\\anaconda3\\lib\\site-packages\\plotly\\express\\_core.py:271: FutureWarning:\n",
      "\n",
      "The frame.append method is deprecated and will be removed from pandas in a future version. Use pandas.concat instead.\n",
      "\n",
      "C:\\Users\\joemc\\anaconda3\\lib\\site-packages\\plotly\\express\\_core.py:271: FutureWarning:\n",
      "\n",
      "The frame.append method is deprecated and will be removed from pandas in a future version. Use pandas.concat instead.\n",
      "\n",
      "C:\\Users\\joemc\\anaconda3\\lib\\site-packages\\plotly\\express\\_core.py:271: FutureWarning:\n",
      "\n",
      "The frame.append method is deprecated and will be removed from pandas in a future version. Use pandas.concat instead.\n",
      "\n",
      "C:\\Users\\joemc\\anaconda3\\lib\\site-packages\\plotly\\express\\_core.py:271: FutureWarning:\n",
      "\n",
      "The frame.append method is deprecated and will be removed from pandas in a future version. Use pandas.concat instead.\n",
      "\n",
      "C:\\Users\\joemc\\anaconda3\\lib\\site-packages\\plotly\\express\\_core.py:271: FutureWarning:\n",
      "\n",
      "The frame.append method is deprecated and will be removed from pandas in a future version. Use pandas.concat instead.\n",
      "\n",
      "C:\\Users\\joemc\\anaconda3\\lib\\site-packages\\plotly\\express\\_core.py:271: FutureWarning:\n",
      "\n",
      "The frame.append method is deprecated and will be removed from pandas in a future version. Use pandas.concat instead.\n",
      "\n",
      "C:\\Users\\joemc\\anaconda3\\lib\\site-packages\\plotly\\express\\_core.py:271: FutureWarning:\n",
      "\n",
      "The frame.append method is deprecated and will be removed from pandas in a future version. Use pandas.concat instead.\n",
      "\n",
      "C:\\Users\\joemc\\anaconda3\\lib\\site-packages\\plotly\\express\\_core.py:271: FutureWarning:\n",
      "\n",
      "The frame.append method is deprecated and will be removed from pandas in a future version. Use pandas.concat instead.\n",
      "\n",
      "C:\\Users\\joemc\\anaconda3\\lib\\site-packages\\plotly\\express\\_core.py:271: FutureWarning:\n",
      "\n",
      "The frame.append method is deprecated and will be removed from pandas in a future version. Use pandas.concat instead.\n",
      "\n",
      "C:\\Users\\joemc\\anaconda3\\lib\\site-packages\\plotly\\express\\_core.py:271: FutureWarning:\n",
      "\n",
      "The frame.append method is deprecated and will be removed from pandas in a future version. Use pandas.concat instead.\n",
      "\n",
      "C:\\Users\\joemc\\anaconda3\\lib\\site-packages\\plotly\\express\\_core.py:271: FutureWarning:\n",
      "\n",
      "The frame.append method is deprecated and will be removed from pandas in a future version. Use pandas.concat instead.\n",
      "\n",
      "C:\\Users\\joemc\\anaconda3\\lib\\site-packages\\plotly\\express\\_core.py:271: FutureWarning:\n",
      "\n",
      "The frame.append method is deprecated and will be removed from pandas in a future version. Use pandas.concat instead.\n",
      "\n",
      "C:\\Users\\joemc\\anaconda3\\lib\\site-packages\\plotly\\express\\_core.py:271: FutureWarning:\n",
      "\n",
      "The frame.append method is deprecated and will be removed from pandas in a future version. Use pandas.concat instead.\n",
      "\n"
     ]
    },
    {
     "data": {
      "application/vnd.plotly.v1+json": {
       "data": [
        {
         "hovertemplate": "cluster=0<br>value=%{r}<br>variable=%{theta}<extra></extra>",
         "legendgroup": "0",
         "line": {
          "color": "#636efa",
          "dash": "solid"
         },
         "marker": {
          "symbol": "circle"
         },
         "mode": "lines",
         "name": "0",
         "r": [
          8.5,
          12.848484848484848,
          12.303030303030303,
          8.484848484848484,
          12.454545454545455,
          7.53030303030303,
          10.636363636363637,
          9.090909090909092,
          11.727272727272727,
          12.227272727272727,
          12.348484848484848,
          7.954545454545454,
          13.484848484848484,
          12.530303030303031,
          13.575757575757576,
          13.06060606060606,
          14.272727272727273,
          12.484848484848484,
          12.742424242424242,
          12.43939393939394,
          14.5,
          10.818181818181818,
          9.969696969696969,
          13.409090909090908,
          12.606060606060606,
          14.606060606060606,
          11.212121212121213,
          15.515151515151516,
          14.696969696969697,
          13.666666666666666,
          13.530303030303031,
          10.545454545454545,
          14.787878787878787,
          14.818181818181818,
          15.212121212121213,
          12.651515151515152,
          8.5
         ],
         "showlegend": true,
         "subplot": "polar",
         "theta": [
          "Corners",
          "Crossing",
          "Dribbling",
          "Finishing",
          "First Touch",
          "Free Kick Taking",
          "Heading",
          "Long Shots",
          "Long Throws",
          "Marking",
          "Passing",
          "Penalty Taking",
          "Tackling",
          "Technique",
          "Aggression",
          "Anticipation",
          "Bravery",
          "Composure",
          "Concentration",
          "Decisions",
          "Determination",
          "Flair",
          "Leadership",
          "Off the Ball",
          "Positioning",
          "Teamwork",
          "Vision",
          "Work Rate",
          "Acceleration",
          "Agility",
          "Balance",
          "Jumping Reach",
          "Natural Fitness",
          "Pace",
          "Stamina",
          "Strength",
          "Corners"
         ],
         "type": "scatterpolar"
        },
        {
         "hovertemplate": "cluster=1<br>value=%{r}<br>variable=%{theta}<extra></extra>",
         "legendgroup": "1",
         "line": {
          "color": "#EF553B",
          "dash": "solid"
         },
         "marker": {
          "symbol": "circle"
         },
         "mode": "lines",
         "name": "1",
         "r": [
          13.902439024390244,
          13.560975609756097,
          12.170731707317072,
          12.21951219512195,
          14.487804878048781,
          13.878048780487806,
          10.24390243902439,
          13.951219512195122,
          7.780487804878049,
          10.048780487804878,
          15.536585365853659,
          14.512195121951219,
          11.487804878048781,
          14.804878048780488,
          14.24390243902439,
          14.390243902439025,
          14.048780487804878,
          14.365853658536585,
          13.682926829268293,
          14.24390243902439,
          16.24390243902439,
          12.804878048780488,
          14.634146341463415,
          13.878048780487806,
          11.902439024390244,
          15.731707317073171,
          15.0,
          15.341463414634147,
          11.609756097560975,
          12.21951219512195,
          13.0,
          10.414634146341463,
          15.829268292682928,
          11.951219512195122,
          14.75609756097561,
          12.24390243902439,
          13.902439024390244
         ],
         "showlegend": true,
         "subplot": "polar",
         "theta": [
          "Corners",
          "Crossing",
          "Dribbling",
          "Finishing",
          "First Touch",
          "Free Kick Taking",
          "Heading",
          "Long Shots",
          "Long Throws",
          "Marking",
          "Passing",
          "Penalty Taking",
          "Tackling",
          "Technique",
          "Aggression",
          "Anticipation",
          "Bravery",
          "Composure",
          "Concentration",
          "Decisions",
          "Determination",
          "Flair",
          "Leadership",
          "Off the Ball",
          "Positioning",
          "Teamwork",
          "Vision",
          "Work Rate",
          "Acceleration",
          "Agility",
          "Balance",
          "Jumping Reach",
          "Natural Fitness",
          "Pace",
          "Stamina",
          "Strength",
          "Corners"
         ],
         "type": "scatterpolar"
        },
        {
         "hovertemplate": "cluster=2<br>value=%{r}<br>variable=%{theta}<extra></extra>",
         "legendgroup": "2",
         "line": {
          "color": "#00cc96",
          "dash": "solid"
         },
         "marker": {
          "symbol": "circle"
         },
         "mode": "lines",
         "name": "2",
         "r": [
          10.049180327868852,
          11.327868852459016,
          13.081967213114755,
          11.885245901639344,
          14.180327868852459,
          9.836065573770492,
          12.21311475409836,
          12.819672131147541,
          7.311475409836065,
          11.01639344262295,
          14.01639344262295,
          10.819672131147541,
          12.508196721311476,
          14.327868852459016,
          12.557377049180328,
          13.557377049180328,
          12.819672131147541,
          13.688524590163935,
          12.78688524590164,
          13.442622950819672,
          14.098360655737705,
          13.344262295081966,
          10.491803278688524,
          14.098360655737705,
          12.442622950819672,
          14.37704918032787,
          13.475409836065573,
          14.37704918032787,
          13.19672131147541,
          12.901639344262295,
          13.885245901639344,
          12.59016393442623,
          14.163934426229508,
          13.344262295081966,
          14.573770491803279,
          13.344262295081966,
          10.049180327868852
         ],
         "showlegend": true,
         "subplot": "polar",
         "theta": [
          "Corners",
          "Crossing",
          "Dribbling",
          "Finishing",
          "First Touch",
          "Free Kick Taking",
          "Heading",
          "Long Shots",
          "Long Throws",
          "Marking",
          "Passing",
          "Penalty Taking",
          "Tackling",
          "Technique",
          "Aggression",
          "Anticipation",
          "Bravery",
          "Composure",
          "Concentration",
          "Decisions",
          "Determination",
          "Flair",
          "Leadership",
          "Off the Ball",
          "Positioning",
          "Teamwork",
          "Vision",
          "Work Rate",
          "Acceleration",
          "Agility",
          "Balance",
          "Jumping Reach",
          "Natural Fitness",
          "Pace",
          "Stamina",
          "Strength",
          "Corners"
         ],
         "type": "scatterpolar"
        },
        {
         "hovertemplate": "cluster=3<br>value=%{r}<br>variable=%{theta}<extra></extra>",
         "legendgroup": "3",
         "line": {
          "color": "#ab63fa",
          "dash": "solid"
         },
         "marker": {
          "symbol": "circle"
         },
         "mode": "lines",
         "name": "3",
         "r": [
          11.580645161290322,
          12.46774193548387,
          16.016129032258064,
          12.774193548387096,
          14.451612903225806,
          11.903225806451612,
          7.661290322580645,
          12.403225806451612,
          5.258064516129032,
          5.435483870967742,
          13.14516129032258,
          11.64516129032258,
          6.209677419354839,
          15.5,
          10.241935483870968,
          11.693548387096774,
          10.17741935483871,
          12.225806451612904,
          10.32258064516129,
          11.403225806451612,
          12.725806451612904,
          16.241935483870968,
          7.274193548387097,
          13.661290322580646,
          6.774193548387097,
          10.596774193548388,
          13.161290322580646,
          11.64516129032258,
          15.85483870967742,
          15.451612903225806,
          12.887096774193548,
          8.32258064516129,
          13.064516129032258,
          15.516129032258064,
          12.53225806451613,
          9.258064516129032,
          11.580645161290322
         ],
         "showlegend": true,
         "subplot": "polar",
         "theta": [
          "Corners",
          "Crossing",
          "Dribbling",
          "Finishing",
          "First Touch",
          "Free Kick Taking",
          "Heading",
          "Long Shots",
          "Long Throws",
          "Marking",
          "Passing",
          "Penalty Taking",
          "Tackling",
          "Technique",
          "Aggression",
          "Anticipation",
          "Bravery",
          "Composure",
          "Concentration",
          "Decisions",
          "Determination",
          "Flair",
          "Leadership",
          "Off the Ball",
          "Positioning",
          "Teamwork",
          "Vision",
          "Work Rate",
          "Acceleration",
          "Agility",
          "Balance",
          "Jumping Reach",
          "Natural Fitness",
          "Pace",
          "Stamina",
          "Strength",
          "Corners"
         ],
         "type": "scatterpolar"
        },
        {
         "hovertemplate": "cluster=4<br>value=%{r}<br>variable=%{theta}<extra></extra>",
         "legendgroup": "4",
         "line": {
          "color": "#FFA15A",
          "dash": "solid"
         },
         "marker": {
          "symbol": "circle"
         },
         "mode": "lines",
         "name": "4",
         "r": [
          4.875,
          8.625,
          11.196428571428571,
          7.017857142857143,
          12.857142857142858,
          5.892857142857143,
          14.142857142857142,
          7.25,
          8.410714285714286,
          14.357142857142858,
          13.357142857142858,
          7.303571428571429,
          14.839285714285714,
          13.232142857142858,
          12.482142857142858,
          14.303571428571429,
          13.875,
          13.714285714285714,
          13.053571428571429,
          13.053571428571429,
          13.964285714285714,
          9.785714285714286,
          10.392857142857142,
          9.607142857142858,
          14.089285714285714,
          14.071428571428571,
          12.0,
          13.732142857142858,
          13.732142857142858,
          12.821428571428571,
          13.214285714285714,
          14.482142857142858,
          14.089285714285714,
          14.714285714285714,
          14.071428571428571,
          14.035714285714286,
          4.875
         ],
         "showlegend": true,
         "subplot": "polar",
         "theta": [
          "Corners",
          "Crossing",
          "Dribbling",
          "Finishing",
          "First Touch",
          "Free Kick Taking",
          "Heading",
          "Long Shots",
          "Long Throws",
          "Marking",
          "Passing",
          "Penalty Taking",
          "Tackling",
          "Technique",
          "Aggression",
          "Anticipation",
          "Bravery",
          "Composure",
          "Concentration",
          "Decisions",
          "Determination",
          "Flair",
          "Leadership",
          "Off the Ball",
          "Positioning",
          "Teamwork",
          "Vision",
          "Work Rate",
          "Acceleration",
          "Agility",
          "Balance",
          "Jumping Reach",
          "Natural Fitness",
          "Pace",
          "Stamina",
          "Strength",
          "Corners"
         ],
         "type": "scatterpolar"
        },
        {
         "hovertemplate": "cluster=5<br>value=%{r}<br>variable=%{theta}<extra></extra>",
         "legendgroup": "5",
         "line": {
          "color": "#19d3f3",
          "dash": "solid"
         },
         "marker": {
          "symbol": "circle"
         },
         "mode": "lines",
         "name": "5",
         "r": [
          9.090909090909092,
          10.590909090909092,
          12.840909090909092,
          9.090909090909092,
          14.5,
          9.25,
          8.477272727272727,
          10.340909090909092,
          5.659090909090909,
          12.363636363636363,
          14.75,
          9.454545454545455,
          14.659090909090908,
          14.409090909090908,
          14.75,
          14.909090909090908,
          14.659090909090908,
          13.977272727272727,
          13.909090909090908,
          13.704545454545455,
          15.75,
          11.886363636363637,
          11.295454545454545,
          12.795454545454545,
          13.795454545454545,
          15.795454545454545,
          13.659090909090908,
          16.136363636363637,
          13.409090909090908,
          14.022727272727273,
          14.454545454545455,
          8.477272727272727,
          14.931818181818182,
          12.795454545454545,
          15.613636363636363,
          11.863636363636363,
          9.090909090909092
         ],
         "showlegend": true,
         "subplot": "polar",
         "theta": [
          "Corners",
          "Crossing",
          "Dribbling",
          "Finishing",
          "First Touch",
          "Free Kick Taking",
          "Heading",
          "Long Shots",
          "Long Throws",
          "Marking",
          "Passing",
          "Penalty Taking",
          "Tackling",
          "Technique",
          "Aggression",
          "Anticipation",
          "Bravery",
          "Composure",
          "Concentration",
          "Decisions",
          "Determination",
          "Flair",
          "Leadership",
          "Off the Ball",
          "Positioning",
          "Teamwork",
          "Vision",
          "Work Rate",
          "Acceleration",
          "Agility",
          "Balance",
          "Jumping Reach",
          "Natural Fitness",
          "Pace",
          "Stamina",
          "Strength",
          "Corners"
         ],
         "type": "scatterpolar"
        },
        {
         "hovertemplate": "cluster=6<br>value=%{r}<br>variable=%{theta}<extra></extra>",
         "legendgroup": "6",
         "line": {
          "color": "#FF6692",
          "dash": "solid"
         },
         "marker": {
          "symbol": "circle"
         },
         "mode": "lines",
         "name": "6",
         "r": [
          7.27027027027027,
          10.324324324324325,
          14.013513513513514,
          13.95945945945946,
          13.364864864864865,
          8.675675675675675,
          12.04054054054054,
          11.243243243243244,
          5.418918918918919,
          5.756756756756757,
          12.135135135135135,
          12.162162162162161,
          6.648648648648648,
          13.85135135135135,
          11.91891891891892,
          12.81081081081081,
          13.054054054054054,
          12.783783783783784,
          11.554054054054054,
          11.702702702702704,
          14.0,
          13.932432432432432,
          8.513513513513514,
          14.35135135135135,
          7.5,
          12.527027027027026,
          11.716216216216216,
          13.716216216216216,
          15.45945945945946,
          14.108108108108109,
          13.54054054054054,
          12.256756756756756,
          14.283783783783784,
          15.486486486486486,
          13.702702702702704,
          13.432432432432432,
          7.27027027027027
         ],
         "showlegend": true,
         "subplot": "polar",
         "theta": [
          "Corners",
          "Crossing",
          "Dribbling",
          "Finishing",
          "First Touch",
          "Free Kick Taking",
          "Heading",
          "Long Shots",
          "Long Throws",
          "Marking",
          "Passing",
          "Penalty Taking",
          "Tackling",
          "Technique",
          "Aggression",
          "Anticipation",
          "Bravery",
          "Composure",
          "Concentration",
          "Decisions",
          "Determination",
          "Flair",
          "Leadership",
          "Off the Ball",
          "Positioning",
          "Teamwork",
          "Vision",
          "Work Rate",
          "Acceleration",
          "Agility",
          "Balance",
          "Jumping Reach",
          "Natural Fitness",
          "Pace",
          "Stamina",
          "Strength",
          "Corners"
         ],
         "type": "scatterpolar"
        },
        {
         "hovertemplate": "cluster=7<br>value=%{r}<br>variable=%{theta}<extra></extra>",
         "legendgroup": "7",
         "line": {
          "color": "#B6E880",
          "dash": "solid"
         },
         "marker": {
          "symbol": "circle"
         },
         "mode": "lines",
         "name": "7",
         "r": [
          4.043478260869565,
          6.739130434782608,
          9.304347826086957,
          7.304347826086956,
          11.478260869565217,
          4.717391304347826,
          15.26086956521739,
          5.934782608695652,
          8.173913043478262,
          14.782608695652174,
          12.130434782608695,
          7.5,
          15.347826086956522,
          11.5,
          14.456521739130435,
          14.26086956521739,
          15.652173913043478,
          12.695652173913043,
          12.630434782608695,
          12.673913043478262,
          14.804347826086957,
          8.065217391304348,
          11.73913043478261,
          7.978260869565218,
          14.217391304347826,
          14.391304347826088,
          10.23913043478261,
          14.23913043478261,
          12.73913043478261,
          11.543478260869565,
          14.608695652173912,
          15.478260869565217,
          15.065217391304348,
          14.0,
          14.565217391304348,
          15.847826086956522,
          4.043478260869565
         ],
         "showlegend": true,
         "subplot": "polar",
         "theta": [
          "Corners",
          "Crossing",
          "Dribbling",
          "Finishing",
          "First Touch",
          "Free Kick Taking",
          "Heading",
          "Long Shots",
          "Long Throws",
          "Marking",
          "Passing",
          "Penalty Taking",
          "Tackling",
          "Technique",
          "Aggression",
          "Anticipation",
          "Bravery",
          "Composure",
          "Concentration",
          "Decisions",
          "Determination",
          "Flair",
          "Leadership",
          "Off the Ball",
          "Positioning",
          "Teamwork",
          "Vision",
          "Work Rate",
          "Acceleration",
          "Agility",
          "Balance",
          "Jumping Reach",
          "Natural Fitness",
          "Pace",
          "Stamina",
          "Strength",
          "Corners"
         ],
         "type": "scatterpolar"
        },
        {
         "hovertemplate": "cluster=8<br>value=%{r}<br>variable=%{theta}<extra></extra>",
         "legendgroup": "8",
         "line": {
          "color": "#FF97FF",
          "dash": "solid"
         },
         "marker": {
          "symbol": "circle"
         },
         "mode": "lines",
         "name": "8",
         "r": [
          6.5588235294117645,
          9.382352941176471,
          11.235294117647058,
          9.235294117647058,
          14.117647058823529,
          8.029411764705882,
          14.205882352941176,
          10.176470588235293,
          7.882352941176471,
          13.941176470588236,
          14.911764705882353,
          10.529411764705882,
          14.970588235294118,
          14.205882352941176,
          12.794117647058824,
          15.235294117647058,
          14.235294117647058,
          16.029411764705884,
          15.294117647058824,
          15.029411764705882,
          14.5,
          9.147058823529411,
          13.823529411764707,
          11.264705882352942,
          15.294117647058824,
          16.0,
          13.911764705882353,
          14.588235294117647,
          10.970588235294118,
          11.029411764705882,
          14.058823529411764,
          14.147058823529411,
          14.852941176470589,
          11.676470588235293,
          14.529411764705882,
          14.558823529411764,
          6.5588235294117645
         ],
         "showlegend": true,
         "subplot": "polar",
         "theta": [
          "Corners",
          "Crossing",
          "Dribbling",
          "Finishing",
          "First Touch",
          "Free Kick Taking",
          "Heading",
          "Long Shots",
          "Long Throws",
          "Marking",
          "Passing",
          "Penalty Taking",
          "Tackling",
          "Technique",
          "Aggression",
          "Anticipation",
          "Bravery",
          "Composure",
          "Concentration",
          "Decisions",
          "Determination",
          "Flair",
          "Leadership",
          "Off the Ball",
          "Positioning",
          "Teamwork",
          "Vision",
          "Work Rate",
          "Acceleration",
          "Agility",
          "Balance",
          "Jumping Reach",
          "Natural Fitness",
          "Pace",
          "Stamina",
          "Strength",
          "Corners"
         ],
         "type": "scatterpolar"
        },
        {
         "hovertemplate": "cluster=9<br>value=%{r}<br>variable=%{theta}<extra></extra>",
         "legendgroup": "9",
         "line": {
          "color": "#FECB52",
          "dash": "solid"
         },
         "marker": {
          "symbol": "circle"
         },
         "mode": "lines",
         "name": "9",
         "r": [
          13.609756097560975,
          14.146341463414634,
          14.853658536585366,
          12.048780487804878,
          16.682926829268293,
          13.585365853658537,
          8.0,
          13.048780487804878,
          6.073170731707317,
          8.682926829268293,
          16.658536585365855,
          13.146341463414634,
          10.487804878048781,
          16.682926829268293,
          10.853658536585366,
          15.390243902439025,
          11.609756097560975,
          15.536585365853659,
          13.926829268292684,
          15.317073170731707,
          14.146341463414634,
          14.975609756097562,
          11.195121951219512,
          14.536585365853659,
          11.414634146341463,
          15.390243902439025,
          16.658536585365855,
          13.975609756097562,
          12.439024390243903,
          14.073170731707316,
          13.24390243902439,
          8.341463414634147,
          12.878048780487806,
          12.097560975609756,
          13.365853658536585,
          9.975609756097562,
          13.609756097560975
         ],
         "showlegend": true,
         "subplot": "polar",
         "theta": [
          "Corners",
          "Crossing",
          "Dribbling",
          "Finishing",
          "First Touch",
          "Free Kick Taking",
          "Heading",
          "Long Shots",
          "Long Throws",
          "Marking",
          "Passing",
          "Penalty Taking",
          "Tackling",
          "Technique",
          "Aggression",
          "Anticipation",
          "Bravery",
          "Composure",
          "Concentration",
          "Decisions",
          "Determination",
          "Flair",
          "Leadership",
          "Off the Ball",
          "Positioning",
          "Teamwork",
          "Vision",
          "Work Rate",
          "Acceleration",
          "Agility",
          "Balance",
          "Jumping Reach",
          "Natural Fitness",
          "Pace",
          "Stamina",
          "Strength",
          "Corners"
         ],
         "type": "scatterpolar"
        },
        {
         "hovertemplate": "cluster=10<br>value=%{r}<br>variable=%{theta}<extra></extra>",
         "legendgroup": "10",
         "line": {
          "color": "#636efa",
          "dash": "solid"
         },
         "marker": {
          "symbol": "circle"
         },
         "mode": "lines",
         "name": "10",
         "r": [
          5.614035087719298,
          8.31578947368421,
          9.105263157894736,
          7.754385964912281,
          11.491228070175438,
          6.5964912280701755,
          14.947368421052632,
          7.473684210526316,
          9.807017543859649,
          14.947368421052632,
          12.526315789473685,
          7.947368421052632,
          15.087719298245615,
          11.614035087719298,
          14.350877192982455,
          14.701754385964913,
          15.508771929824562,
          13.666666666666666,
          14.298245614035087,
          13.894736842105264,
          15.105263157894736,
          7.245614035087719,
          14.719298245614034,
          9.140350877192983,
          15.0,
          15.052631578947368,
          10.912280701754385,
          14.649122807017545,
          11.842105263157896,
          11.228070175438596,
          13.017543859649123,
          14.596491228070175,
          13.491228070175438,
          12.473684210526315,
          14.070175438596491,
          14.789473684210526,
          5.614035087719298
         ],
         "showlegend": true,
         "subplot": "polar",
         "theta": [
          "Corners",
          "Crossing",
          "Dribbling",
          "Finishing",
          "First Touch",
          "Free Kick Taking",
          "Heading",
          "Long Shots",
          "Long Throws",
          "Marking",
          "Passing",
          "Penalty Taking",
          "Tackling",
          "Technique",
          "Aggression",
          "Anticipation",
          "Bravery",
          "Composure",
          "Concentration",
          "Decisions",
          "Determination",
          "Flair",
          "Leadership",
          "Off the Ball",
          "Positioning",
          "Teamwork",
          "Vision",
          "Work Rate",
          "Acceleration",
          "Agility",
          "Balance",
          "Jumping Reach",
          "Natural Fitness",
          "Pace",
          "Stamina",
          "Strength",
          "Corners"
         ],
         "type": "scatterpolar"
        },
        {
         "hovertemplate": "cluster=11<br>value=%{r}<br>variable=%{theta}<extra></extra>",
         "legendgroup": "11",
         "line": {
          "color": "#EF553B",
          "dash": "solid"
         },
         "marker": {
          "symbol": "circle"
         },
         "mode": "lines",
         "name": "11",
         "r": [
          9.688888888888888,
          12.466666666666667,
          13.844444444444445,
          10.466666666666667,
          12.88888888888889,
          8.844444444444445,
          7.733333333333333,
          10.755555555555556,
          8.644444444444444,
          9.155555555555555,
          12.422222222222222,
          9.2,
          10.755555555555556,
          13.6,
          11.533333333333333,
          12.222222222222221,
          12.2,
          11.28888888888889,
          11.222222222222221,
          11.511111111111111,
          13.844444444444445,
          13.355555555555556,
          7.644444444444445,
          13.755555555555556,
          10.11111111111111,
          12.88888888888889,
          12.11111111111111,
          14.177777777777777,
          15.755555555555556,
          14.066666666666666,
          12.777777777777779,
          8.511111111111111,
          14.355555555555556,
          15.822222222222223,
          14.044444444444444,
          10.844444444444445,
          9.688888888888888
         ],
         "showlegend": true,
         "subplot": "polar",
         "theta": [
          "Corners",
          "Crossing",
          "Dribbling",
          "Finishing",
          "First Touch",
          "Free Kick Taking",
          "Heading",
          "Long Shots",
          "Long Throws",
          "Marking",
          "Passing",
          "Penalty Taking",
          "Tackling",
          "Technique",
          "Aggression",
          "Anticipation",
          "Bravery",
          "Composure",
          "Concentration",
          "Decisions",
          "Determination",
          "Flair",
          "Leadership",
          "Off the Ball",
          "Positioning",
          "Teamwork",
          "Vision",
          "Work Rate",
          "Acceleration",
          "Agility",
          "Balance",
          "Jumping Reach",
          "Natural Fitness",
          "Pace",
          "Stamina",
          "Strength",
          "Corners"
         ],
         "type": "scatterpolar"
        },
        {
         "hovertemplate": "cluster=12<br>value=%{r}<br>variable=%{theta}<extra></extra>",
         "legendgroup": "12",
         "line": {
          "color": "#00cc96",
          "dash": "solid"
         },
         "marker": {
          "symbol": "circle"
         },
         "mode": "lines",
         "name": "12",
         "r": [
          13.647887323943662,
          13.95774647887324,
          15.535211267605634,
          13.732394366197184,
          15.887323943661972,
          13.901408450704226,
          8.084507042253522,
          14.070422535211268,
          5.112676056338028,
          5.366197183098592,
          15.169014084507042,
          14.267605633802816,
          6.859154929577465,
          16.408450704225352,
          10.295774647887324,
          13.859154929577464,
          10.704225352112676,
          13.859154929577464,
          11.915492957746478,
          13.67605633802817,
          14.0,
          15.929577464788732,
          11.56338028169014,
          14.577464788732394,
          7.323943661971831,
          12.47887323943662,
          15.352112676056338,
          12.492957746478874,
          14.014084507042254,
          14.746478873239436,
          13.619718309859154,
          8.43661971830986,
          13.492957746478874,
          13.366197183098592,
          12.943661971830986,
          10.19718309859155,
          13.647887323943662
         ],
         "showlegend": true,
         "subplot": "polar",
         "theta": [
          "Corners",
          "Crossing",
          "Dribbling",
          "Finishing",
          "First Touch",
          "Free Kick Taking",
          "Heading",
          "Long Shots",
          "Long Throws",
          "Marking",
          "Passing",
          "Penalty Taking",
          "Tackling",
          "Technique",
          "Aggression",
          "Anticipation",
          "Bravery",
          "Composure",
          "Concentration",
          "Decisions",
          "Determination",
          "Flair",
          "Leadership",
          "Off the Ball",
          "Positioning",
          "Teamwork",
          "Vision",
          "Work Rate",
          "Acceleration",
          "Agility",
          "Balance",
          "Jumping Reach",
          "Natural Fitness",
          "Pace",
          "Stamina",
          "Strength",
          "Corners"
         ],
         "type": "scatterpolar"
        },
        {
         "hovertemplate": "cluster=13<br>value=%{r}<br>variable=%{theta}<extra></extra>",
         "legendgroup": "13",
         "line": {
          "color": "#ab63fa",
          "dash": "solid"
         },
         "marker": {
          "symbol": "circle"
         },
         "mode": "lines",
         "name": "13",
         "r": [
          12.779411764705882,
          13.529411764705882,
          12.985294117647058,
          9.926470588235293,
          13.808823529411764,
          12.411764705882353,
          8.5,
          11.794117647058824,
          9.867647058823529,
          11.308823529411764,
          13.955882352941176,
          10.926470588235293,
          12.602941176470589,
          13.926470588235293,
          12.588235294117647,
          13.588235294117647,
          13.117647058823529,
          13.338235294117647,
          13.176470588235293,
          13.455882352941176,
          14.308823529411764,
          12.485294117647058,
          11.117647058823529,
          13.735294117647058,
          12.441176470588236,
          15.044117647058824,
          13.426470588235293,
          14.852941176470589,
          13.691176470588236,
          13.735294117647058,
          12.779411764705882,
          8.852941176470589,
          14.073529411764707,
          13.397058823529411,
          14.602941176470589,
          10.808823529411764,
          12.779411764705882
         ],
         "showlegend": true,
         "subplot": "polar",
         "theta": [
          "Corners",
          "Crossing",
          "Dribbling",
          "Finishing",
          "First Touch",
          "Free Kick Taking",
          "Heading",
          "Long Shots",
          "Long Throws",
          "Marking",
          "Passing",
          "Penalty Taking",
          "Tackling",
          "Technique",
          "Aggression",
          "Anticipation",
          "Bravery",
          "Composure",
          "Concentration",
          "Decisions",
          "Determination",
          "Flair",
          "Leadership",
          "Off the Ball",
          "Positioning",
          "Teamwork",
          "Vision",
          "Work Rate",
          "Acceleration",
          "Agility",
          "Balance",
          "Jumping Reach",
          "Natural Fitness",
          "Pace",
          "Stamina",
          "Strength",
          "Corners"
         ],
         "type": "scatterpolar"
        },
        {
         "hovertemplate": "cluster=14<br>value=%{r}<br>variable=%{theta}<extra></extra>",
         "legendgroup": "14",
         "line": {
          "color": "#FFA15A",
          "dash": "solid"
         },
         "marker": {
          "symbol": "circle"
         },
         "mode": "lines",
         "name": "14",
         "r": [
          6.037037037037037,
          9.462962962962964,
          12.25925925925926,
          15.055555555555555,
          13.462962962962964,
          9.351851851851851,
          14.981481481481481,
          12.074074074074074,
          5.074074074074074,
          6.2592592592592595,
          12.314814814814815,
          14.222222222222221,
          7.944444444444445,
          13.444444444444445,
          14.24074074074074,
          14.833333333333334,
          15.25925925925926,
          13.685185185185185,
          13.537037037037036,
          13.37037037037037,
          16.27777777777778,
          13.037037037037036,
          11.314814814814815,
          15.61111111111111,
          7.574074074074074,
          15.296296296296296,
          12.537037037037036,
          15.74074074074074,
          13.018518518518519,
          12.61111111111111,
          14.851851851851851,
          14.055555555555555,
          14.962962962962964,
          13.851851851851851,
          14.314814814814815,
          14.962962962962964,
          6.037037037037037
         ],
         "showlegend": true,
         "subplot": "polar",
         "theta": [
          "Corners",
          "Crossing",
          "Dribbling",
          "Finishing",
          "First Touch",
          "Free Kick Taking",
          "Heading",
          "Long Shots",
          "Long Throws",
          "Marking",
          "Passing",
          "Penalty Taking",
          "Tackling",
          "Technique",
          "Aggression",
          "Anticipation",
          "Bravery",
          "Composure",
          "Concentration",
          "Decisions",
          "Determination",
          "Flair",
          "Leadership",
          "Off the Ball",
          "Positioning",
          "Teamwork",
          "Vision",
          "Work Rate",
          "Acceleration",
          "Agility",
          "Balance",
          "Jumping Reach",
          "Natural Fitness",
          "Pace",
          "Stamina",
          "Strength",
          "Corners"
         ],
         "type": "scatterpolar"
        },
        {
         "hovertemplate": "cluster=15<br>value=%{r}<br>variable=%{theta}<extra></extra>",
         "legendgroup": "15",
         "line": {
          "color": "#19d3f3",
          "dash": "solid"
         },
         "marker": {
          "symbol": "circle"
         },
         "mode": "lines",
         "name": "15",
         "r": [
          11.847058823529412,
          12.75294117647059,
          14.929411764705883,
          12.623529411764705,
          14.729411764705882,
          11.494117647058824,
          8.011764705882353,
          12.447058823529412,
          6.2,
          7.152941176470589,
          14.223529411764705,
          11.564705882352941,
          8.75294117647059,
          15.305882352941177,
          11.988235294117647,
          13.435294117647059,
          11.705882352941176,
          13.282352941176471,
          12.176470588235293,
          12.988235294117647,
          14.16470588235294,
          15.070588235294117,
          8.541176470588235,
          14.16470588235294,
          8.858823529411765,
          13.694117647058823,
          14.211764705882352,
          13.858823529411765,
          14.364705882352942,
          14.91764705882353,
          13.129411764705882,
          7.8352941176470585,
          13.611764705882353,
          13.964705882352941,
          13.447058823529412,
          9.988235294117647,
          11.847058823529412
         ],
         "showlegend": true,
         "subplot": "polar",
         "theta": [
          "Corners",
          "Crossing",
          "Dribbling",
          "Finishing",
          "First Touch",
          "Free Kick Taking",
          "Heading",
          "Long Shots",
          "Long Throws",
          "Marking",
          "Passing",
          "Penalty Taking",
          "Tackling",
          "Technique",
          "Aggression",
          "Anticipation",
          "Bravery",
          "Composure",
          "Concentration",
          "Decisions",
          "Determination",
          "Flair",
          "Leadership",
          "Off the Ball",
          "Positioning",
          "Teamwork",
          "Vision",
          "Work Rate",
          "Acceleration",
          "Agility",
          "Balance",
          "Jumping Reach",
          "Natural Fitness",
          "Pace",
          "Stamina",
          "Strength",
          "Corners"
         ],
         "type": "scatterpolar"
        },
        {
         "hovertemplate": "cluster=16<br>value=%{r}<br>variable=%{theta}<extra></extra>",
         "legendgroup": "16",
         "line": {
          "color": "#FF6692",
          "dash": "solid"
         },
         "marker": {
          "symbol": "circle"
         },
         "mode": "lines",
         "name": "16",
         "r": [
          7.811594202898551,
          10.101449275362318,
          11.565217391304348,
          9.115942028985508,
          12.797101449275363,
          8.869565217391305,
          13.289855072463768,
          10.91304347826087,
          9.217391304347826,
          13.289855072463768,
          13.579710144927537,
          9.594202898550725,
          14.956521739130435,
          13.072463768115941,
          15.521739130434783,
          14.333333333333334,
          15.782608695652174,
          13.55072463768116,
          13.594202898550725,
          13.144927536231885,
          15.492753623188406,
          10.115942028985508,
          12.782608695652174,
          12.217391304347826,
          13.869565217391305,
          15.608695652173912,
          12.405797101449275,
          15.869565217391305,
          12.797101449275363,
          12.63768115942029,
          14.072463768115941,
          13.028985507246377,
          15.08695652173913,
          13.246376811594203,
          15.565217391304348,
          14.565217391304348,
          7.811594202898551
         ],
         "showlegend": true,
         "subplot": "polar",
         "theta": [
          "Corners",
          "Crossing",
          "Dribbling",
          "Finishing",
          "First Touch",
          "Free Kick Taking",
          "Heading",
          "Long Shots",
          "Long Throws",
          "Marking",
          "Passing",
          "Penalty Taking",
          "Tackling",
          "Technique",
          "Aggression",
          "Anticipation",
          "Bravery",
          "Composure",
          "Concentration",
          "Decisions",
          "Determination",
          "Flair",
          "Leadership",
          "Off the Ball",
          "Positioning",
          "Teamwork",
          "Vision",
          "Work Rate",
          "Acceleration",
          "Agility",
          "Balance",
          "Jumping Reach",
          "Natural Fitness",
          "Pace",
          "Stamina",
          "Strength",
          "Corners"
         ],
         "type": "scatterpolar"
        },
        {
         "hovertemplate": "cluster=17<br>value=%{r}<br>variable=%{theta}<extra></extra>",
         "legendgroup": "17",
         "line": {
          "color": "#B6E880",
          "dash": "solid"
         },
         "marker": {
          "symbol": "circle"
         },
         "mode": "lines",
         "name": "17",
         "r": [
          8.346153846153847,
          11.038461538461538,
          13.538461538461538,
          14.846153846153847,
          15.153846153846153,
          12.307692307692308,
          13.884615384615385,
          13.5,
          5.730769230769231,
          5.346153846153846,
          13.73076923076923,
          14.76923076923077,
          6.3076923076923075,
          15.5,
          11.653846153846153,
          14.26923076923077,
          12.5,
          14.192307692307692,
          11.73076923076923,
          12.615384615384615,
          13.23076923076923,
          15.346153846153847,
          10.961538461538462,
          14.5,
          6.538461538461538,
          11.73076923076923,
          13.923076923076923,
          10.153846153846153,
          12.307692307692308,
          11.923076923076923,
          14.76923076923077,
          13.384615384615385,
          13.038461538461538,
          12.653846153846153,
          11.923076923076923,
          14.73076923076923,
          8.346153846153847
         ],
         "showlegend": true,
         "subplot": "polar",
         "theta": [
          "Corners",
          "Crossing",
          "Dribbling",
          "Finishing",
          "First Touch",
          "Free Kick Taking",
          "Heading",
          "Long Shots",
          "Long Throws",
          "Marking",
          "Passing",
          "Penalty Taking",
          "Tackling",
          "Technique",
          "Aggression",
          "Anticipation",
          "Bravery",
          "Composure",
          "Concentration",
          "Decisions",
          "Determination",
          "Flair",
          "Leadership",
          "Off the Ball",
          "Positioning",
          "Teamwork",
          "Vision",
          "Work Rate",
          "Acceleration",
          "Agility",
          "Balance",
          "Jumping Reach",
          "Natural Fitness",
          "Pace",
          "Stamina",
          "Strength",
          "Corners"
         ],
         "type": "scatterpolar"
        }
       ],
       "layout": {
        "template": {
         "data": {
          "histogram2dcontour": [
           {
            "type": "histogram2dcontour",
            "colorbar": {
             "outlinewidth": 0,
             "ticks": ""
            },
            "colorscale": [
             [
              0.0,
              "#0d0887"
             ],
             [
              0.1111111111111111,
              "#46039f"
             ],
             [
              0.2222222222222222,
              "#7201a8"
             ],
             [
              0.3333333333333333,
              "#9c179e"
             ],
             [
              0.4444444444444444,
              "#bd3786"
             ],
             [
              0.5555555555555556,
              "#d8576b"
             ],
             [
              0.6666666666666666,
              "#ed7953"
             ],
             [
              0.7777777777777778,
              "#fb9f3a"
             ],
             [
              0.8888888888888888,
              "#fdca26"
             ],
             [
              1.0,
              "#f0f921"
             ]
            ]
           }
          ],
          "choropleth": [
           {
            "type": "choropleth",
            "colorbar": {
             "outlinewidth": 0,
             "ticks": ""
            }
           }
          ],
          "histogram2d": [
           {
            "type": "histogram2d",
            "colorbar": {
             "outlinewidth": 0,
             "ticks": ""
            },
            "colorscale": [
             [
              0.0,
              "#0d0887"
             ],
             [
              0.1111111111111111,
              "#46039f"
             ],
             [
              0.2222222222222222,
              "#7201a8"
             ],
             [
              0.3333333333333333,
              "#9c179e"
             ],
             [
              0.4444444444444444,
              "#bd3786"
             ],
             [
              0.5555555555555556,
              "#d8576b"
             ],
             [
              0.6666666666666666,
              "#ed7953"
             ],
             [
              0.7777777777777778,
              "#fb9f3a"
             ],
             [
              0.8888888888888888,
              "#fdca26"
             ],
             [
              1.0,
              "#f0f921"
             ]
            ]
           }
          ],
          "heatmap": [
           {
            "type": "heatmap",
            "colorbar": {
             "outlinewidth": 0,
             "ticks": ""
            },
            "colorscale": [
             [
              0.0,
              "#0d0887"
             ],
             [
              0.1111111111111111,
              "#46039f"
             ],
             [
              0.2222222222222222,
              "#7201a8"
             ],
             [
              0.3333333333333333,
              "#9c179e"
             ],
             [
              0.4444444444444444,
              "#bd3786"
             ],
             [
              0.5555555555555556,
              "#d8576b"
             ],
             [
              0.6666666666666666,
              "#ed7953"
             ],
             [
              0.7777777777777778,
              "#fb9f3a"
             ],
             [
              0.8888888888888888,
              "#fdca26"
             ],
             [
              1.0,
              "#f0f921"
             ]
            ]
           }
          ],
          "heatmapgl": [
           {
            "type": "heatmapgl",
            "colorbar": {
             "outlinewidth": 0,
             "ticks": ""
            },
            "colorscale": [
             [
              0.0,
              "#0d0887"
             ],
             [
              0.1111111111111111,
              "#46039f"
             ],
             [
              0.2222222222222222,
              "#7201a8"
             ],
             [
              0.3333333333333333,
              "#9c179e"
             ],
             [
              0.4444444444444444,
              "#bd3786"
             ],
             [
              0.5555555555555556,
              "#d8576b"
             ],
             [
              0.6666666666666666,
              "#ed7953"
             ],
             [
              0.7777777777777778,
              "#fb9f3a"
             ],
             [
              0.8888888888888888,
              "#fdca26"
             ],
             [
              1.0,
              "#f0f921"
             ]
            ]
           }
          ],
          "contourcarpet": [
           {
            "type": "contourcarpet",
            "colorbar": {
             "outlinewidth": 0,
             "ticks": ""
            }
           }
          ],
          "contour": [
           {
            "type": "contour",
            "colorbar": {
             "outlinewidth": 0,
             "ticks": ""
            },
            "colorscale": [
             [
              0.0,
              "#0d0887"
             ],
             [
              0.1111111111111111,
              "#46039f"
             ],
             [
              0.2222222222222222,
              "#7201a8"
             ],
             [
              0.3333333333333333,
              "#9c179e"
             ],
             [
              0.4444444444444444,
              "#bd3786"
             ],
             [
              0.5555555555555556,
              "#d8576b"
             ],
             [
              0.6666666666666666,
              "#ed7953"
             ],
             [
              0.7777777777777778,
              "#fb9f3a"
             ],
             [
              0.8888888888888888,
              "#fdca26"
             ],
             [
              1.0,
              "#f0f921"
             ]
            ]
           }
          ],
          "surface": [
           {
            "type": "surface",
            "colorbar": {
             "outlinewidth": 0,
             "ticks": ""
            },
            "colorscale": [
             [
              0.0,
              "#0d0887"
             ],
             [
              0.1111111111111111,
              "#46039f"
             ],
             [
              0.2222222222222222,
              "#7201a8"
             ],
             [
              0.3333333333333333,
              "#9c179e"
             ],
             [
              0.4444444444444444,
              "#bd3786"
             ],
             [
              0.5555555555555556,
              "#d8576b"
             ],
             [
              0.6666666666666666,
              "#ed7953"
             ],
             [
              0.7777777777777778,
              "#fb9f3a"
             ],
             [
              0.8888888888888888,
              "#fdca26"
             ],
             [
              1.0,
              "#f0f921"
             ]
            ]
           }
          ],
          "mesh3d": [
           {
            "type": "mesh3d",
            "colorbar": {
             "outlinewidth": 0,
             "ticks": ""
            }
           }
          ],
          "scatter": [
           {
            "fillpattern": {
             "fillmode": "overlay",
             "size": 10,
             "solidity": 0.2
            },
            "type": "scatter"
           }
          ],
          "parcoords": [
           {
            "type": "parcoords",
            "line": {
             "colorbar": {
              "outlinewidth": 0,
              "ticks": ""
             }
            }
           }
          ],
          "scatterpolargl": [
           {
            "type": "scatterpolargl",
            "marker": {
             "colorbar": {
              "outlinewidth": 0,
              "ticks": ""
             }
            }
           }
          ],
          "bar": [
           {
            "error_x": {
             "color": "#2a3f5f"
            },
            "error_y": {
             "color": "#2a3f5f"
            },
            "marker": {
             "line": {
              "color": "#E5ECF6",
              "width": 0.5
             },
             "pattern": {
              "fillmode": "overlay",
              "size": 10,
              "solidity": 0.2
             }
            },
            "type": "bar"
           }
          ],
          "scattergeo": [
           {
            "type": "scattergeo",
            "marker": {
             "colorbar": {
              "outlinewidth": 0,
              "ticks": ""
             }
            }
           }
          ],
          "scatterpolar": [
           {
            "type": "scatterpolar",
            "marker": {
             "colorbar": {
              "outlinewidth": 0,
              "ticks": ""
             }
            }
           }
          ],
          "histogram": [
           {
            "marker": {
             "pattern": {
              "fillmode": "overlay",
              "size": 10,
              "solidity": 0.2
             }
            },
            "type": "histogram"
           }
          ],
          "scattergl": [
           {
            "type": "scattergl",
            "marker": {
             "colorbar": {
              "outlinewidth": 0,
              "ticks": ""
             }
            }
           }
          ],
          "scatter3d": [
           {
            "type": "scatter3d",
            "line": {
             "colorbar": {
              "outlinewidth": 0,
              "ticks": ""
             }
            },
            "marker": {
             "colorbar": {
              "outlinewidth": 0,
              "ticks": ""
             }
            }
           }
          ],
          "scattermapbox": [
           {
            "type": "scattermapbox",
            "marker": {
             "colorbar": {
              "outlinewidth": 0,
              "ticks": ""
             }
            }
           }
          ],
          "scatterternary": [
           {
            "type": "scatterternary",
            "marker": {
             "colorbar": {
              "outlinewidth": 0,
              "ticks": ""
             }
            }
           }
          ],
          "scattercarpet": [
           {
            "type": "scattercarpet",
            "marker": {
             "colorbar": {
              "outlinewidth": 0,
              "ticks": ""
             }
            }
           }
          ],
          "carpet": [
           {
            "aaxis": {
             "endlinecolor": "#2a3f5f",
             "gridcolor": "white",
             "linecolor": "white",
             "minorgridcolor": "white",
             "startlinecolor": "#2a3f5f"
            },
            "baxis": {
             "endlinecolor": "#2a3f5f",
             "gridcolor": "white",
             "linecolor": "white",
             "minorgridcolor": "white",
             "startlinecolor": "#2a3f5f"
            },
            "type": "carpet"
           }
          ],
          "table": [
           {
            "cells": {
             "fill": {
              "color": "#EBF0F8"
             },
             "line": {
              "color": "white"
             }
            },
            "header": {
             "fill": {
              "color": "#C8D4E3"
             },
             "line": {
              "color": "white"
             }
            },
            "type": "table"
           }
          ],
          "barpolar": [
           {
            "marker": {
             "line": {
              "color": "#E5ECF6",
              "width": 0.5
             },
             "pattern": {
              "fillmode": "overlay",
              "size": 10,
              "solidity": 0.2
             }
            },
            "type": "barpolar"
           }
          ],
          "pie": [
           {
            "automargin": true,
            "type": "pie"
           }
          ]
         },
         "layout": {
          "autotypenumbers": "strict",
          "colorway": [
           "#636efa",
           "#EF553B",
           "#00cc96",
           "#ab63fa",
           "#FFA15A",
           "#19d3f3",
           "#FF6692",
           "#B6E880",
           "#FF97FF",
           "#FECB52"
          ],
          "font": {
           "color": "#2a3f5f"
          },
          "hovermode": "closest",
          "hoverlabel": {
           "align": "left"
          },
          "paper_bgcolor": "white",
          "plot_bgcolor": "#E5ECF6",
          "polar": {
           "bgcolor": "#E5ECF6",
           "angularaxis": {
            "gridcolor": "white",
            "linecolor": "white",
            "ticks": ""
           },
           "radialaxis": {
            "gridcolor": "white",
            "linecolor": "white",
            "ticks": ""
           }
          },
          "ternary": {
           "bgcolor": "#E5ECF6",
           "aaxis": {
            "gridcolor": "white",
            "linecolor": "white",
            "ticks": ""
           },
           "baxis": {
            "gridcolor": "white",
            "linecolor": "white",
            "ticks": ""
           },
           "caxis": {
            "gridcolor": "white",
            "linecolor": "white",
            "ticks": ""
           }
          },
          "coloraxis": {
           "colorbar": {
            "outlinewidth": 0,
            "ticks": ""
           }
          },
          "colorscale": {
           "sequential": [
            [
             0.0,
             "#0d0887"
            ],
            [
             0.1111111111111111,
             "#46039f"
            ],
            [
             0.2222222222222222,
             "#7201a8"
            ],
            [
             0.3333333333333333,
             "#9c179e"
            ],
            [
             0.4444444444444444,
             "#bd3786"
            ],
            [
             0.5555555555555556,
             "#d8576b"
            ],
            [
             0.6666666666666666,
             "#ed7953"
            ],
            [
             0.7777777777777778,
             "#fb9f3a"
            ],
            [
             0.8888888888888888,
             "#fdca26"
            ],
            [
             1.0,
             "#f0f921"
            ]
           ],
           "sequentialminus": [
            [
             0.0,
             "#0d0887"
            ],
            [
             0.1111111111111111,
             "#46039f"
            ],
            [
             0.2222222222222222,
             "#7201a8"
            ],
            [
             0.3333333333333333,
             "#9c179e"
            ],
            [
             0.4444444444444444,
             "#bd3786"
            ],
            [
             0.5555555555555556,
             "#d8576b"
            ],
            [
             0.6666666666666666,
             "#ed7953"
            ],
            [
             0.7777777777777778,
             "#fb9f3a"
            ],
            [
             0.8888888888888888,
             "#fdca26"
            ],
            [
             1.0,
             "#f0f921"
            ]
           ],
           "diverging": [
            [
             0,
             "#8e0152"
            ],
            [
             0.1,
             "#c51b7d"
            ],
            [
             0.2,
             "#de77ae"
            ],
            [
             0.3,
             "#f1b6da"
            ],
            [
             0.4,
             "#fde0ef"
            ],
            [
             0.5,
             "#f7f7f7"
            ],
            [
             0.6,
             "#e6f5d0"
            ],
            [
             0.7,
             "#b8e186"
            ],
            [
             0.8,
             "#7fbc41"
            ],
            [
             0.9,
             "#4d9221"
            ],
            [
             1,
             "#276419"
            ]
           ]
          },
          "xaxis": {
           "gridcolor": "white",
           "linecolor": "white",
           "ticks": "",
           "title": {
            "standoff": 15
           },
           "zerolinecolor": "white",
           "automargin": true,
           "zerolinewidth": 2
          },
          "yaxis": {
           "gridcolor": "white",
           "linecolor": "white",
           "ticks": "",
           "title": {
            "standoff": 15
           },
           "zerolinecolor": "white",
           "automargin": true,
           "zerolinewidth": 2
          },
          "scene": {
           "xaxis": {
            "backgroundcolor": "#E5ECF6",
            "gridcolor": "white",
            "linecolor": "white",
            "showbackground": true,
            "ticks": "",
            "zerolinecolor": "white",
            "gridwidth": 2
           },
           "yaxis": {
            "backgroundcolor": "#E5ECF6",
            "gridcolor": "white",
            "linecolor": "white",
            "showbackground": true,
            "ticks": "",
            "zerolinecolor": "white",
            "gridwidth": 2
           },
           "zaxis": {
            "backgroundcolor": "#E5ECF6",
            "gridcolor": "white",
            "linecolor": "white",
            "showbackground": true,
            "ticks": "",
            "zerolinecolor": "white",
            "gridwidth": 2
           }
          },
          "shapedefaults": {
           "line": {
            "color": "#2a3f5f"
           }
          },
          "annotationdefaults": {
           "arrowcolor": "#2a3f5f",
           "arrowhead": 0,
           "arrowwidth": 1
          },
          "geo": {
           "bgcolor": "white",
           "landcolor": "#E5ECF6",
           "subunitcolor": "white",
           "showland": true,
           "showlakes": true,
           "lakecolor": "white"
          },
          "title": {
           "x": 0.05
          },
          "mapbox": {
           "style": "light"
          }
         }
        },
        "polar": {
         "domain": {
          "x": [
           0.0,
           1.0
          ],
          "y": [
           0.0,
           1.0
          ]
         },
         "angularaxis": {
          "direction": "clockwise",
          "rotation": 90
         }
        },
        "legend": {
         "title": {
          "text": "cluster"
         },
         "tracegroupgap": 0
        },
        "margin": {
         "t": 60
        },
        "height": 800,
        "width": 1400
       },
       "config": {
        "plotlyServerURL": "https://plot.ly"
       }
      },
      "text/html": "<div>                            <div id=\"cfd048e9-30f2-495e-b06d-5faa7e89b810\" class=\"plotly-graph-div\" style=\"height:800px; width:1400px;\"></div>            <script type=\"text/javascript\">                require([\"plotly\"], function(Plotly) {                    window.PLOTLYENV=window.PLOTLYENV || {};                                    if (document.getElementById(\"cfd048e9-30f2-495e-b06d-5faa7e89b810\")) {                    Plotly.newPlot(                        \"cfd048e9-30f2-495e-b06d-5faa7e89b810\",                        [{\"hovertemplate\":\"cluster=0<br>value=%{r}<br>variable=%{theta}<extra></extra>\",\"legendgroup\":\"0\",\"line\":{\"color\":\"#636efa\",\"dash\":\"solid\"},\"marker\":{\"symbol\":\"circle\"},\"mode\":\"lines\",\"name\":\"0\",\"r\":[8.5,12.848484848484848,12.303030303030303,8.484848484848484,12.454545454545455,7.53030303030303,10.636363636363637,9.090909090909092,11.727272727272727,12.227272727272727,12.348484848484848,7.954545454545454,13.484848484848484,12.530303030303031,13.575757575757576,13.06060606060606,14.272727272727273,12.484848484848484,12.742424242424242,12.43939393939394,14.5,10.818181818181818,9.969696969696969,13.409090909090908,12.606060606060606,14.606060606060606,11.212121212121213,15.515151515151516,14.696969696969697,13.666666666666666,13.530303030303031,10.545454545454545,14.787878787878787,14.818181818181818,15.212121212121213,12.651515151515152,8.5],\"showlegend\":true,\"subplot\":\"polar\",\"theta\":[\"Corners\",\"Crossing\",\"Dribbling\",\"Finishing\",\"First Touch\",\"Free Kick Taking\",\"Heading\",\"Long Shots\",\"Long Throws\",\"Marking\",\"Passing\",\"Penalty Taking\",\"Tackling\",\"Technique\",\"Aggression\",\"Anticipation\",\"Bravery\",\"Composure\",\"Concentration\",\"Decisions\",\"Determination\",\"Flair\",\"Leadership\",\"Off the Ball\",\"Positioning\",\"Teamwork\",\"Vision\",\"Work Rate\",\"Acceleration\",\"Agility\",\"Balance\",\"Jumping Reach\",\"Natural Fitness\",\"Pace\",\"Stamina\",\"Strength\",\"Corners\"],\"type\":\"scatterpolar\"},{\"hovertemplate\":\"cluster=1<br>value=%{r}<br>variable=%{theta}<extra></extra>\",\"legendgroup\":\"1\",\"line\":{\"color\":\"#EF553B\",\"dash\":\"solid\"},\"marker\":{\"symbol\":\"circle\"},\"mode\":\"lines\",\"name\":\"1\",\"r\":[13.902439024390244,13.560975609756097,12.170731707317072,12.21951219512195,14.487804878048781,13.878048780487806,10.24390243902439,13.951219512195122,7.780487804878049,10.048780487804878,15.536585365853659,14.512195121951219,11.487804878048781,14.804878048780488,14.24390243902439,14.390243902439025,14.048780487804878,14.365853658536585,13.682926829268293,14.24390243902439,16.24390243902439,12.804878048780488,14.634146341463415,13.878048780487806,11.902439024390244,15.731707317073171,15.0,15.341463414634147,11.609756097560975,12.21951219512195,13.0,10.414634146341463,15.829268292682928,11.951219512195122,14.75609756097561,12.24390243902439,13.902439024390244],\"showlegend\":true,\"subplot\":\"polar\",\"theta\":[\"Corners\",\"Crossing\",\"Dribbling\",\"Finishing\",\"First Touch\",\"Free Kick Taking\",\"Heading\",\"Long Shots\",\"Long Throws\",\"Marking\",\"Passing\",\"Penalty Taking\",\"Tackling\",\"Technique\",\"Aggression\",\"Anticipation\",\"Bravery\",\"Composure\",\"Concentration\",\"Decisions\",\"Determination\",\"Flair\",\"Leadership\",\"Off the Ball\",\"Positioning\",\"Teamwork\",\"Vision\",\"Work Rate\",\"Acceleration\",\"Agility\",\"Balance\",\"Jumping Reach\",\"Natural Fitness\",\"Pace\",\"Stamina\",\"Strength\",\"Corners\"],\"type\":\"scatterpolar\"},{\"hovertemplate\":\"cluster=2<br>value=%{r}<br>variable=%{theta}<extra></extra>\",\"legendgroup\":\"2\",\"line\":{\"color\":\"#00cc96\",\"dash\":\"solid\"},\"marker\":{\"symbol\":\"circle\"},\"mode\":\"lines\",\"name\":\"2\",\"r\":[10.049180327868852,11.327868852459016,13.081967213114755,11.885245901639344,14.180327868852459,9.836065573770492,12.21311475409836,12.819672131147541,7.311475409836065,11.01639344262295,14.01639344262295,10.819672131147541,12.508196721311476,14.327868852459016,12.557377049180328,13.557377049180328,12.819672131147541,13.688524590163935,12.78688524590164,13.442622950819672,14.098360655737705,13.344262295081966,10.491803278688524,14.098360655737705,12.442622950819672,14.37704918032787,13.475409836065573,14.37704918032787,13.19672131147541,12.901639344262295,13.885245901639344,12.59016393442623,14.163934426229508,13.344262295081966,14.573770491803279,13.344262295081966,10.049180327868852],\"showlegend\":true,\"subplot\":\"polar\",\"theta\":[\"Corners\",\"Crossing\",\"Dribbling\",\"Finishing\",\"First Touch\",\"Free Kick Taking\",\"Heading\",\"Long Shots\",\"Long Throws\",\"Marking\",\"Passing\",\"Penalty Taking\",\"Tackling\",\"Technique\",\"Aggression\",\"Anticipation\",\"Bravery\",\"Composure\",\"Concentration\",\"Decisions\",\"Determination\",\"Flair\",\"Leadership\",\"Off the Ball\",\"Positioning\",\"Teamwork\",\"Vision\",\"Work Rate\",\"Acceleration\",\"Agility\",\"Balance\",\"Jumping Reach\",\"Natural Fitness\",\"Pace\",\"Stamina\",\"Strength\",\"Corners\"],\"type\":\"scatterpolar\"},{\"hovertemplate\":\"cluster=3<br>value=%{r}<br>variable=%{theta}<extra></extra>\",\"legendgroup\":\"3\",\"line\":{\"color\":\"#ab63fa\",\"dash\":\"solid\"},\"marker\":{\"symbol\":\"circle\"},\"mode\":\"lines\",\"name\":\"3\",\"r\":[11.580645161290322,12.46774193548387,16.016129032258064,12.774193548387096,14.451612903225806,11.903225806451612,7.661290322580645,12.403225806451612,5.258064516129032,5.435483870967742,13.14516129032258,11.64516129032258,6.209677419354839,15.5,10.241935483870968,11.693548387096774,10.17741935483871,12.225806451612904,10.32258064516129,11.403225806451612,12.725806451612904,16.241935483870968,7.274193548387097,13.661290322580646,6.774193548387097,10.596774193548388,13.161290322580646,11.64516129032258,15.85483870967742,15.451612903225806,12.887096774193548,8.32258064516129,13.064516129032258,15.516129032258064,12.53225806451613,9.258064516129032,11.580645161290322],\"showlegend\":true,\"subplot\":\"polar\",\"theta\":[\"Corners\",\"Crossing\",\"Dribbling\",\"Finishing\",\"First Touch\",\"Free Kick Taking\",\"Heading\",\"Long Shots\",\"Long Throws\",\"Marking\",\"Passing\",\"Penalty Taking\",\"Tackling\",\"Technique\",\"Aggression\",\"Anticipation\",\"Bravery\",\"Composure\",\"Concentration\",\"Decisions\",\"Determination\",\"Flair\",\"Leadership\",\"Off the Ball\",\"Positioning\",\"Teamwork\",\"Vision\",\"Work Rate\",\"Acceleration\",\"Agility\",\"Balance\",\"Jumping Reach\",\"Natural Fitness\",\"Pace\",\"Stamina\",\"Strength\",\"Corners\"],\"type\":\"scatterpolar\"},{\"hovertemplate\":\"cluster=4<br>value=%{r}<br>variable=%{theta}<extra></extra>\",\"legendgroup\":\"4\",\"line\":{\"color\":\"#FFA15A\",\"dash\":\"solid\"},\"marker\":{\"symbol\":\"circle\"},\"mode\":\"lines\",\"name\":\"4\",\"r\":[4.875,8.625,11.196428571428571,7.017857142857143,12.857142857142858,5.892857142857143,14.142857142857142,7.25,8.410714285714286,14.357142857142858,13.357142857142858,7.303571428571429,14.839285714285714,13.232142857142858,12.482142857142858,14.303571428571429,13.875,13.714285714285714,13.053571428571429,13.053571428571429,13.964285714285714,9.785714285714286,10.392857142857142,9.607142857142858,14.089285714285714,14.071428571428571,12.0,13.732142857142858,13.732142857142858,12.821428571428571,13.214285714285714,14.482142857142858,14.089285714285714,14.714285714285714,14.071428571428571,14.035714285714286,4.875],\"showlegend\":true,\"subplot\":\"polar\",\"theta\":[\"Corners\",\"Crossing\",\"Dribbling\",\"Finishing\",\"First Touch\",\"Free Kick Taking\",\"Heading\",\"Long Shots\",\"Long Throws\",\"Marking\",\"Passing\",\"Penalty Taking\",\"Tackling\",\"Technique\",\"Aggression\",\"Anticipation\",\"Bravery\",\"Composure\",\"Concentration\",\"Decisions\",\"Determination\",\"Flair\",\"Leadership\",\"Off the Ball\",\"Positioning\",\"Teamwork\",\"Vision\",\"Work Rate\",\"Acceleration\",\"Agility\",\"Balance\",\"Jumping Reach\",\"Natural Fitness\",\"Pace\",\"Stamina\",\"Strength\",\"Corners\"],\"type\":\"scatterpolar\"},{\"hovertemplate\":\"cluster=5<br>value=%{r}<br>variable=%{theta}<extra></extra>\",\"legendgroup\":\"5\",\"line\":{\"color\":\"#19d3f3\",\"dash\":\"solid\"},\"marker\":{\"symbol\":\"circle\"},\"mode\":\"lines\",\"name\":\"5\",\"r\":[9.090909090909092,10.590909090909092,12.840909090909092,9.090909090909092,14.5,9.25,8.477272727272727,10.340909090909092,5.659090909090909,12.363636363636363,14.75,9.454545454545455,14.659090909090908,14.409090909090908,14.75,14.909090909090908,14.659090909090908,13.977272727272727,13.909090909090908,13.704545454545455,15.75,11.886363636363637,11.295454545454545,12.795454545454545,13.795454545454545,15.795454545454545,13.659090909090908,16.136363636363637,13.409090909090908,14.022727272727273,14.454545454545455,8.477272727272727,14.931818181818182,12.795454545454545,15.613636363636363,11.863636363636363,9.090909090909092],\"showlegend\":true,\"subplot\":\"polar\",\"theta\":[\"Corners\",\"Crossing\",\"Dribbling\",\"Finishing\",\"First Touch\",\"Free Kick Taking\",\"Heading\",\"Long Shots\",\"Long Throws\",\"Marking\",\"Passing\",\"Penalty Taking\",\"Tackling\",\"Technique\",\"Aggression\",\"Anticipation\",\"Bravery\",\"Composure\",\"Concentration\",\"Decisions\",\"Determination\",\"Flair\",\"Leadership\",\"Off the Ball\",\"Positioning\",\"Teamwork\",\"Vision\",\"Work Rate\",\"Acceleration\",\"Agility\",\"Balance\",\"Jumping Reach\",\"Natural Fitness\",\"Pace\",\"Stamina\",\"Strength\",\"Corners\"],\"type\":\"scatterpolar\"},{\"hovertemplate\":\"cluster=6<br>value=%{r}<br>variable=%{theta}<extra></extra>\",\"legendgroup\":\"6\",\"line\":{\"color\":\"#FF6692\",\"dash\":\"solid\"},\"marker\":{\"symbol\":\"circle\"},\"mode\":\"lines\",\"name\":\"6\",\"r\":[7.27027027027027,10.324324324324325,14.013513513513514,13.95945945945946,13.364864864864865,8.675675675675675,12.04054054054054,11.243243243243244,5.418918918918919,5.756756756756757,12.135135135135135,12.162162162162161,6.648648648648648,13.85135135135135,11.91891891891892,12.81081081081081,13.054054054054054,12.783783783783784,11.554054054054054,11.702702702702704,14.0,13.932432432432432,8.513513513513514,14.35135135135135,7.5,12.527027027027026,11.716216216216216,13.716216216216216,15.45945945945946,14.108108108108109,13.54054054054054,12.256756756756756,14.283783783783784,15.486486486486486,13.702702702702704,13.432432432432432,7.27027027027027],\"showlegend\":true,\"subplot\":\"polar\",\"theta\":[\"Corners\",\"Crossing\",\"Dribbling\",\"Finishing\",\"First Touch\",\"Free Kick Taking\",\"Heading\",\"Long Shots\",\"Long Throws\",\"Marking\",\"Passing\",\"Penalty Taking\",\"Tackling\",\"Technique\",\"Aggression\",\"Anticipation\",\"Bravery\",\"Composure\",\"Concentration\",\"Decisions\",\"Determination\",\"Flair\",\"Leadership\",\"Off the Ball\",\"Positioning\",\"Teamwork\",\"Vision\",\"Work Rate\",\"Acceleration\",\"Agility\",\"Balance\",\"Jumping Reach\",\"Natural Fitness\",\"Pace\",\"Stamina\",\"Strength\",\"Corners\"],\"type\":\"scatterpolar\"},{\"hovertemplate\":\"cluster=7<br>value=%{r}<br>variable=%{theta}<extra></extra>\",\"legendgroup\":\"7\",\"line\":{\"color\":\"#B6E880\",\"dash\":\"solid\"},\"marker\":{\"symbol\":\"circle\"},\"mode\":\"lines\",\"name\":\"7\",\"r\":[4.043478260869565,6.739130434782608,9.304347826086957,7.304347826086956,11.478260869565217,4.717391304347826,15.26086956521739,5.934782608695652,8.173913043478262,14.782608695652174,12.130434782608695,7.5,15.347826086956522,11.5,14.456521739130435,14.26086956521739,15.652173913043478,12.695652173913043,12.630434782608695,12.673913043478262,14.804347826086957,8.065217391304348,11.73913043478261,7.978260869565218,14.217391304347826,14.391304347826088,10.23913043478261,14.23913043478261,12.73913043478261,11.543478260869565,14.608695652173912,15.478260869565217,15.065217391304348,14.0,14.565217391304348,15.847826086956522,4.043478260869565],\"showlegend\":true,\"subplot\":\"polar\",\"theta\":[\"Corners\",\"Crossing\",\"Dribbling\",\"Finishing\",\"First Touch\",\"Free Kick Taking\",\"Heading\",\"Long Shots\",\"Long Throws\",\"Marking\",\"Passing\",\"Penalty Taking\",\"Tackling\",\"Technique\",\"Aggression\",\"Anticipation\",\"Bravery\",\"Composure\",\"Concentration\",\"Decisions\",\"Determination\",\"Flair\",\"Leadership\",\"Off the Ball\",\"Positioning\",\"Teamwork\",\"Vision\",\"Work Rate\",\"Acceleration\",\"Agility\",\"Balance\",\"Jumping Reach\",\"Natural Fitness\",\"Pace\",\"Stamina\",\"Strength\",\"Corners\"],\"type\":\"scatterpolar\"},{\"hovertemplate\":\"cluster=8<br>value=%{r}<br>variable=%{theta}<extra></extra>\",\"legendgroup\":\"8\",\"line\":{\"color\":\"#FF97FF\",\"dash\":\"solid\"},\"marker\":{\"symbol\":\"circle\"},\"mode\":\"lines\",\"name\":\"8\",\"r\":[6.5588235294117645,9.382352941176471,11.235294117647058,9.235294117647058,14.117647058823529,8.029411764705882,14.205882352941176,10.176470588235293,7.882352941176471,13.941176470588236,14.911764705882353,10.529411764705882,14.970588235294118,14.205882352941176,12.794117647058824,15.235294117647058,14.235294117647058,16.029411764705884,15.294117647058824,15.029411764705882,14.5,9.147058823529411,13.823529411764707,11.264705882352942,15.294117647058824,16.0,13.911764705882353,14.588235294117647,10.970588235294118,11.029411764705882,14.058823529411764,14.147058823529411,14.852941176470589,11.676470588235293,14.529411764705882,14.558823529411764,6.5588235294117645],\"showlegend\":true,\"subplot\":\"polar\",\"theta\":[\"Corners\",\"Crossing\",\"Dribbling\",\"Finishing\",\"First Touch\",\"Free Kick Taking\",\"Heading\",\"Long Shots\",\"Long Throws\",\"Marking\",\"Passing\",\"Penalty Taking\",\"Tackling\",\"Technique\",\"Aggression\",\"Anticipation\",\"Bravery\",\"Composure\",\"Concentration\",\"Decisions\",\"Determination\",\"Flair\",\"Leadership\",\"Off the Ball\",\"Positioning\",\"Teamwork\",\"Vision\",\"Work Rate\",\"Acceleration\",\"Agility\",\"Balance\",\"Jumping Reach\",\"Natural Fitness\",\"Pace\",\"Stamina\",\"Strength\",\"Corners\"],\"type\":\"scatterpolar\"},{\"hovertemplate\":\"cluster=9<br>value=%{r}<br>variable=%{theta}<extra></extra>\",\"legendgroup\":\"9\",\"line\":{\"color\":\"#FECB52\",\"dash\":\"solid\"},\"marker\":{\"symbol\":\"circle\"},\"mode\":\"lines\",\"name\":\"9\",\"r\":[13.609756097560975,14.146341463414634,14.853658536585366,12.048780487804878,16.682926829268293,13.585365853658537,8.0,13.048780487804878,6.073170731707317,8.682926829268293,16.658536585365855,13.146341463414634,10.487804878048781,16.682926829268293,10.853658536585366,15.390243902439025,11.609756097560975,15.536585365853659,13.926829268292684,15.317073170731707,14.146341463414634,14.975609756097562,11.195121951219512,14.536585365853659,11.414634146341463,15.390243902439025,16.658536585365855,13.975609756097562,12.439024390243903,14.073170731707316,13.24390243902439,8.341463414634147,12.878048780487806,12.097560975609756,13.365853658536585,9.975609756097562,13.609756097560975],\"showlegend\":true,\"subplot\":\"polar\",\"theta\":[\"Corners\",\"Crossing\",\"Dribbling\",\"Finishing\",\"First Touch\",\"Free Kick Taking\",\"Heading\",\"Long Shots\",\"Long Throws\",\"Marking\",\"Passing\",\"Penalty Taking\",\"Tackling\",\"Technique\",\"Aggression\",\"Anticipation\",\"Bravery\",\"Composure\",\"Concentration\",\"Decisions\",\"Determination\",\"Flair\",\"Leadership\",\"Off the Ball\",\"Positioning\",\"Teamwork\",\"Vision\",\"Work Rate\",\"Acceleration\",\"Agility\",\"Balance\",\"Jumping Reach\",\"Natural Fitness\",\"Pace\",\"Stamina\",\"Strength\",\"Corners\"],\"type\":\"scatterpolar\"},{\"hovertemplate\":\"cluster=10<br>value=%{r}<br>variable=%{theta}<extra></extra>\",\"legendgroup\":\"10\",\"line\":{\"color\":\"#636efa\",\"dash\":\"solid\"},\"marker\":{\"symbol\":\"circle\"},\"mode\":\"lines\",\"name\":\"10\",\"r\":[5.614035087719298,8.31578947368421,9.105263157894736,7.754385964912281,11.491228070175438,6.5964912280701755,14.947368421052632,7.473684210526316,9.807017543859649,14.947368421052632,12.526315789473685,7.947368421052632,15.087719298245615,11.614035087719298,14.350877192982455,14.701754385964913,15.508771929824562,13.666666666666666,14.298245614035087,13.894736842105264,15.105263157894736,7.245614035087719,14.719298245614034,9.140350877192983,15.0,15.052631578947368,10.912280701754385,14.649122807017545,11.842105263157896,11.228070175438596,13.017543859649123,14.596491228070175,13.491228070175438,12.473684210526315,14.070175438596491,14.789473684210526,5.614035087719298],\"showlegend\":true,\"subplot\":\"polar\",\"theta\":[\"Corners\",\"Crossing\",\"Dribbling\",\"Finishing\",\"First Touch\",\"Free Kick Taking\",\"Heading\",\"Long Shots\",\"Long Throws\",\"Marking\",\"Passing\",\"Penalty Taking\",\"Tackling\",\"Technique\",\"Aggression\",\"Anticipation\",\"Bravery\",\"Composure\",\"Concentration\",\"Decisions\",\"Determination\",\"Flair\",\"Leadership\",\"Off the Ball\",\"Positioning\",\"Teamwork\",\"Vision\",\"Work Rate\",\"Acceleration\",\"Agility\",\"Balance\",\"Jumping Reach\",\"Natural Fitness\",\"Pace\",\"Stamina\",\"Strength\",\"Corners\"],\"type\":\"scatterpolar\"},{\"hovertemplate\":\"cluster=11<br>value=%{r}<br>variable=%{theta}<extra></extra>\",\"legendgroup\":\"11\",\"line\":{\"color\":\"#EF553B\",\"dash\":\"solid\"},\"marker\":{\"symbol\":\"circle\"},\"mode\":\"lines\",\"name\":\"11\",\"r\":[9.688888888888888,12.466666666666667,13.844444444444445,10.466666666666667,12.88888888888889,8.844444444444445,7.733333333333333,10.755555555555556,8.644444444444444,9.155555555555555,12.422222222222222,9.2,10.755555555555556,13.6,11.533333333333333,12.222222222222221,12.2,11.28888888888889,11.222222222222221,11.511111111111111,13.844444444444445,13.355555555555556,7.644444444444445,13.755555555555556,10.11111111111111,12.88888888888889,12.11111111111111,14.177777777777777,15.755555555555556,14.066666666666666,12.777777777777779,8.511111111111111,14.355555555555556,15.822222222222223,14.044444444444444,10.844444444444445,9.688888888888888],\"showlegend\":true,\"subplot\":\"polar\",\"theta\":[\"Corners\",\"Crossing\",\"Dribbling\",\"Finishing\",\"First Touch\",\"Free Kick Taking\",\"Heading\",\"Long Shots\",\"Long Throws\",\"Marking\",\"Passing\",\"Penalty Taking\",\"Tackling\",\"Technique\",\"Aggression\",\"Anticipation\",\"Bravery\",\"Composure\",\"Concentration\",\"Decisions\",\"Determination\",\"Flair\",\"Leadership\",\"Off the Ball\",\"Positioning\",\"Teamwork\",\"Vision\",\"Work Rate\",\"Acceleration\",\"Agility\",\"Balance\",\"Jumping Reach\",\"Natural Fitness\",\"Pace\",\"Stamina\",\"Strength\",\"Corners\"],\"type\":\"scatterpolar\"},{\"hovertemplate\":\"cluster=12<br>value=%{r}<br>variable=%{theta}<extra></extra>\",\"legendgroup\":\"12\",\"line\":{\"color\":\"#00cc96\",\"dash\":\"solid\"},\"marker\":{\"symbol\":\"circle\"},\"mode\":\"lines\",\"name\":\"12\",\"r\":[13.647887323943662,13.95774647887324,15.535211267605634,13.732394366197184,15.887323943661972,13.901408450704226,8.084507042253522,14.070422535211268,5.112676056338028,5.366197183098592,15.169014084507042,14.267605633802816,6.859154929577465,16.408450704225352,10.295774647887324,13.859154929577464,10.704225352112676,13.859154929577464,11.915492957746478,13.67605633802817,14.0,15.929577464788732,11.56338028169014,14.577464788732394,7.323943661971831,12.47887323943662,15.352112676056338,12.492957746478874,14.014084507042254,14.746478873239436,13.619718309859154,8.43661971830986,13.492957746478874,13.366197183098592,12.943661971830986,10.19718309859155,13.647887323943662],\"showlegend\":true,\"subplot\":\"polar\",\"theta\":[\"Corners\",\"Crossing\",\"Dribbling\",\"Finishing\",\"First Touch\",\"Free Kick Taking\",\"Heading\",\"Long Shots\",\"Long Throws\",\"Marking\",\"Passing\",\"Penalty Taking\",\"Tackling\",\"Technique\",\"Aggression\",\"Anticipation\",\"Bravery\",\"Composure\",\"Concentration\",\"Decisions\",\"Determination\",\"Flair\",\"Leadership\",\"Off the Ball\",\"Positioning\",\"Teamwork\",\"Vision\",\"Work Rate\",\"Acceleration\",\"Agility\",\"Balance\",\"Jumping Reach\",\"Natural Fitness\",\"Pace\",\"Stamina\",\"Strength\",\"Corners\"],\"type\":\"scatterpolar\"},{\"hovertemplate\":\"cluster=13<br>value=%{r}<br>variable=%{theta}<extra></extra>\",\"legendgroup\":\"13\",\"line\":{\"color\":\"#ab63fa\",\"dash\":\"solid\"},\"marker\":{\"symbol\":\"circle\"},\"mode\":\"lines\",\"name\":\"13\",\"r\":[12.779411764705882,13.529411764705882,12.985294117647058,9.926470588235293,13.808823529411764,12.411764705882353,8.5,11.794117647058824,9.867647058823529,11.308823529411764,13.955882352941176,10.926470588235293,12.602941176470589,13.926470588235293,12.588235294117647,13.588235294117647,13.117647058823529,13.338235294117647,13.176470588235293,13.455882352941176,14.308823529411764,12.485294117647058,11.117647058823529,13.735294117647058,12.441176470588236,15.044117647058824,13.426470588235293,14.852941176470589,13.691176470588236,13.735294117647058,12.779411764705882,8.852941176470589,14.073529411764707,13.397058823529411,14.602941176470589,10.808823529411764,12.779411764705882],\"showlegend\":true,\"subplot\":\"polar\",\"theta\":[\"Corners\",\"Crossing\",\"Dribbling\",\"Finishing\",\"First Touch\",\"Free Kick Taking\",\"Heading\",\"Long Shots\",\"Long Throws\",\"Marking\",\"Passing\",\"Penalty Taking\",\"Tackling\",\"Technique\",\"Aggression\",\"Anticipation\",\"Bravery\",\"Composure\",\"Concentration\",\"Decisions\",\"Determination\",\"Flair\",\"Leadership\",\"Off the Ball\",\"Positioning\",\"Teamwork\",\"Vision\",\"Work Rate\",\"Acceleration\",\"Agility\",\"Balance\",\"Jumping Reach\",\"Natural Fitness\",\"Pace\",\"Stamina\",\"Strength\",\"Corners\"],\"type\":\"scatterpolar\"},{\"hovertemplate\":\"cluster=14<br>value=%{r}<br>variable=%{theta}<extra></extra>\",\"legendgroup\":\"14\",\"line\":{\"color\":\"#FFA15A\",\"dash\":\"solid\"},\"marker\":{\"symbol\":\"circle\"},\"mode\":\"lines\",\"name\":\"14\",\"r\":[6.037037037037037,9.462962962962964,12.25925925925926,15.055555555555555,13.462962962962964,9.351851851851851,14.981481481481481,12.074074074074074,5.074074074074074,6.2592592592592595,12.314814814814815,14.222222222222221,7.944444444444445,13.444444444444445,14.24074074074074,14.833333333333334,15.25925925925926,13.685185185185185,13.537037037037036,13.37037037037037,16.27777777777778,13.037037037037036,11.314814814814815,15.61111111111111,7.574074074074074,15.296296296296296,12.537037037037036,15.74074074074074,13.018518518518519,12.61111111111111,14.851851851851851,14.055555555555555,14.962962962962964,13.851851851851851,14.314814814814815,14.962962962962964,6.037037037037037],\"showlegend\":true,\"subplot\":\"polar\",\"theta\":[\"Corners\",\"Crossing\",\"Dribbling\",\"Finishing\",\"First Touch\",\"Free Kick Taking\",\"Heading\",\"Long Shots\",\"Long Throws\",\"Marking\",\"Passing\",\"Penalty Taking\",\"Tackling\",\"Technique\",\"Aggression\",\"Anticipation\",\"Bravery\",\"Composure\",\"Concentration\",\"Decisions\",\"Determination\",\"Flair\",\"Leadership\",\"Off the Ball\",\"Positioning\",\"Teamwork\",\"Vision\",\"Work Rate\",\"Acceleration\",\"Agility\",\"Balance\",\"Jumping Reach\",\"Natural Fitness\",\"Pace\",\"Stamina\",\"Strength\",\"Corners\"],\"type\":\"scatterpolar\"},{\"hovertemplate\":\"cluster=15<br>value=%{r}<br>variable=%{theta}<extra></extra>\",\"legendgroup\":\"15\",\"line\":{\"color\":\"#19d3f3\",\"dash\":\"solid\"},\"marker\":{\"symbol\":\"circle\"},\"mode\":\"lines\",\"name\":\"15\",\"r\":[11.847058823529412,12.75294117647059,14.929411764705883,12.623529411764705,14.729411764705882,11.494117647058824,8.011764705882353,12.447058823529412,6.2,7.152941176470589,14.223529411764705,11.564705882352941,8.75294117647059,15.305882352941177,11.988235294117647,13.435294117647059,11.705882352941176,13.282352941176471,12.176470588235293,12.988235294117647,14.16470588235294,15.070588235294117,8.541176470588235,14.16470588235294,8.858823529411765,13.694117647058823,14.211764705882352,13.858823529411765,14.364705882352942,14.91764705882353,13.129411764705882,7.8352941176470585,13.611764705882353,13.964705882352941,13.447058823529412,9.988235294117647,11.847058823529412],\"showlegend\":true,\"subplot\":\"polar\",\"theta\":[\"Corners\",\"Crossing\",\"Dribbling\",\"Finishing\",\"First Touch\",\"Free Kick Taking\",\"Heading\",\"Long Shots\",\"Long Throws\",\"Marking\",\"Passing\",\"Penalty Taking\",\"Tackling\",\"Technique\",\"Aggression\",\"Anticipation\",\"Bravery\",\"Composure\",\"Concentration\",\"Decisions\",\"Determination\",\"Flair\",\"Leadership\",\"Off the Ball\",\"Positioning\",\"Teamwork\",\"Vision\",\"Work Rate\",\"Acceleration\",\"Agility\",\"Balance\",\"Jumping Reach\",\"Natural Fitness\",\"Pace\",\"Stamina\",\"Strength\",\"Corners\"],\"type\":\"scatterpolar\"},{\"hovertemplate\":\"cluster=16<br>value=%{r}<br>variable=%{theta}<extra></extra>\",\"legendgroup\":\"16\",\"line\":{\"color\":\"#FF6692\",\"dash\":\"solid\"},\"marker\":{\"symbol\":\"circle\"},\"mode\":\"lines\",\"name\":\"16\",\"r\":[7.811594202898551,10.101449275362318,11.565217391304348,9.115942028985508,12.797101449275363,8.869565217391305,13.289855072463768,10.91304347826087,9.217391304347826,13.289855072463768,13.579710144927537,9.594202898550725,14.956521739130435,13.072463768115941,15.521739130434783,14.333333333333334,15.782608695652174,13.55072463768116,13.594202898550725,13.144927536231885,15.492753623188406,10.115942028985508,12.782608695652174,12.217391304347826,13.869565217391305,15.608695652173912,12.405797101449275,15.869565217391305,12.797101449275363,12.63768115942029,14.072463768115941,13.028985507246377,15.08695652173913,13.246376811594203,15.565217391304348,14.565217391304348,7.811594202898551],\"showlegend\":true,\"subplot\":\"polar\",\"theta\":[\"Corners\",\"Crossing\",\"Dribbling\",\"Finishing\",\"First Touch\",\"Free Kick Taking\",\"Heading\",\"Long Shots\",\"Long Throws\",\"Marking\",\"Passing\",\"Penalty Taking\",\"Tackling\",\"Technique\",\"Aggression\",\"Anticipation\",\"Bravery\",\"Composure\",\"Concentration\",\"Decisions\",\"Determination\",\"Flair\",\"Leadership\",\"Off the Ball\",\"Positioning\",\"Teamwork\",\"Vision\",\"Work Rate\",\"Acceleration\",\"Agility\",\"Balance\",\"Jumping Reach\",\"Natural Fitness\",\"Pace\",\"Stamina\",\"Strength\",\"Corners\"],\"type\":\"scatterpolar\"},{\"hovertemplate\":\"cluster=17<br>value=%{r}<br>variable=%{theta}<extra></extra>\",\"legendgroup\":\"17\",\"line\":{\"color\":\"#B6E880\",\"dash\":\"solid\"},\"marker\":{\"symbol\":\"circle\"},\"mode\":\"lines\",\"name\":\"17\",\"r\":[8.346153846153847,11.038461538461538,13.538461538461538,14.846153846153847,15.153846153846153,12.307692307692308,13.884615384615385,13.5,5.730769230769231,5.346153846153846,13.73076923076923,14.76923076923077,6.3076923076923075,15.5,11.653846153846153,14.26923076923077,12.5,14.192307692307692,11.73076923076923,12.615384615384615,13.23076923076923,15.346153846153847,10.961538461538462,14.5,6.538461538461538,11.73076923076923,13.923076923076923,10.153846153846153,12.307692307692308,11.923076923076923,14.76923076923077,13.384615384615385,13.038461538461538,12.653846153846153,11.923076923076923,14.73076923076923,8.346153846153847],\"showlegend\":true,\"subplot\":\"polar\",\"theta\":[\"Corners\",\"Crossing\",\"Dribbling\",\"Finishing\",\"First Touch\",\"Free Kick Taking\",\"Heading\",\"Long Shots\",\"Long Throws\",\"Marking\",\"Passing\",\"Penalty Taking\",\"Tackling\",\"Technique\",\"Aggression\",\"Anticipation\",\"Bravery\",\"Composure\",\"Concentration\",\"Decisions\",\"Determination\",\"Flair\",\"Leadership\",\"Off the Ball\",\"Positioning\",\"Teamwork\",\"Vision\",\"Work Rate\",\"Acceleration\",\"Agility\",\"Balance\",\"Jumping Reach\",\"Natural Fitness\",\"Pace\",\"Stamina\",\"Strength\",\"Corners\"],\"type\":\"scatterpolar\"}],                        {\"template\":{\"data\":{\"histogram2dcontour\":[{\"type\":\"histogram2dcontour\",\"colorbar\":{\"outlinewidth\":0,\"ticks\":\"\"},\"colorscale\":[[0.0,\"#0d0887\"],[0.1111111111111111,\"#46039f\"],[0.2222222222222222,\"#7201a8\"],[0.3333333333333333,\"#9c179e\"],[0.4444444444444444,\"#bd3786\"],[0.5555555555555556,\"#d8576b\"],[0.6666666666666666,\"#ed7953\"],[0.7777777777777778,\"#fb9f3a\"],[0.8888888888888888,\"#fdca26\"],[1.0,\"#f0f921\"]]}],\"choropleth\":[{\"type\":\"choropleth\",\"colorbar\":{\"outlinewidth\":0,\"ticks\":\"\"}}],\"histogram2d\":[{\"type\":\"histogram2d\",\"colorbar\":{\"outlinewidth\":0,\"ticks\":\"\"},\"colorscale\":[[0.0,\"#0d0887\"],[0.1111111111111111,\"#46039f\"],[0.2222222222222222,\"#7201a8\"],[0.3333333333333333,\"#9c179e\"],[0.4444444444444444,\"#bd3786\"],[0.5555555555555556,\"#d8576b\"],[0.6666666666666666,\"#ed7953\"],[0.7777777777777778,\"#fb9f3a\"],[0.8888888888888888,\"#fdca26\"],[1.0,\"#f0f921\"]]}],\"heatmap\":[{\"type\":\"heatmap\",\"colorbar\":{\"outlinewidth\":0,\"ticks\":\"\"},\"colorscale\":[[0.0,\"#0d0887\"],[0.1111111111111111,\"#46039f\"],[0.2222222222222222,\"#7201a8\"],[0.3333333333333333,\"#9c179e\"],[0.4444444444444444,\"#bd3786\"],[0.5555555555555556,\"#d8576b\"],[0.6666666666666666,\"#ed7953\"],[0.7777777777777778,\"#fb9f3a\"],[0.8888888888888888,\"#fdca26\"],[1.0,\"#f0f921\"]]}],\"heatmapgl\":[{\"type\":\"heatmapgl\",\"colorbar\":{\"outlinewidth\":0,\"ticks\":\"\"},\"colorscale\":[[0.0,\"#0d0887\"],[0.1111111111111111,\"#46039f\"],[0.2222222222222222,\"#7201a8\"],[0.3333333333333333,\"#9c179e\"],[0.4444444444444444,\"#bd3786\"],[0.5555555555555556,\"#d8576b\"],[0.6666666666666666,\"#ed7953\"],[0.7777777777777778,\"#fb9f3a\"],[0.8888888888888888,\"#fdca26\"],[1.0,\"#f0f921\"]]}],\"contourcarpet\":[{\"type\":\"contourcarpet\",\"colorbar\":{\"outlinewidth\":0,\"ticks\":\"\"}}],\"contour\":[{\"type\":\"contour\",\"colorbar\":{\"outlinewidth\":0,\"ticks\":\"\"},\"colorscale\":[[0.0,\"#0d0887\"],[0.1111111111111111,\"#46039f\"],[0.2222222222222222,\"#7201a8\"],[0.3333333333333333,\"#9c179e\"],[0.4444444444444444,\"#bd3786\"],[0.5555555555555556,\"#d8576b\"],[0.6666666666666666,\"#ed7953\"],[0.7777777777777778,\"#fb9f3a\"],[0.8888888888888888,\"#fdca26\"],[1.0,\"#f0f921\"]]}],\"surface\":[{\"type\":\"surface\",\"colorbar\":{\"outlinewidth\":0,\"ticks\":\"\"},\"colorscale\":[[0.0,\"#0d0887\"],[0.1111111111111111,\"#46039f\"],[0.2222222222222222,\"#7201a8\"],[0.3333333333333333,\"#9c179e\"],[0.4444444444444444,\"#bd3786\"],[0.5555555555555556,\"#d8576b\"],[0.6666666666666666,\"#ed7953\"],[0.7777777777777778,\"#fb9f3a\"],[0.8888888888888888,\"#fdca26\"],[1.0,\"#f0f921\"]]}],\"mesh3d\":[{\"type\":\"mesh3d\",\"colorbar\":{\"outlinewidth\":0,\"ticks\":\"\"}}],\"scatter\":[{\"fillpattern\":{\"fillmode\":\"overlay\",\"size\":10,\"solidity\":0.2},\"type\":\"scatter\"}],\"parcoords\":[{\"type\":\"parcoords\",\"line\":{\"colorbar\":{\"outlinewidth\":0,\"ticks\":\"\"}}}],\"scatterpolargl\":[{\"type\":\"scatterpolargl\",\"marker\":{\"colorbar\":{\"outlinewidth\":0,\"ticks\":\"\"}}}],\"bar\":[{\"error_x\":{\"color\":\"#2a3f5f\"},\"error_y\":{\"color\":\"#2a3f5f\"},\"marker\":{\"line\":{\"color\":\"#E5ECF6\",\"width\":0.5},\"pattern\":{\"fillmode\":\"overlay\",\"size\":10,\"solidity\":0.2}},\"type\":\"bar\"}],\"scattergeo\":[{\"type\":\"scattergeo\",\"marker\":{\"colorbar\":{\"outlinewidth\":0,\"ticks\":\"\"}}}],\"scatterpolar\":[{\"type\":\"scatterpolar\",\"marker\":{\"colorbar\":{\"outlinewidth\":0,\"ticks\":\"\"}}}],\"histogram\":[{\"marker\":{\"pattern\":{\"fillmode\":\"overlay\",\"size\":10,\"solidity\":0.2}},\"type\":\"histogram\"}],\"scattergl\":[{\"type\":\"scattergl\",\"marker\":{\"colorbar\":{\"outlinewidth\":0,\"ticks\":\"\"}}}],\"scatter3d\":[{\"type\":\"scatter3d\",\"line\":{\"colorbar\":{\"outlinewidth\":0,\"ticks\":\"\"}},\"marker\":{\"colorbar\":{\"outlinewidth\":0,\"ticks\":\"\"}}}],\"scattermapbox\":[{\"type\":\"scattermapbox\",\"marker\":{\"colorbar\":{\"outlinewidth\":0,\"ticks\":\"\"}}}],\"scatterternary\":[{\"type\":\"scatterternary\",\"marker\":{\"colorbar\":{\"outlinewidth\":0,\"ticks\":\"\"}}}],\"scattercarpet\":[{\"type\":\"scattercarpet\",\"marker\":{\"colorbar\":{\"outlinewidth\":0,\"ticks\":\"\"}}}],\"carpet\":[{\"aaxis\":{\"endlinecolor\":\"#2a3f5f\",\"gridcolor\":\"white\",\"linecolor\":\"white\",\"minorgridcolor\":\"white\",\"startlinecolor\":\"#2a3f5f\"},\"baxis\":{\"endlinecolor\":\"#2a3f5f\",\"gridcolor\":\"white\",\"linecolor\":\"white\",\"minorgridcolor\":\"white\",\"startlinecolor\":\"#2a3f5f\"},\"type\":\"carpet\"}],\"table\":[{\"cells\":{\"fill\":{\"color\":\"#EBF0F8\"},\"line\":{\"color\":\"white\"}},\"header\":{\"fill\":{\"color\":\"#C8D4E3\"},\"line\":{\"color\":\"white\"}},\"type\":\"table\"}],\"barpolar\":[{\"marker\":{\"line\":{\"color\":\"#E5ECF6\",\"width\":0.5},\"pattern\":{\"fillmode\":\"overlay\",\"size\":10,\"solidity\":0.2}},\"type\":\"barpolar\"}],\"pie\":[{\"automargin\":true,\"type\":\"pie\"}]},\"layout\":{\"autotypenumbers\":\"strict\",\"colorway\":[\"#636efa\",\"#EF553B\",\"#00cc96\",\"#ab63fa\",\"#FFA15A\",\"#19d3f3\",\"#FF6692\",\"#B6E880\",\"#FF97FF\",\"#FECB52\"],\"font\":{\"color\":\"#2a3f5f\"},\"hovermode\":\"closest\",\"hoverlabel\":{\"align\":\"left\"},\"paper_bgcolor\":\"white\",\"plot_bgcolor\":\"#E5ECF6\",\"polar\":{\"bgcolor\":\"#E5ECF6\",\"angularaxis\":{\"gridcolor\":\"white\",\"linecolor\":\"white\",\"ticks\":\"\"},\"radialaxis\":{\"gridcolor\":\"white\",\"linecolor\":\"white\",\"ticks\":\"\"}},\"ternary\":{\"bgcolor\":\"#E5ECF6\",\"aaxis\":{\"gridcolor\":\"white\",\"linecolor\":\"white\",\"ticks\":\"\"},\"baxis\":{\"gridcolor\":\"white\",\"linecolor\":\"white\",\"ticks\":\"\"},\"caxis\":{\"gridcolor\":\"white\",\"linecolor\":\"white\",\"ticks\":\"\"}},\"coloraxis\":{\"colorbar\":{\"outlinewidth\":0,\"ticks\":\"\"}},\"colorscale\":{\"sequential\":[[0.0,\"#0d0887\"],[0.1111111111111111,\"#46039f\"],[0.2222222222222222,\"#7201a8\"],[0.3333333333333333,\"#9c179e\"],[0.4444444444444444,\"#bd3786\"],[0.5555555555555556,\"#d8576b\"],[0.6666666666666666,\"#ed7953\"],[0.7777777777777778,\"#fb9f3a\"],[0.8888888888888888,\"#fdca26\"],[1.0,\"#f0f921\"]],\"sequentialminus\":[[0.0,\"#0d0887\"],[0.1111111111111111,\"#46039f\"],[0.2222222222222222,\"#7201a8\"],[0.3333333333333333,\"#9c179e\"],[0.4444444444444444,\"#bd3786\"],[0.5555555555555556,\"#d8576b\"],[0.6666666666666666,\"#ed7953\"],[0.7777777777777778,\"#fb9f3a\"],[0.8888888888888888,\"#fdca26\"],[1.0,\"#f0f921\"]],\"diverging\":[[0,\"#8e0152\"],[0.1,\"#c51b7d\"],[0.2,\"#de77ae\"],[0.3,\"#f1b6da\"],[0.4,\"#fde0ef\"],[0.5,\"#f7f7f7\"],[0.6,\"#e6f5d0\"],[0.7,\"#b8e186\"],[0.8,\"#7fbc41\"],[0.9,\"#4d9221\"],[1,\"#276419\"]]},\"xaxis\":{\"gridcolor\":\"white\",\"linecolor\":\"white\",\"ticks\":\"\",\"title\":{\"standoff\":15},\"zerolinecolor\":\"white\",\"automargin\":true,\"zerolinewidth\":2},\"yaxis\":{\"gridcolor\":\"white\",\"linecolor\":\"white\",\"ticks\":\"\",\"title\":{\"standoff\":15},\"zerolinecolor\":\"white\",\"automargin\":true,\"zerolinewidth\":2},\"scene\":{\"xaxis\":{\"backgroundcolor\":\"#E5ECF6\",\"gridcolor\":\"white\",\"linecolor\":\"white\",\"showbackground\":true,\"ticks\":\"\",\"zerolinecolor\":\"white\",\"gridwidth\":2},\"yaxis\":{\"backgroundcolor\":\"#E5ECF6\",\"gridcolor\":\"white\",\"linecolor\":\"white\",\"showbackground\":true,\"ticks\":\"\",\"zerolinecolor\":\"white\",\"gridwidth\":2},\"zaxis\":{\"backgroundcolor\":\"#E5ECF6\",\"gridcolor\":\"white\",\"linecolor\":\"white\",\"showbackground\":true,\"ticks\":\"\",\"zerolinecolor\":\"white\",\"gridwidth\":2}},\"shapedefaults\":{\"line\":{\"color\":\"#2a3f5f\"}},\"annotationdefaults\":{\"arrowcolor\":\"#2a3f5f\",\"arrowhead\":0,\"arrowwidth\":1},\"geo\":{\"bgcolor\":\"white\",\"landcolor\":\"#E5ECF6\",\"subunitcolor\":\"white\",\"showland\":true,\"showlakes\":true,\"lakecolor\":\"white\"},\"title\":{\"x\":0.05},\"mapbox\":{\"style\":\"light\"}}},\"polar\":{\"domain\":{\"x\":[0.0,1.0],\"y\":[0.0,1.0]},\"angularaxis\":{\"direction\":\"clockwise\",\"rotation\":90}},\"legend\":{\"title\":{\"text\":\"cluster\"},\"tracegroupgap\":0},\"margin\":{\"t\":60},\"height\":800,\"width\":1400},                        {\"responsive\": true}                    ).then(function(){\n                            \nvar gd = document.getElementById('cfd048e9-30f2-495e-b06d-5faa7e89b810');\nvar x = new MutationObserver(function (mutations, observer) {{\n        var display = window.getComputedStyle(gd).display;\n        if (!display || display === 'none') {{\n            console.log([gd, 'removed!']);\n            Plotly.purge(gd);\n            observer.disconnect();\n        }}\n}});\n\n// Listen for the removal of the full notebook cells\nvar notebookContainer = gd.closest('#notebook-container');\nif (notebookContainer) {{\n    x.observe(notebookContainer, {childList: true});\n}}\n\n// Listen for the clearing of the current output cell\nvar outputEl = gd.closest('.output');\nif (outputEl) {{\n    x.observe(outputEl, {childList: true});\n}}\n\n                        })                };                });            </script>        </div>"
     },
     "metadata": {},
     "output_type": "display_data"
    }
   ],
   "source": [
    "#plot clusters on radar plot\n",
    "import plotly.express as px\n",
    "\n",
    "polar = df[stats].groupby(\"cluster\").mean().reset_index()\n",
    "polar = pd.melt(polar, id_vars=[\"cluster\"])\n",
    "fig5 = px.line_polar(polar, r=\"value\", theta=\"variable\", color=\"cluster\", line_close=True, height=800, width=1400)\n",
    "fig5.show()"
   ],
   "metadata": {
    "collapsed": false
   }
  },
  {
   "cell_type": "markdown",
   "source": [
    "# t-SNE"
   ],
   "metadata": {
    "collapsed": false
   }
  },
  {
   "cell_type": "code",
   "execution_count": 26,
   "outputs": [
    {
     "name": "stderr",
     "output_type": "stream",
     "text": [
      "C:\\Users\\joemc\\anaconda3\\lib\\site-packages\\sklearn\\manifold\\_t_sne.py:780: FutureWarning:\n",
      "\n",
      "The default initialization in TSNE will change from 'random' to 'pca' in 1.2.\n",
      "\n",
      "C:\\Users\\joemc\\anaconda3\\lib\\site-packages\\sklearn\\manifold\\_t_sne.py:790: FutureWarning:\n",
      "\n",
      "The default learning rate in TSNE will change from 200.0 to 'auto' in 1.2.\n",
      "\n"
     ]
    }
   ],
   "source": [
    "# TSNE for clustering visualisation\n",
    "import numpy as np\n",
    "import matplotlib.pyplot as plt\n",
    "from mpl_toolkits.mplot3d import Axes3D\n",
    "from sklearn.manifold import TSNE\n",
    "\n",
    "# tsne 2 dimensions\n",
    "\n",
    "# Instantiate the t-SNE model\n",
    "tsne = TSNE(n_components=2)\n",
    "\n",
    "# Fit the model to the data\n",
    "X_embedded = tsne.fit_transform(X_scaled)\n"
   ],
   "metadata": {
    "collapsed": false
   }
  },
  {
   "cell_type": "code",
   "execution_count": 27,
   "outputs": [],
   "source": [
    "# add cluster colours\n",
    "labels = df['cluster']"
   ],
   "metadata": {
    "collapsed": false
   }
  },
  {
   "cell_type": "code",
   "execution_count": 54,
   "outputs": [],
   "source": [
    "# Create a dictionary to map cluster labels to colors\n",
    "label_color_map = {\n",
    "    0: 'red',    1: 'blue',    2: 'green',    3: 'purple',    4: 'orange',\n",
    "    5: 'brown',    6: 'pink',    7: 'gray',    8: 'olive',    9: 'cyan',\n",
    "    10: 'magenta',   11: 'lightblue',    12: 'teal',    13: 'navy',    14: 'lime',\n",
    "    15: 'yellow',    16: 'darkred',    17: 'gold'\n",
    "}\n",
    "\n",
    "colors = [label_color_map[label] for label in labels]"
   ],
   "metadata": {
    "collapsed": false
   }
  },
  {
   "cell_type": "code",
   "execution_count": 55,
   "outputs": [
    {
     "data": {
      "text/plain": "<Figure size 640x480 with 1 Axes>",
      "image/png": "[encoded data removed]"
     },
     "metadata": {},
     "output_type": "display_data"
    }
   ],
   "source": [
    "# Create a scatter plot with labeled clusters\n",
    "fig = plt.figure()\n",
    "ax = fig.add_subplot(111)\n",
    "ax.scatter(X_embedded[:, 0], X_embedded[:, 1], c=colors)\n",
    "plt.show()"
   ],
   "metadata": {
    "collapsed": false
   }
  },
  {
   "cell_type": "code",
   "execution_count": 30,
   "outputs": [
    {
     "name": "stderr",
     "output_type": "stream",
     "text": [
      "C:\\Users\\joemc\\anaconda3\\lib\\site-packages\\plotly\\express\\_core.py:271: FutureWarning:\n",
      "\n",
      "The frame.append method is deprecated and will be removed from pandas in a future version. Use pandas.concat instead.\n",
      "\n",
      "C:\\Users\\joemc\\anaconda3\\lib\\site-packages\\plotly\\express\\_core.py:271: FutureWarning:\n",
      "\n",
      "The frame.append method is deprecated and will be removed from pandas in a future version. Use pandas.concat instead.\n",
      "\n",
      "C:\\Users\\joemc\\anaconda3\\lib\\site-packages\\plotly\\express\\_core.py:271: FutureWarning:\n",
      "\n",
      "The frame.append method is deprecated and will be removed from pandas in a future version. Use pandas.concat instead.\n",
      "\n"
     ]
    },
    {
     "data": {
      "application/vnd.plotly.v1+json": {
       "data": [
        {
         "hovertemplate": "cluster=0<br>value=%{r}<br>variable=%{theta}<extra></extra>",
         "legendgroup": "0",
         "line": {
          "color": "#636efa",
          "dash": "solid"
         },
         "marker": {
          "symbol": "circle"
         },
         "mode": "lines",
         "name": "0",
         "r": [
          8.5,
          12.848484848484848,
          12.303030303030303,
          8.484848484848484,
          12.454545454545455,
          7.53030303030303,
          10.636363636363637,
          9.090909090909092,
          11.727272727272727,
          12.227272727272727,
          12.348484848484848,
          7.954545454545454,
          13.484848484848484,
          12.530303030303031,
          8.5
         ],
         "showlegend": true,
         "subplot": "polar",
         "theta": [
          "Corners",
          "Crossing",
          "Dribbling",
          "Finishing",
          "First Touch",
          "Free Kick Taking",
          "Heading",
          "Long Shots",
          "Long Throws",
          "Marking",
          "Passing",
          "Penalty Taking",
          "Tackling",
          "Technique",
          "Corners"
         ],
         "type": "scatterpolar"
        },
        {
         "hovertemplate": "cluster=11<br>value=%{r}<br>variable=%{theta}<extra></extra>",
         "legendgroup": "11",
         "line": {
          "color": "#EF553B",
          "dash": "solid"
         },
         "marker": {
          "symbol": "circle"
         },
         "mode": "lines",
         "name": "11",
         "r": [
          9.688888888888888,
          12.466666666666667,
          13.844444444444445,
          10.466666666666667,
          12.88888888888889,
          8.844444444444445,
          7.733333333333333,
          10.755555555555556,
          8.644444444444444,
          9.155555555555555,
          12.422222222222222,
          9.2,
          10.755555555555556,
          13.6,
          9.688888888888888
         ],
         "showlegend": true,
         "subplot": "polar",
         "theta": [
          "Corners",
          "Crossing",
          "Dribbling",
          "Finishing",
          "First Touch",
          "Free Kick Taking",
          "Heading",
          "Long Shots",
          "Long Throws",
          "Marking",
          "Passing",
          "Penalty Taking",
          "Tackling",
          "Technique",
          "Corners"
         ],
         "type": "scatterpolar"
        },
        {
         "hovertemplate": "cluster=13<br>value=%{r}<br>variable=%{theta}<extra></extra>",
         "legendgroup": "13",
         "line": {
          "color": "#00cc96",
          "dash": "solid"
         },
         "marker": {
          "symbol": "circle"
         },
         "mode": "lines",
         "name": "13",
         "r": [
          12.779411764705882,
          13.529411764705882,
          12.985294117647058,
          9.926470588235293,
          13.808823529411764,
          12.411764705882353,
          8.5,
          11.794117647058824,
          9.867647058823529,
          11.308823529411764,
          13.955882352941176,
          10.926470588235293,
          12.602941176470589,
          13.926470588235293,
          12.779411764705882
         ],
         "showlegend": true,
         "subplot": "polar",
         "theta": [
          "Corners",
          "Crossing",
          "Dribbling",
          "Finishing",
          "First Touch",
          "Free Kick Taking",
          "Heading",
          "Long Shots",
          "Long Throws",
          "Marking",
          "Passing",
          "Penalty Taking",
          "Tackling",
          "Technique",
          "Corners"
         ],
         "type": "scatterpolar"
        }
       ],
       "layout": {
        "template": {
         "data": {
          "histogram2dcontour": [
           {
            "type": "histogram2dcontour",
            "colorbar": {
             "outlinewidth": 0,
             "ticks": ""
            },
            "colorscale": [
             [
              0.0,
              "#0d0887"
             ],
             [
              0.1111111111111111,
              "#46039f"
             ],
             [
              0.2222222222222222,
              "#7201a8"
             ],
             [
              0.3333333333333333,
              "#9c179e"
             ],
             [
              0.4444444444444444,
              "#bd3786"
             ],
             [
              0.5555555555555556,
              "#d8576b"
             ],
             [
              0.6666666666666666,
              "#ed7953"
             ],
             [
              0.7777777777777778,
              "#fb9f3a"
             ],
             [
              0.8888888888888888,
              "#fdca26"
             ],
             [
              1.0,
              "#f0f921"
             ]
            ]
           }
          ],
          "choropleth": [
           {
            "type": "choropleth",
            "colorbar": {
             "outlinewidth": 0,
             "ticks": ""
            }
           }
          ],
          "histogram2d": [
           {
            "type": "histogram2d",
            "colorbar": {
             "outlinewidth": 0,
             "ticks": ""
            },
            "colorscale": [
             [
              0.0,
              "#0d0887"
             ],
             [
              0.1111111111111111,
              "#46039f"
             ],
             [
              0.2222222222222222,
              "#7201a8"
             ],
             [
              0.3333333333333333,
              "#9c179e"
             ],
             [
              0.4444444444444444,
              "#bd3786"
             ],
             [
              0.5555555555555556,
              "#d8576b"
             ],
             [
              0.6666666666666666,
              "#ed7953"
             ],
             [
              0.7777777777777778,
              "#fb9f3a"
             ],
             [
              0.8888888888888888,
              "#fdca26"
             ],
             [
              1.0,
              "#f0f921"
             ]
            ]
           }
          ],
          "heatmap": [
           {
            "type": "heatmap",
            "colorbar": {
             "outlinewidth": 0,
             "ticks": ""
            },
            "colorscale": [
             [
              0.0,
              "#0d0887"
             ],
             [
              0.1111111111111111,
              "#46039f"
             ],
             [
              0.2222222222222222,
              "#7201a8"
             ],
             [
              0.3333333333333333,
              "#9c179e"
             ],
             [
              0.4444444444444444,
              "#bd3786"
             ],
             [
              0.5555555555555556,
              "#d8576b"
             ],
             [
              0.6666666666666666,
              "#ed7953"
             ],
             [
              0.7777777777777778,
              "#fb9f3a"
             ],
             [
              0.8888888888888888,
              "#fdca26"
             ],
             [
              1.0,
              "#f0f921"
             ]
            ]
           }
          ],
          "heatmapgl": [
           {
            "type": "heatmapgl",
            "colorbar": {
             "outlinewidth": 0,
             "ticks": ""
            },
            "colorscale": [
             [
              0.0,
              "#0d0887"
             ],
             [
              0.1111111111111111,
              "#46039f"
             ],
             [
              0.2222222222222222,
              "#7201a8"
             ],
             [
              0.3333333333333333,
              "#9c179e"
             ],
             [
              0.4444444444444444,
              "#bd3786"
             ],
             [
              0.5555555555555556,
              "#d8576b"
             ],
             [
              0.6666666666666666,
              "#ed7953"
             ],
             [
              0.7777777777777778,
              "#fb9f3a"
             ],
             [
              0.8888888888888888,
              "#fdca26"
             ],
             [
              1.0,
              "#f0f921"
             ]
            ]
           }
          ],
          "contourcarpet": [
           {
            "type": "contourcarpet",
            "colorbar": {
             "outlinewidth": 0,
             "ticks": ""
            }
           }
          ],
          "contour": [
           {
            "type": "contour",
            "colorbar": {
             "outlinewidth": 0,
             "ticks": ""
            },
            "colorscale": [
             [
              0.0,
              "#0d0887"
             ],
             [
              0.1111111111111111,
              "#46039f"
             ],
             [
              0.2222222222222222,
              "#7201a8"
             ],
             [
              0.3333333333333333,
              "#9c179e"
             ],
             [
              0.4444444444444444,
              "#bd3786"
             ],
             [
              0.5555555555555556,
              "#d8576b"
             ],
             [
              0.6666666666666666,
              "#ed7953"
             ],
             [
              0.7777777777777778,
              "#fb9f3a"
             ],
             [
              0.8888888888888888,
              "#fdca26"
             ],
             [
              1.0,
              "#f0f921"
             ]
            ]
           }
          ],
          "surface": [
           {
            "type": "surface",
            "colorbar": {
             "outlinewidth": 0,
             "ticks": ""
            },
            "colorscale": [
             [
              0.0,
              "#0d0887"
             ],
             [
              0.1111111111111111,
              "#46039f"
             ],
             [
              0.2222222222222222,
              "#7201a8"
             ],
             [
              0.3333333333333333,
              "#9c179e"
             ],
             [
              0.4444444444444444,
              "#bd3786"
             ],
             [
              0.5555555555555556,
              "#d8576b"
             ],
             [
              0.6666666666666666,
              "#ed7953"
             ],
             [
              0.7777777777777778,
              "#fb9f3a"
             ],
             [
              0.8888888888888888,
              "#fdca26"
             ],
             [
              1.0,
              "#f0f921"
             ]
            ]
           }
          ],
          "mesh3d": [
           {
            "type": "mesh3d",
            "colorbar": {
             "outlinewidth": 0,
             "ticks": ""
            }
           }
          ],
          "scatter": [
           {
            "fillpattern": {
             "fillmode": "overlay",
             "size": 10,
             "solidity": 0.2
            },
            "type": "scatter"
           }
          ],
          "parcoords": [
           {
            "type": "parcoords",
            "line": {
             "colorbar": {
              "outlinewidth": 0,
              "ticks": ""
             }
            }
           }
          ],
          "scatterpolargl": [
           {
            "type": "scatterpolargl",
            "marker": {
             "colorbar": {
              "outlinewidth": 0,
              "ticks": ""
             }
            }
           }
          ],
          "bar": [
           {
            "error_x": {
             "color": "#2a3f5f"
            },
            "error_y": {
             "color": "#2a3f5f"
            },
            "marker": {
             "line": {
              "color": "#E5ECF6",
              "width": 0.5
             },
             "pattern": {
              "fillmode": "overlay",
              "size": 10,
              "solidity": 0.2
             }
            },
            "type": "bar"
           }
          ],
          "scattergeo": [
           {
            "type": "scattergeo",
            "marker": {
             "colorbar": {
              "outlinewidth": 0,
              "ticks": ""
             }
            }
           }
          ],
          "scatterpolar": [
           {
            "type": "scatterpolar",
            "marker": {
             "colorbar": {
              "outlinewidth": 0,
              "ticks": ""
             }
            }
           }
          ],
          "histogram": [
           {
            "marker": {
             "pattern": {
              "fillmode": "overlay",
              "size": 10,
              "solidity": 0.2
             }
            },
            "type": "histogram"
           }
          ],
          "scattergl": [
           {
            "type": "scattergl",
            "marker": {
             "colorbar": {
              "outlinewidth": 0,
              "ticks": ""
             }
            }
           }
          ],
          "scatter3d": [
           {
            "type": "scatter3d",
            "line": {
             "colorbar": {
              "outlinewidth": 0,
              "ticks": ""
             }
            },
            "marker": {
             "colorbar": {
              "outlinewidth": 0,
              "ticks": ""
             }
            }
           }
          ],
          "scattermapbox": [
           {
            "type": "scattermapbox",
            "marker": {
             "colorbar": {
              "outlinewidth": 0,
              "ticks": ""
             }
            }
           }
          ],
          "scatterternary": [
           {
            "type": "scatterternary",
            "marker": {
             "colorbar": {
              "outlinewidth": 0,
              "ticks": ""
             }
            }
           }
          ],
          "scattercarpet": [
           {
            "type": "scattercarpet",
            "marker": {
             "colorbar": {
              "outlinewidth": 0,
              "ticks": ""
             }
            }
           }
          ],
          "carpet": [
           {
            "aaxis": {
             "endlinecolor": "#2a3f5f",
             "gridcolor": "white",
             "linecolor": "white",
             "minorgridcolor": "white",
             "startlinecolor": "#2a3f5f"
            },
            "baxis": {
             "endlinecolor": "#2a3f5f",
             "gridcolor": "white",
             "linecolor": "white",
             "minorgridcolor": "white",
             "startlinecolor": "#2a3f5f"
            },
            "type": "carpet"
           }
          ],
          "table": [
           {
            "cells": {
             "fill": {
              "color": "#EBF0F8"
             },
             "line": {
              "color": "white"
             }
            },
            "header": {
             "fill": {
              "color": "#C8D4E3"
             },
             "line": {
              "color": "white"
             }
            },
            "type": "table"
           }
          ],
          "barpolar": [
           {
            "marker": {
             "line": {
              "color": "#E5ECF6",
              "width": 0.5
             },
             "pattern": {
              "fillmode": "overlay",
              "size": 10,
              "solidity": 0.2
             }
            },
            "type": "barpolar"
           }
          ],
          "pie": [
           {
            "automargin": true,
            "type": "pie"
           }
          ]
         },
         "layout": {
          "autotypenumbers": "strict",
          "colorway": [
           "#636efa",
           "#EF553B",
           "#00cc96",
           "#ab63fa",
           "#FFA15A",
           "#19d3f3",
           "#FF6692",
           "#B6E880",
           "#FF97FF",
           "#FECB52"
          ],
          "font": {
           "color": "#2a3f5f"
          },
          "hovermode": "closest",
          "hoverlabel": {
           "align": "left"
          },
          "paper_bgcolor": "white",
          "plot_bgcolor": "#E5ECF6",
          "polar": {
           "bgcolor": "#E5ECF6",
           "angularaxis": {
            "gridcolor": "white",
            "linecolor": "white",
            "ticks": ""
           },
           "radialaxis": {
            "gridcolor": "white",
            "linecolor": "white",
            "ticks": ""
           }
          },
          "ternary": {
           "bgcolor": "#E5ECF6",
           "aaxis": {
            "gridcolor": "white",
            "linecolor": "white",
            "ticks": ""
           },
           "baxis": {
            "gridcolor": "white",
            "linecolor": "white",
            "ticks": ""
           },
           "caxis": {
            "gridcolor": "white",
            "linecolor": "white",
            "ticks": ""
           }
          },
          "coloraxis": {
           "colorbar": {
            "outlinewidth": 0,
            "ticks": ""
           }
          },
          "colorscale": {
           "sequential": [
            [
             0.0,
             "#0d0887"
            ],
            [
             0.1111111111111111,
             "#46039f"
            ],
            [
             0.2222222222222222,
             "#7201a8"
            ],
            [
             0.3333333333333333,
             "#9c179e"
            ],
            [
             0.4444444444444444,
             "#bd3786"
            ],
            [
             0.5555555555555556,
             "#d8576b"
            ],
            [
             0.6666666666666666,
             "#ed7953"
            ],
            [
             0.7777777777777778,
             "#fb9f3a"
            ],
            [
             0.8888888888888888,
             "#fdca26"
            ],
            [
             1.0,
             "#f0f921"
            ]
           ],
           "sequentialminus": [
            [
             0.0,
             "#0d0887"
            ],
            [
             0.1111111111111111,
             "#46039f"
            ],
            [
             0.2222222222222222,
             "#7201a8"
            ],
            [
             0.3333333333333333,
             "#9c179e"
            ],
            [
             0.4444444444444444,
             "#bd3786"
            ],
            [
             0.5555555555555556,
             "#d8576b"
            ],
            [
             0.6666666666666666,
             "#ed7953"
            ],
            [
             0.7777777777777778,
             "#fb9f3a"
            ],
            [
             0.8888888888888888,
             "#fdca26"
            ],
            [
             1.0,
             "#f0f921"
            ]
           ],
           "diverging": [
            [
             0,
             "#8e0152"
            ],
            [
             0.1,
             "#c51b7d"
            ],
            [
             0.2,
             "#de77ae"
            ],
            [
             0.3,
             "#f1b6da"
            ],
            [
             0.4,
             "#fde0ef"
            ],
            [
             0.5,
             "#f7f7f7"
            ],
            [
             0.6,
             "#e6f5d0"
            ],
            [
             0.7,
             "#b8e186"
            ],
            [
             0.8,
             "#7fbc41"
            ],
            [
             0.9,
             "#4d9221"
            ],
            [
             1,
             "#276419"
            ]
           ]
          },
          "xaxis": {
           "gridcolor": "white",
           "linecolor": "white",
           "ticks": "",
           "title": {
            "standoff": 15
           },
           "zerolinecolor": "white",
           "automargin": true,
           "zerolinewidth": 2
          },
          "yaxis": {
           "gridcolor": "white",
           "linecolor": "white",
           "ticks": "",
           "title": {
            "standoff": 15
           },
           "zerolinecolor": "white",
           "automargin": true,
           "zerolinewidth": 2
          },
          "scene": {
           "xaxis": {
            "backgroundcolor": "#E5ECF6",
            "gridcolor": "white",
            "linecolor": "white",
            "showbackground": true,
            "ticks": "",
            "zerolinecolor": "white",
            "gridwidth": 2
           },
           "yaxis": {
            "backgroundcolor": "#E5ECF6",
            "gridcolor": "white",
            "linecolor": "white",
            "showbackground": true,
            "ticks": "",
            "zerolinecolor": "white",
            "gridwidth": 2
           },
           "zaxis": {
            "backgroundcolor": "#E5ECF6",
            "gridcolor": "white",
            "linecolor": "white",
            "showbackground": true,
            "ticks": "",
            "zerolinecolor": "white",
            "gridwidth": 2
           }
          },
          "shapedefaults": {
           "line": {
            "color": "#2a3f5f"
           }
          },
          "annotationdefaults": {
           "arrowcolor": "#2a3f5f",
           "arrowhead": 0,
           "arrowwidth": 1
          },
          "geo": {
           "bgcolor": "white",
           "landcolor": "#E5ECF6",
           "subunitcolor": "white",
           "showland": true,
           "showlakes": true,
           "lakecolor": "white"
          },
          "title": {
           "x": 0.05
          },
          "mapbox": {
           "style": "light"
          }
         }
        },
        "polar": {
         "domain": {
          "x": [
           0.0,
           1.0
          ],
          "y": [
           0.0,
           1.0
          ]
         },
         "angularaxis": {
          "direction": "clockwise",
          "rotation": 90
         }
        },
        "legend": {
         "title": {
          "text": "cluster"
         },
         "tracegroupgap": 0
        },
        "margin": {
         "t": 60
        },
        "height": 800,
        "width": 1400
       },
       "config": {
        "plotlyServerURL": "https://plot.ly"
       }
      },
      "text/html": "<div>                            <div id=\"18c5619e-5c85-40a9-ad9a-6da7395c6649\" class=\"plotly-graph-div\" style=\"height:800px; width:1400px;\"></div>            <script type=\"text/javascript\">                require([\"plotly\"], function(Plotly) {                    window.PLOTLYENV=window.PLOTLYENV || {};                                    if (document.getElementById(\"18c5619e-5c85-40a9-ad9a-6da7395c6649\")) {                    Plotly.newPlot(                        \"18c5619e-5c85-40a9-ad9a-6da7395c6649\",                        [{\"hovertemplate\":\"cluster=0<br>value=%{r}<br>variable=%{theta}<extra></extra>\",\"legendgroup\":\"0\",\"line\":{\"color\":\"#636efa\",\"dash\":\"solid\"},\"marker\":{\"symbol\":\"circle\"},\"mode\":\"lines\",\"name\":\"0\",\"r\":[8.5,12.848484848484848,12.303030303030303,8.484848484848484,12.454545454545455,7.53030303030303,10.636363636363637,9.090909090909092,11.727272727272727,12.227272727272727,12.348484848484848,7.954545454545454,13.484848484848484,12.530303030303031,8.5],\"showlegend\":true,\"subplot\":\"polar\",\"theta\":[\"Corners\",\"Crossing\",\"Dribbling\",\"Finishing\",\"First Touch\",\"Free Kick Taking\",\"Heading\",\"Long Shots\",\"Long Throws\",\"Marking\",\"Passing\",\"Penalty Taking\",\"Tackling\",\"Technique\",\"Corners\"],\"type\":\"scatterpolar\"},{\"hovertemplate\":\"cluster=11<br>value=%{r}<br>variable=%{theta}<extra></extra>\",\"legendgroup\":\"11\",\"line\":{\"color\":\"#EF553B\",\"dash\":\"solid\"},\"marker\":{\"symbol\":\"circle\"},\"mode\":\"lines\",\"name\":\"11\",\"r\":[9.688888888888888,12.466666666666667,13.844444444444445,10.466666666666667,12.88888888888889,8.844444444444445,7.733333333333333,10.755555555555556,8.644444444444444,9.155555555555555,12.422222222222222,9.2,10.755555555555556,13.6,9.688888888888888],\"showlegend\":true,\"subplot\":\"polar\",\"theta\":[\"Corners\",\"Crossing\",\"Dribbling\",\"Finishing\",\"First Touch\",\"Free Kick Taking\",\"Heading\",\"Long Shots\",\"Long Throws\",\"Marking\",\"Passing\",\"Penalty Taking\",\"Tackling\",\"Technique\",\"Corners\"],\"type\":\"scatterpolar\"},{\"hovertemplate\":\"cluster=13<br>value=%{r}<br>variable=%{theta}<extra></extra>\",\"legendgroup\":\"13\",\"line\":{\"color\":\"#00cc96\",\"dash\":\"solid\"},\"marker\":{\"symbol\":\"circle\"},\"mode\":\"lines\",\"name\":\"13\",\"r\":[12.779411764705882,13.529411764705882,12.985294117647058,9.926470588235293,13.808823529411764,12.411764705882353,8.5,11.794117647058824,9.867647058823529,11.308823529411764,13.955882352941176,10.926470588235293,12.602941176470589,13.926470588235293,12.779411764705882],\"showlegend\":true,\"subplot\":\"polar\",\"theta\":[\"Corners\",\"Crossing\",\"Dribbling\",\"Finishing\",\"First Touch\",\"Free Kick Taking\",\"Heading\",\"Long Shots\",\"Long Throws\",\"Marking\",\"Passing\",\"Penalty Taking\",\"Tackling\",\"Technique\",\"Corners\"],\"type\":\"scatterpolar\"}],                        {\"template\":{\"data\":{\"histogram2dcontour\":[{\"type\":\"histogram2dcontour\",\"colorbar\":{\"outlinewidth\":0,\"ticks\":\"\"},\"colorscale\":[[0.0,\"#0d0887\"],[0.1111111111111111,\"#46039f\"],[0.2222222222222222,\"#7201a8\"],[0.3333333333333333,\"#9c179e\"],[0.4444444444444444,\"#bd3786\"],[0.5555555555555556,\"#d8576b\"],[0.6666666666666666,\"#ed7953\"],[0.7777777777777778,\"#fb9f3a\"],[0.8888888888888888,\"#fdca26\"],[1.0,\"#f0f921\"]]}],\"choropleth\":[{\"type\":\"choropleth\",\"colorbar\":{\"outlinewidth\":0,\"ticks\":\"\"}}],\"histogram2d\":[{\"type\":\"histogram2d\",\"colorbar\":{\"outlinewidth\":0,\"ticks\":\"\"},\"colorscale\":[[0.0,\"#0d0887\"],[0.1111111111111111,\"#46039f\"],[0.2222222222222222,\"#7201a8\"],[0.3333333333333333,\"#9c179e\"],[0.4444444444444444,\"#bd3786\"],[0.5555555555555556,\"#d8576b\"],[0.6666666666666666,\"#ed7953\"],[0.7777777777777778,\"#fb9f3a\"],[0.8888888888888888,\"#fdca26\"],[1.0,\"#f0f921\"]]}],\"heatmap\":[{\"type\":\"heatmap\",\"colorbar\":{\"outlinewidth\":0,\"ticks\":\"\"},\"colorscale\":[[0.0,\"#0d0887\"],[0.1111111111111111,\"#46039f\"],[0.2222222222222222,\"#7201a8\"],[0.3333333333333333,\"#9c179e\"],[0.4444444444444444,\"#bd3786\"],[0.5555555555555556,\"#d8576b\"],[0.6666666666666666,\"#ed7953\"],[0.7777777777777778,\"#fb9f3a\"],[0.8888888888888888,\"#fdca26\"],[1.0,\"#f0f921\"]]}],\"heatmapgl\":[{\"type\":\"heatmapgl\",\"colorbar\":{\"outlinewidth\":0,\"ticks\":\"\"},\"colorscale\":[[0.0,\"#0d0887\"],[0.1111111111111111,\"#46039f\"],[0.2222222222222222,\"#7201a8\"],[0.3333333333333333,\"#9c179e\"],[0.4444444444444444,\"#bd3786\"],[0.5555555555555556,\"#d8576b\"],[0.6666666666666666,\"#ed7953\"],[0.7777777777777778,\"#fb9f3a\"],[0.8888888888888888,\"#fdca26\"],[1.0,\"#f0f921\"]]}],\"contourcarpet\":[{\"type\":\"contourcarpet\",\"colorbar\":{\"outlinewidth\":0,\"ticks\":\"\"}}],\"contour\":[{\"type\":\"contour\",\"colorbar\":{\"outlinewidth\":0,\"ticks\":\"\"},\"colorscale\":[[0.0,\"#0d0887\"],[0.1111111111111111,\"#46039f\"],[0.2222222222222222,\"#7201a8\"],[0.3333333333333333,\"#9c179e\"],[0.4444444444444444,\"#bd3786\"],[0.5555555555555556,\"#d8576b\"],[0.6666666666666666,\"#ed7953\"],[0.7777777777777778,\"#fb9f3a\"],[0.8888888888888888,\"#fdca26\"],[1.0,\"#f0f921\"]]}],\"surface\":[{\"type\":\"surface\",\"colorbar\":{\"outlinewidth\":0,\"ticks\":\"\"},\"colorscale\":[[0.0,\"#0d0887\"],[0.1111111111111111,\"#46039f\"],[0.2222222222222222,\"#7201a8\"],[0.3333333333333333,\"#9c179e\"],[0.4444444444444444,\"#bd3786\"],[0.5555555555555556,\"#d8576b\"],[0.6666666666666666,\"#ed7953\"],[0.7777777777777778,\"#fb9f3a\"],[0.8888888888888888,\"#fdca26\"],[1.0,\"#f0f921\"]]}],\"mesh3d\":[{\"type\":\"mesh3d\",\"colorbar\":{\"outlinewidth\":0,\"ticks\":\"\"}}],\"scatter\":[{\"fillpattern\":{\"fillmode\":\"overlay\",\"size\":10,\"solidity\":0.2},\"type\":\"scatter\"}],\"parcoords\":[{\"type\":\"parcoords\",\"line\":{\"colorbar\":{\"outlinewidth\":0,\"ticks\":\"\"}}}],\"scatterpolargl\":[{\"type\":\"scatterpolargl\",\"marker\":{\"colorbar\":{\"outlinewidth\":0,\"ticks\":\"\"}}}],\"bar\":[{\"error_x\":{\"color\":\"#2a3f5f\"},\"error_y\":{\"color\":\"#2a3f5f\"},\"marker\":{\"line\":{\"color\":\"#E5ECF6\",\"width\":0.5},\"pattern\":{\"fillmode\":\"overlay\",\"size\":10,\"solidity\":0.2}},\"type\":\"bar\"}],\"scattergeo\":[{\"type\":\"scattergeo\",\"marker\":{\"colorbar\":{\"outlinewidth\":0,\"ticks\":\"\"}}}],\"scatterpolar\":[{\"type\":\"scatterpolar\",\"marker\":{\"colorbar\":{\"outlinewidth\":0,\"ticks\":\"\"}}}],\"histogram\":[{\"marker\":{\"pattern\":{\"fillmode\":\"overlay\",\"size\":10,\"solidity\":0.2}},\"type\":\"histogram\"}],\"scattergl\":[{\"type\":\"scattergl\",\"marker\":{\"colorbar\":{\"outlinewidth\":0,\"ticks\":\"\"}}}],\"scatter3d\":[{\"type\":\"scatter3d\",\"line\":{\"colorbar\":{\"outlinewidth\":0,\"ticks\":\"\"}},\"marker\":{\"colorbar\":{\"outlinewidth\":0,\"ticks\":\"\"}}}],\"scattermapbox\":[{\"type\":\"scattermapbox\",\"marker\":{\"colorbar\":{\"outlinewidth\":0,\"ticks\":\"\"}}}],\"scatterternary\":[{\"type\":\"scatterternary\",\"marker\":{\"colorbar\":{\"outlinewidth\":0,\"ticks\":\"\"}}}],\"scattercarpet\":[{\"type\":\"scattercarpet\",\"marker\":{\"colorbar\":{\"outlinewidth\":0,\"ticks\":\"\"}}}],\"carpet\":[{\"aaxis\":{\"endlinecolor\":\"#2a3f5f\",\"gridcolor\":\"white\",\"linecolor\":\"white\",\"minorgridcolor\":\"white\",\"startlinecolor\":\"#2a3f5f\"},\"baxis\":{\"endlinecolor\":\"#2a3f5f\",\"gridcolor\":\"white\",\"linecolor\":\"white\",\"minorgridcolor\":\"white\",\"startlinecolor\":\"#2a3f5f\"},\"type\":\"carpet\"}],\"table\":[{\"cells\":{\"fill\":{\"color\":\"#EBF0F8\"},\"line\":{\"color\":\"white\"}},\"header\":{\"fill\":{\"color\":\"#C8D4E3\"},\"line\":{\"color\":\"white\"}},\"type\":\"table\"}],\"barpolar\":[{\"marker\":{\"line\":{\"color\":\"#E5ECF6\",\"width\":0.5},\"pattern\":{\"fillmode\":\"overlay\",\"size\":10,\"solidity\":0.2}},\"type\":\"barpolar\"}],\"pie\":[{\"automargin\":true,\"type\":\"pie\"}]},\"layout\":{\"autotypenumbers\":\"strict\",\"colorway\":[\"#636efa\",\"#EF553B\",\"#00cc96\",\"#ab63fa\",\"#FFA15A\",\"#19d3f3\",\"#FF6692\",\"#B6E880\",\"#FF97FF\",\"#FECB52\"],\"font\":{\"color\":\"#2a3f5f\"},\"hovermode\":\"closest\",\"hoverlabel\":{\"align\":\"left\"},\"paper_bgcolor\":\"white\",\"plot_bgcolor\":\"#E5ECF6\",\"polar\":{\"bgcolor\":\"#E5ECF6\",\"angularaxis\":{\"gridcolor\":\"white\",\"linecolor\":\"white\",\"ticks\":\"\"},\"radialaxis\":{\"gridcolor\":\"white\",\"linecolor\":\"white\",\"ticks\":\"\"}},\"ternary\":{\"bgcolor\":\"#E5ECF6\",\"aaxis\":{\"gridcolor\":\"white\",\"linecolor\":\"white\",\"ticks\":\"\"},\"baxis\":{\"gridcolor\":\"white\",\"linecolor\":\"white\",\"ticks\":\"\"},\"caxis\":{\"gridcolor\":\"white\",\"linecolor\":\"white\",\"ticks\":\"\"}},\"coloraxis\":{\"colorbar\":{\"outlinewidth\":0,\"ticks\":\"\"}},\"colorscale\":{\"sequential\":[[0.0,\"#0d0887\"],[0.1111111111111111,\"#46039f\"],[0.2222222222222222,\"#7201a8\"],[0.3333333333333333,\"#9c179e\"],[0.4444444444444444,\"#bd3786\"],[0.5555555555555556,\"#d8576b\"],[0.6666666666666666,\"#ed7953\"],[0.7777777777777778,\"#fb9f3a\"],[0.8888888888888888,\"#fdca26\"],[1.0,\"#f0f921\"]],\"sequentialminus\":[[0.0,\"#0d0887\"],[0.1111111111111111,\"#46039f\"],[0.2222222222222222,\"#7201a8\"],[0.3333333333333333,\"#9c179e\"],[0.4444444444444444,\"#bd3786\"],[0.5555555555555556,\"#d8576b\"],[0.6666666666666666,\"#ed7953\"],[0.7777777777777778,\"#fb9f3a\"],[0.8888888888888888,\"#fdca26\"],[1.0,\"#f0f921\"]],\"diverging\":[[0,\"#8e0152\"],[0.1,\"#c51b7d\"],[0.2,\"#de77ae\"],[0.3,\"#f1b6da\"],[0.4,\"#fde0ef\"],[0.5,\"#f7f7f7\"],[0.6,\"#e6f5d0\"],[0.7,\"#b8e186\"],[0.8,\"#7fbc41\"],[0.9,\"#4d9221\"],[1,\"#276419\"]]},\"xaxis\":{\"gridcolor\":\"white\",\"linecolor\":\"white\",\"ticks\":\"\",\"title\":{\"standoff\":15},\"zerolinecolor\":\"white\",\"automargin\":true,\"zerolinewidth\":2},\"yaxis\":{\"gridcolor\":\"white\",\"linecolor\":\"white\",\"ticks\":\"\",\"title\":{\"standoff\":15},\"zerolinecolor\":\"white\",\"automargin\":true,\"zerolinewidth\":2},\"scene\":{\"xaxis\":{\"backgroundcolor\":\"#E5ECF6\",\"gridcolor\":\"white\",\"linecolor\":\"white\",\"showbackground\":true,\"ticks\":\"\",\"zerolinecolor\":\"white\",\"gridwidth\":2},\"yaxis\":{\"backgroundcolor\":\"#E5ECF6\",\"gridcolor\":\"white\",\"linecolor\":\"white\",\"showbackground\":true,\"ticks\":\"\",\"zerolinecolor\":\"white\",\"gridwidth\":2},\"zaxis\":{\"backgroundcolor\":\"#E5ECF6\",\"gridcolor\":\"white\",\"linecolor\":\"white\",\"showbackground\":true,\"ticks\":\"\",\"zerolinecolor\":\"white\",\"gridwidth\":2}},\"shapedefaults\":{\"line\":{\"color\":\"#2a3f5f\"}},\"annotationdefaults\":{\"arrowcolor\":\"#2a3f5f\",\"arrowhead\":0,\"arrowwidth\":1},\"geo\":{\"bgcolor\":\"white\",\"landcolor\":\"#E5ECF6\",\"subunitcolor\":\"white\",\"showland\":true,\"showlakes\":true,\"lakecolor\":\"white\"},\"title\":{\"x\":0.05},\"mapbox\":{\"style\":\"light\"}}},\"polar\":{\"domain\":{\"x\":[0.0,1.0],\"y\":[0.0,1.0]},\"angularaxis\":{\"direction\":\"clockwise\",\"rotation\":90}},\"legend\":{\"title\":{\"text\":\"cluster\"},\"tracegroupgap\":0},\"margin\":{\"t\":60},\"height\":800,\"width\":1400},                        {\"responsive\": true}                    ).then(function(){\n                            \nvar gd = document.getElementById('18c5619e-5c85-40a9-ad9a-6da7395c6649');\nvar x = new MutationObserver(function (mutations, observer) {{\n        var display = window.getComputedStyle(gd).display;\n        if (!display || display === 'none') {{\n            console.log([gd, 'removed!']);\n            Plotly.purge(gd);\n            observer.disconnect();\n        }}\n}});\n\n// Listen for the removal of the full notebook cells\nvar notebookContainer = gd.closest('#notebook-container');\nif (notebookContainer) {{\n    x.observe(notebookContainer, {childList: true});\n}}\n\n// Listen for the clearing of the current output cell\nvar outputEl = gd.closest('.output');\nif (outputEl) {{\n    x.observe(outputEl, {childList: true});\n}}\n\n                        })                };                });            </script>        </div>"
     },
     "metadata": {},
     "output_type": "display_data"
    }
   ],
   "source": [
    "#plot technical,physical, mental stats for given cluster numbers\n",
    "technical = ['Corners', 'Crossing', 'Dribbling',\n",
    "             'Finishing', 'First Touch', 'Free Kick Taking', 'Heading', 'Long Shots',\n",
    "             'Long Throws', 'Marking', 'Passing', 'Penalty Taking', 'Tackling',\n",
    "             'Technique','cluster']\n",
    "physical = [ 'Work Rate',\n",
    "             'Acceleration', 'Agility', 'Balance', 'Jumping Reach',\n",
    "             'Natural Fitness', 'Pace', 'Stamina', 'Strength','cluster']\n",
    "mental = ['Aggression', 'Anticipation', 'Bravery', 'Composure',\n",
    "          'Concentration', 'Decisions', 'Determination', 'Flair', 'Leadership',\n",
    "          'Off the Ball', 'Positioning', 'Teamwork', 'Vision', 'cluster']\n",
    "\n",
    "striker_clusters = [0,11,13]\n",
    "df_strikers = df[df['cluster'].isin(striker_clusters)]\n",
    "#technical radar plot\n",
    "polar=df_strikers[technical].groupby(\"cluster\").mean().reset_index()\n",
    "polar=pd.melt(polar,id_vars=[\"cluster\"])\n",
    "fig4 = px.line_polar(polar, r=\"value\", theta=\"variable\", color=\"cluster\", line_close=True,height=800,width=1400)\n",
    "fig4.show()"
   ],
   "metadata": {
    "collapsed": false
   }
  },
  {
   "cell_type": "code",
   "execution_count": 31,
   "outputs": [
    {
     "name": "stderr",
     "output_type": "stream",
     "text": [
      "C:\\Users\\joemc\\anaconda3\\lib\\site-packages\\plotly\\express\\_core.py:271: FutureWarning:\n",
      "\n",
      "The frame.append method is deprecated and will be removed from pandas in a future version. Use pandas.concat instead.\n",
      "\n",
      "C:\\Users\\joemc\\anaconda3\\lib\\site-packages\\plotly\\express\\_core.py:271: FutureWarning:\n",
      "\n",
      "The frame.append method is deprecated and will be removed from pandas in a future version. Use pandas.concat instead.\n",
      "\n",
      "C:\\Users\\joemc\\anaconda3\\lib\\site-packages\\plotly\\express\\_core.py:271: FutureWarning:\n",
      "\n",
      "The frame.append method is deprecated and will be removed from pandas in a future version. Use pandas.concat instead.\n",
      "\n"
     ]
    },
    {
     "data": {
      "application/vnd.plotly.v1+json": {
       "data": [
        {
         "hovertemplate": "cluster=0<br>value=%{r}<br>variable=%{theta}<extra></extra>",
         "legendgroup": "0",
         "line": {
          "color": "#636efa",
          "dash": "solid"
         },
         "marker": {
          "symbol": "circle"
         },
         "mode": "lines",
         "name": "0",
         "r": [
          13.575757575757576,
          13.06060606060606,
          14.272727272727273,
          12.484848484848484,
          12.742424242424242,
          12.43939393939394,
          14.5,
          10.818181818181818,
          9.969696969696969,
          13.409090909090908,
          12.606060606060606,
          14.606060606060606,
          11.212121212121213,
          13.575757575757576
         ],
         "showlegend": true,
         "subplot": "polar",
         "theta": [
          "Aggression",
          "Anticipation",
          "Bravery",
          "Composure",
          "Concentration",
          "Decisions",
          "Determination",
          "Flair",
          "Leadership",
          "Off the Ball",
          "Positioning",
          "Teamwork",
          "Vision",
          "Aggression"
         ],
         "type": "scatterpolar"
        },
        {
         "hovertemplate": "cluster=11<br>value=%{r}<br>variable=%{theta}<extra></extra>",
         "legendgroup": "11",
         "line": {
          "color": "#EF553B",
          "dash": "solid"
         },
         "marker": {
          "symbol": "circle"
         },
         "mode": "lines",
         "name": "11",
         "r": [
          11.533333333333333,
          12.222222222222221,
          12.2,
          11.28888888888889,
          11.222222222222221,
          11.511111111111111,
          13.844444444444445,
          13.355555555555556,
          7.644444444444445,
          13.755555555555556,
          10.11111111111111,
          12.88888888888889,
          12.11111111111111,
          11.533333333333333
         ],
         "showlegend": true,
         "subplot": "polar",
         "theta": [
          "Aggression",
          "Anticipation",
          "Bravery",
          "Composure",
          "Concentration",
          "Decisions",
          "Determination",
          "Flair",
          "Leadership",
          "Off the Ball",
          "Positioning",
          "Teamwork",
          "Vision",
          "Aggression"
         ],
         "type": "scatterpolar"
        },
        {
         "hovertemplate": "cluster=13<br>value=%{r}<br>variable=%{theta}<extra></extra>",
         "legendgroup": "13",
         "line": {
          "color": "#00cc96",
          "dash": "solid"
         },
         "marker": {
          "symbol": "circle"
         },
         "mode": "lines",
         "name": "13",
         "r": [
          12.588235294117647,
          13.588235294117647,
          13.117647058823529,
          13.338235294117647,
          13.176470588235293,
          13.455882352941176,
          14.308823529411764,
          12.485294117647058,
          11.117647058823529,
          13.735294117647058,
          12.441176470588236,
          15.044117647058824,
          13.426470588235293,
          12.588235294117647
         ],
         "showlegend": true,
         "subplot": "polar",
         "theta": [
          "Aggression",
          "Anticipation",
          "Bravery",
          "Composure",
          "Concentration",
          "Decisions",
          "Determination",
          "Flair",
          "Leadership",
          "Off the Ball",
          "Positioning",
          "Teamwork",
          "Vision",
          "Aggression"
         ],
         "type": "scatterpolar"
        }
       ],
       "layout": {
        "template": {
         "data": {
          "histogram2dcontour": [
           {
            "type": "histogram2dcontour",
            "colorbar": {
             "outlinewidth": 0,
             "ticks": ""
            },
            "colorscale": [
             [
              0.0,
              "#0d0887"
             ],
             [
              0.1111111111111111,
              "#46039f"
             ],
             [
              0.2222222222222222,
              "#7201a8"
             ],
             [
              0.3333333333333333,
              "#9c179e"
             ],
             [
              0.4444444444444444,
              "#bd3786"
             ],
             [
              0.5555555555555556,
              "#d8576b"
             ],
             [
              0.6666666666666666,
              "#ed7953"
             ],
             [
              0.7777777777777778,
              "#fb9f3a"
             ],
             [
              0.8888888888888888,
              "#fdca26"
             ],
             [
              1.0,
              "#f0f921"
             ]
            ]
           }
          ],
          "choropleth": [
           {
            "type": "choropleth",
            "colorbar": {
             "outlinewidth": 0,
             "ticks": ""
            }
           }
          ],
          "histogram2d": [
           {
            "type": "histogram2d",
            "colorbar": {
             "outlinewidth": 0,
             "ticks": ""
            },
            "colorscale": [
             [
              0.0,
              "#0d0887"
             ],
             [
              0.1111111111111111,
              "#46039f"
             ],
             [
              0.2222222222222222,
              "#7201a8"
             ],
             [
              0.3333333333333333,
              "#9c179e"
             ],
             [
              0.4444444444444444,
              "#bd3786"
             ],
             [
              0.5555555555555556,
              "#d8576b"
             ],
             [
              0.6666666666666666,
              "#ed7953"
             ],
             [
              0.7777777777777778,
              "#fb9f3a"
             ],
             [
              0.8888888888888888,
              "#fdca26"
             ],
             [
              1.0,
              "#f0f921"
             ]
            ]
           }
          ],
          "heatmap": [
           {
            "type": "heatmap",
            "colorbar": {
             "outlinewidth": 0,
             "ticks": ""
            },
            "colorscale": [
             [
              0.0,
              "#0d0887"
             ],
             [
              0.1111111111111111,
              "#46039f"
             ],
             [
              0.2222222222222222,
              "#7201a8"
             ],
             [
              0.3333333333333333,
              "#9c179e"
             ],
             [
              0.4444444444444444,
              "#bd3786"
             ],
             [
              0.5555555555555556,
              "#d8576b"
             ],
             [
              0.6666666666666666,
              "#ed7953"
             ],
             [
              0.7777777777777778,
              "#fb9f3a"
             ],
             [
              0.8888888888888888,
              "#fdca26"
             ],
             [
              1.0,
              "#f0f921"
             ]
            ]
           }
          ],
          "heatmapgl": [
           {
            "type": "heatmapgl",
            "colorbar": {
             "outlinewidth": 0,
             "ticks": ""
            },
            "colorscale": [
             [
              0.0,
              "#0d0887"
             ],
             [
              0.1111111111111111,
              "#46039f"
             ],
             [
              0.2222222222222222,
              "#7201a8"
             ],
             [
              0.3333333333333333,
              "#9c179e"
             ],
             [
              0.4444444444444444,
              "#bd3786"
             ],
             [
              0.5555555555555556,
              "#d8576b"
             ],
             [
              0.6666666666666666,
              "#ed7953"
             ],
             [
              0.7777777777777778,
              "#fb9f3a"
             ],
             [
              0.8888888888888888,
              "#fdca26"
             ],
             [
              1.0,
              "#f0f921"
             ]
            ]
           }
          ],
          "contourcarpet": [
           {
            "type": "contourcarpet",
            "colorbar": {
             "outlinewidth": 0,
             "ticks": ""
            }
           }
          ],
          "contour": [
           {
            "type": "contour",
            "colorbar": {
             "outlinewidth": 0,
             "ticks": ""
            },
            "colorscale": [
             [
              0.0,
              "#0d0887"
             ],
             [
              0.1111111111111111,
              "#46039f"
             ],
             [
              0.2222222222222222,
              "#7201a8"
             ],
             [
              0.3333333333333333,
              "#9c179e"
             ],
             [
              0.4444444444444444,
              "#bd3786"
             ],
             [
              0.5555555555555556,
              "#d8576b"
             ],
             [
              0.6666666666666666,
              "#ed7953"
             ],
             [
              0.7777777777777778,
              "#fb9f3a"
             ],
             [
              0.8888888888888888,
              "#fdca26"
             ],
             [
              1.0,
              "#f0f921"
             ]
            ]
           }
          ],
          "surface": [
           {
            "type": "surface",
            "colorbar": {
             "outlinewidth": 0,
             "ticks": ""
            },
            "colorscale": [
             [
              0.0,
              "#0d0887"
             ],
             [
              0.1111111111111111,
              "#46039f"
             ],
             [
              0.2222222222222222,
              "#7201a8"
             ],
             [
              0.3333333333333333,
              "#9c179e"
             ],
             [
              0.4444444444444444,
              "#bd3786"
             ],
             [
              0.5555555555555556,
              "#d8576b"
             ],
             [
              0.6666666666666666,
              "#ed7953"
             ],
             [
              0.7777777777777778,
              "#fb9f3a"
             ],
             [
              0.8888888888888888,
              "#fdca26"
             ],
             [
              1.0,
              "#f0f921"
             ]
            ]
           }
          ],
          "mesh3d": [
           {
            "type": "mesh3d",
            "colorbar": {
             "outlinewidth": 0,
             "ticks": ""
            }
           }
          ],
          "scatter": [
           {
            "fillpattern": {
             "fillmode": "overlay",
             "size": 10,
             "solidity": 0.2
            },
            "type": "scatter"
           }
          ],
          "parcoords": [
           {
            "type": "parcoords",
            "line": {
             "colorbar": {
              "outlinewidth": 0,
              "ticks": ""
             }
            }
           }
          ],
          "scatterpolargl": [
           {
            "type": "scatterpolargl",
            "marker": {
             "colorbar": {
              "outlinewidth": 0,
              "ticks": ""
             }
            }
           }
          ],
          "bar": [
           {
            "error_x": {
             "color": "#2a3f5f"
            },
            "error_y": {
             "color": "#2a3f5f"
            },
            "marker": {
             "line": {
              "color": "#E5ECF6",
              "width": 0.5
             },
             "pattern": {
              "fillmode": "overlay",
              "size": 10,
              "solidity": 0.2
             }
            },
            "type": "bar"
           }
          ],
          "scattergeo": [
           {
            "type": "scattergeo",
            "marker": {
             "colorbar": {
              "outlinewidth": 0,
              "ticks": ""
             }
            }
           }
          ],
          "scatterpolar": [
           {
            "type": "scatterpolar",
            "marker": {
             "colorbar": {
              "outlinewidth": 0,
              "ticks": ""
             }
            }
           }
          ],
          "histogram": [
           {
            "marker": {
             "pattern": {
              "fillmode": "overlay",
              "size": 10,
              "solidity": 0.2
             }
            },
            "type": "histogram"
           }
          ],
          "scattergl": [
           {
            "type": "scattergl",
            "marker": {
             "colorbar": {
              "outlinewidth": 0,
              "ticks": ""
             }
            }
           }
          ],
          "scatter3d": [
           {
            "type": "scatter3d",
            "line": {
             "colorbar": {
              "outlinewidth": 0,
              "ticks": ""
             }
            },
            "marker": {
             "colorbar": {
              "outlinewidth": 0,
              "ticks": ""
             }
            }
           }
          ],
          "scattermapbox": [
           {
            "type": "scattermapbox",
            "marker": {
             "colorbar": {
              "outlinewidth": 0,
              "ticks": ""
             }
            }
           }
          ],
          "scatterternary": [
           {
            "type": "scatterternary",
            "marker": {
             "colorbar": {
              "outlinewidth": 0,
              "ticks": ""
             }
            }
           }
          ],
          "scattercarpet": [
           {
            "type": "scattercarpet",
            "marker": {
             "colorbar": {
              "outlinewidth": 0,
              "ticks": ""
             }
            }
           }
          ],
          "carpet": [
           {
            "aaxis": {
             "endlinecolor": "#2a3f5f",
             "gridcolor": "white",
             "linecolor": "white",
             "minorgridcolor": "white",
             "startlinecolor": "#2a3f5f"
            },
            "baxis": {
             "endlinecolor": "#2a3f5f",
             "gridcolor": "white",
             "linecolor": "white",
             "minorgridcolor": "white",
             "startlinecolor": "#2a3f5f"
            },
            "type": "carpet"
           }
          ],
          "table": [
           {
            "cells": {
             "fill": {
              "color": "#EBF0F8"
             },
             "line": {
              "color": "white"
             }
            },
            "header": {
             "fill": {
              "color": "#C8D4E3"
             },
             "line": {
              "color": "white"
             }
            },
            "type": "table"
           }
          ],
          "barpolar": [
           {
            "marker": {
             "line": {
              "color": "#E5ECF6",
              "width": 0.5
             },
             "pattern": {
              "fillmode": "overlay",
              "size": 10,
              "solidity": 0.2
             }
            },
            "type": "barpolar"
           }
          ],
          "pie": [
           {
            "automargin": true,
            "type": "pie"
           }
          ]
         },
         "layout": {
          "autotypenumbers": "strict",
          "colorway": [
           "#636efa",
           "#EF553B",
           "#00cc96",
           "#ab63fa",
           "#FFA15A",
           "#19d3f3",
           "#FF6692",
           "#B6E880",
           "#FF97FF",
           "#FECB52"
          ],
          "font": {
           "color": "#2a3f5f"
          },
          "hovermode": "closest",
          "hoverlabel": {
           "align": "left"
          },
          "paper_bgcolor": "white",
          "plot_bgcolor": "#E5ECF6",
          "polar": {
           "bgcolor": "#E5ECF6",
           "angularaxis": {
            "gridcolor": "white",
            "linecolor": "white",
            "ticks": ""
           },
           "radialaxis": {
            "gridcolor": "white",
            "linecolor": "white",
            "ticks": ""
           }
          },
          "ternary": {
           "bgcolor": "#E5ECF6",
           "aaxis": {
            "gridcolor": "white",
            "linecolor": "white",
            "ticks": ""
           },
           "baxis": {
            "gridcolor": "white",
            "linecolor": "white",
            "ticks": ""
           },
           "caxis": {
            "gridcolor": "white",
            "linecolor": "white",
            "ticks": ""
           }
          },
          "coloraxis": {
           "colorbar": {
            "outlinewidth": 0,
            "ticks": ""
           }
          },
          "colorscale": {
           "sequential": [
            [
             0.0,
             "#0d0887"
            ],
            [
             0.1111111111111111,
             "#46039f"
            ],
            [
             0.2222222222222222,
             "#7201a8"
            ],
            [
             0.3333333333333333,
             "#9c179e"
            ],
            [
             0.4444444444444444,
             "#bd3786"
            ],
            [
             0.5555555555555556,
             "#d8576b"
            ],
            [
             0.6666666666666666,
             "#ed7953"
            ],
            [
             0.7777777777777778,
             "#fb9f3a"
            ],
            [
             0.8888888888888888,
             "#fdca26"
            ],
            [
             1.0,
             "#f0f921"
            ]
           ],
           "sequentialminus": [
            [
             0.0,
             "#0d0887"
            ],
            [
             0.1111111111111111,
             "#46039f"
            ],
            [
             0.2222222222222222,
             "#7201a8"
            ],
            [
             0.3333333333333333,
             "#9c179e"
            ],
            [
             0.4444444444444444,
             "#bd3786"
            ],
            [
             0.5555555555555556,
             "#d8576b"
            ],
            [
             0.6666666666666666,
             "#ed7953"
            ],
            [
             0.7777777777777778,
             "#fb9f3a"
            ],
            [
             0.8888888888888888,
             "#fdca26"
            ],
            [
             1.0,
             "#f0f921"
            ]
           ],
           "diverging": [
            [
             0,
             "#8e0152"
            ],
            [
             0.1,
             "#c51b7d"
            ],
            [
             0.2,
             "#de77ae"
            ],
            [
             0.3,
             "#f1b6da"
            ],
            [
             0.4,
             "#fde0ef"
            ],
            [
             0.5,
             "#f7f7f7"
            ],
            [
             0.6,
             "#e6f5d0"
            ],
            [
             0.7,
             "#b8e186"
            ],
            [
             0.8,
             "#7fbc41"
            ],
            [
             0.9,
             "#4d9221"
            ],
            [
             1,
             "#276419"
            ]
           ]
          },
          "xaxis": {
           "gridcolor": "white",
           "linecolor": "white",
           "ticks": "",
           "title": {
            "standoff": 15
           },
           "zerolinecolor": "white",
           "automargin": true,
           "zerolinewidth": 2
          },
          "yaxis": {
           "gridcolor": "white",
           "linecolor": "white",
           "ticks": "",
           "title": {
            "standoff": 15
           },
           "zerolinecolor": "white",
           "automargin": true,
           "zerolinewidth": 2
          },
          "scene": {
           "xaxis": {
            "backgroundcolor": "#E5ECF6",
            "gridcolor": "white",
            "linecolor": "white",
            "showbackground": true,
            "ticks": "",
            "zerolinecolor": "white",
            "gridwidth": 2
           },
           "yaxis": {
            "backgroundcolor": "#E5ECF6",
            "gridcolor": "white",
            "linecolor": "white",
            "showbackground": true,
            "ticks": "",
            "zerolinecolor": "white",
            "gridwidth": 2
           },
           "zaxis": {
            "backgroundcolor": "#E5ECF6",
            "gridcolor": "white",
            "linecolor": "white",
            "showbackground": true,
            "ticks": "",
            "zerolinecolor": "white",
            "gridwidth": 2
           }
          },
          "shapedefaults": {
           "line": {
            "color": "#2a3f5f"
           }
          },
          "annotationdefaults": {
           "arrowcolor": "#2a3f5f",
           "arrowhead": 0,
           "arrowwidth": 1
          },
          "geo": {
           "bgcolor": "white",
           "landcolor": "#E5ECF6",
           "subunitcolor": "white",
           "showland": true,
           "showlakes": true,
           "lakecolor": "white"
          },
          "title": {
           "x": 0.05
          },
          "mapbox": {
           "style": "light"
          }
         }
        },
        "polar": {
         "domain": {
          "x": [
           0.0,
           1.0
          ],
          "y": [
           0.0,
           1.0
          ]
         },
         "angularaxis": {
          "direction": "clockwise",
          "rotation": 90
         }
        },
        "legend": {
         "title": {
          "text": "cluster"
         },
         "tracegroupgap": 0
        },
        "margin": {
         "t": 60
        },
        "height": 800,
        "width": 1400
       },
       "config": {
        "plotlyServerURL": "https://plot.ly"
       }
      },
      "text/html": "<div>                            <div id=\"db7b671a-9b21-4b45-8c33-a269254cee48\" class=\"plotly-graph-div\" style=\"height:800px; width:1400px;\"></div>            <script type=\"text/javascript\">                require([\"plotly\"], function(Plotly) {                    window.PLOTLYENV=window.PLOTLYENV || {};                                    if (document.getElementById(\"db7b671a-9b21-4b45-8c33-a269254cee48\")) {                    Plotly.newPlot(                        \"db7b671a-9b21-4b45-8c33-a269254cee48\",                        [{\"hovertemplate\":\"cluster=0<br>value=%{r}<br>variable=%{theta}<extra></extra>\",\"legendgroup\":\"0\",\"line\":{\"color\":\"#636efa\",\"dash\":\"solid\"},\"marker\":{\"symbol\":\"circle\"},\"mode\":\"lines\",\"name\":\"0\",\"r\":[13.575757575757576,13.06060606060606,14.272727272727273,12.484848484848484,12.742424242424242,12.43939393939394,14.5,10.818181818181818,9.969696969696969,13.409090909090908,12.606060606060606,14.606060606060606,11.212121212121213,13.575757575757576],\"showlegend\":true,\"subplot\":\"polar\",\"theta\":[\"Aggression\",\"Anticipation\",\"Bravery\",\"Composure\",\"Concentration\",\"Decisions\",\"Determination\",\"Flair\",\"Leadership\",\"Off the Ball\",\"Positioning\",\"Teamwork\",\"Vision\",\"Aggression\"],\"type\":\"scatterpolar\"},{\"hovertemplate\":\"cluster=11<br>value=%{r}<br>variable=%{theta}<extra></extra>\",\"legendgroup\":\"11\",\"line\":{\"color\":\"#EF553B\",\"dash\":\"solid\"},\"marker\":{\"symbol\":\"circle\"},\"mode\":\"lines\",\"name\":\"11\",\"r\":[11.533333333333333,12.222222222222221,12.2,11.28888888888889,11.222222222222221,11.511111111111111,13.844444444444445,13.355555555555556,7.644444444444445,13.755555555555556,10.11111111111111,12.88888888888889,12.11111111111111,11.533333333333333],\"showlegend\":true,\"subplot\":\"polar\",\"theta\":[\"Aggression\",\"Anticipation\",\"Bravery\",\"Composure\",\"Concentration\",\"Decisions\",\"Determination\",\"Flair\",\"Leadership\",\"Off the Ball\",\"Positioning\",\"Teamwork\",\"Vision\",\"Aggression\"],\"type\":\"scatterpolar\"},{\"hovertemplate\":\"cluster=13<br>value=%{r}<br>variable=%{theta}<extra></extra>\",\"legendgroup\":\"13\",\"line\":{\"color\":\"#00cc96\",\"dash\":\"solid\"},\"marker\":{\"symbol\":\"circle\"},\"mode\":\"lines\",\"name\":\"13\",\"r\":[12.588235294117647,13.588235294117647,13.117647058823529,13.338235294117647,13.176470588235293,13.455882352941176,14.308823529411764,12.485294117647058,11.117647058823529,13.735294117647058,12.441176470588236,15.044117647058824,13.426470588235293,12.588235294117647],\"showlegend\":true,\"subplot\":\"polar\",\"theta\":[\"Aggression\",\"Anticipation\",\"Bravery\",\"Composure\",\"Concentration\",\"Decisions\",\"Determination\",\"Flair\",\"Leadership\",\"Off the Ball\",\"Positioning\",\"Teamwork\",\"Vision\",\"Aggression\"],\"type\":\"scatterpolar\"}],                        {\"template\":{\"data\":{\"histogram2dcontour\":[{\"type\":\"histogram2dcontour\",\"colorbar\":{\"outlinewidth\":0,\"ticks\":\"\"},\"colorscale\":[[0.0,\"#0d0887\"],[0.1111111111111111,\"#46039f\"],[0.2222222222222222,\"#7201a8\"],[0.3333333333333333,\"#9c179e\"],[0.4444444444444444,\"#bd3786\"],[0.5555555555555556,\"#d8576b\"],[0.6666666666666666,\"#ed7953\"],[0.7777777777777778,\"#fb9f3a\"],[0.8888888888888888,\"#fdca26\"],[1.0,\"#f0f921\"]]}],\"choropleth\":[{\"type\":\"choropleth\",\"colorbar\":{\"outlinewidth\":0,\"ticks\":\"\"}}],\"histogram2d\":[{\"type\":\"histogram2d\",\"colorbar\":{\"outlinewidth\":0,\"ticks\":\"\"},\"colorscale\":[[0.0,\"#0d0887\"],[0.1111111111111111,\"#46039f\"],[0.2222222222222222,\"#7201a8\"],[0.3333333333333333,\"#9c179e\"],[0.4444444444444444,\"#bd3786\"],[0.5555555555555556,\"#d8576b\"],[0.6666666666666666,\"#ed7953\"],[0.7777777777777778,\"#fb9f3a\"],[0.8888888888888888,\"#fdca26\"],[1.0,\"#f0f921\"]]}],\"heatmap\":[{\"type\":\"heatmap\",\"colorbar\":{\"outlinewidth\":0,\"ticks\":\"\"},\"colorscale\":[[0.0,\"#0d0887\"],[0.1111111111111111,\"#46039f\"],[0.2222222222222222,\"#7201a8\"],[0.3333333333333333,\"#9c179e\"],[0.4444444444444444,\"#bd3786\"],[0.5555555555555556,\"#d8576b\"],[0.6666666666666666,\"#ed7953\"],[0.7777777777777778,\"#fb9f3a\"],[0.8888888888888888,\"#fdca26\"],[1.0,\"#f0f921\"]]}],\"heatmapgl\":[{\"type\":\"heatmapgl\",\"colorbar\":{\"outlinewidth\":0,\"ticks\":\"\"},\"colorscale\":[[0.0,\"#0d0887\"],[0.1111111111111111,\"#46039f\"],[0.2222222222222222,\"#7201a8\"],[0.3333333333333333,\"#9c179e\"],[0.4444444444444444,\"#bd3786\"],[0.5555555555555556,\"#d8576b\"],[0.6666666666666666,\"#ed7953\"],[0.7777777777777778,\"#fb9f3a\"],[0.8888888888888888,\"#fdca26\"],[1.0,\"#f0f921\"]]}],\"contourcarpet\":[{\"type\":\"contourcarpet\",\"colorbar\":{\"outlinewidth\":0,\"ticks\":\"\"}}],\"contour\":[{\"type\":\"contour\",\"colorbar\":{\"outlinewidth\":0,\"ticks\":\"\"},\"colorscale\":[[0.0,\"#0d0887\"],[0.1111111111111111,\"#46039f\"],[0.2222222222222222,\"#7201a8\"],[0.3333333333333333,\"#9c179e\"],[0.4444444444444444,\"#bd3786\"],[0.5555555555555556,\"#d8576b\"],[0.6666666666666666,\"#ed7953\"],[0.7777777777777778,\"#fb9f3a\"],[0.8888888888888888,\"#fdca26\"],[1.0,\"#f0f921\"]]}],\"surface\":[{\"type\":\"surface\",\"colorbar\":{\"outlinewidth\":0,\"ticks\":\"\"},\"colorscale\":[[0.0,\"#0d0887\"],[0.1111111111111111,\"#46039f\"],[0.2222222222222222,\"#7201a8\"],[0.3333333333333333,\"#9c179e\"],[0.4444444444444444,\"#bd3786\"],[0.5555555555555556,\"#d8576b\"],[0.6666666666666666,\"#ed7953\"],[0.7777777777777778,\"#fb9f3a\"],[0.8888888888888888,\"#fdca26\"],[1.0,\"#f0f921\"]]}],\"mesh3d\":[{\"type\":\"mesh3d\",\"colorbar\":{\"outlinewidth\":0,\"ticks\":\"\"}}],\"scatter\":[{\"fillpattern\":{\"fillmode\":\"overlay\",\"size\":10,\"solidity\":0.2},\"type\":\"scatter\"}],\"parcoords\":[{\"type\":\"parcoords\",\"line\":{\"colorbar\":{\"outlinewidth\":0,\"ticks\":\"\"}}}],\"scatterpolargl\":[{\"type\":\"scatterpolargl\",\"marker\":{\"colorbar\":{\"outlinewidth\":0,\"ticks\":\"\"}}}],\"bar\":[{\"error_x\":{\"color\":\"#2a3f5f\"},\"error_y\":{\"color\":\"#2a3f5f\"},\"marker\":{\"line\":{\"color\":\"#E5ECF6\",\"width\":0.5},\"pattern\":{\"fillmode\":\"overlay\",\"size\":10,\"solidity\":0.2}},\"type\":\"bar\"}],\"scattergeo\":[{\"type\":\"scattergeo\",\"marker\":{\"colorbar\":{\"outlinewidth\":0,\"ticks\":\"\"}}}],\"scatterpolar\":[{\"type\":\"scatterpolar\",\"marker\":{\"colorbar\":{\"outlinewidth\":0,\"ticks\":\"\"}}}],\"histogram\":[{\"marker\":{\"pattern\":{\"fillmode\":\"overlay\",\"size\":10,\"solidity\":0.2}},\"type\":\"histogram\"}],\"scattergl\":[{\"type\":\"scattergl\",\"marker\":{\"colorbar\":{\"outlinewidth\":0,\"ticks\":\"\"}}}],\"scatter3d\":[{\"type\":\"scatter3d\",\"line\":{\"colorbar\":{\"outlinewidth\":0,\"ticks\":\"\"}},\"marker\":{\"colorbar\":{\"outlinewidth\":0,\"ticks\":\"\"}}}],\"scattermapbox\":[{\"type\":\"scattermapbox\",\"marker\":{\"colorbar\":{\"outlinewidth\":0,\"ticks\":\"\"}}}],\"scatterternary\":[{\"type\":\"scatterternary\",\"marker\":{\"colorbar\":{\"outlinewidth\":0,\"ticks\":\"\"}}}],\"scattercarpet\":[{\"type\":\"scattercarpet\",\"marker\":{\"colorbar\":{\"outlinewidth\":0,\"ticks\":\"\"}}}],\"carpet\":[{\"aaxis\":{\"endlinecolor\":\"#2a3f5f\",\"gridcolor\":\"white\",\"linecolor\":\"white\",\"minorgridcolor\":\"white\",\"startlinecolor\":\"#2a3f5f\"},\"baxis\":{\"endlinecolor\":\"#2a3f5f\",\"gridcolor\":\"white\",\"linecolor\":\"white\",\"minorgridcolor\":\"white\",\"startlinecolor\":\"#2a3f5f\"},\"type\":\"carpet\"}],\"table\":[{\"cells\":{\"fill\":{\"color\":\"#EBF0F8\"},\"line\":{\"color\":\"white\"}},\"header\":{\"fill\":{\"color\":\"#C8D4E3\"},\"line\":{\"color\":\"white\"}},\"type\":\"table\"}],\"barpolar\":[{\"marker\":{\"line\":{\"color\":\"#E5ECF6\",\"width\":0.5},\"pattern\":{\"fillmode\":\"overlay\",\"size\":10,\"solidity\":0.2}},\"type\":\"barpolar\"}],\"pie\":[{\"automargin\":true,\"type\":\"pie\"}]},\"layout\":{\"autotypenumbers\":\"strict\",\"colorway\":[\"#636efa\",\"#EF553B\",\"#00cc96\",\"#ab63fa\",\"#FFA15A\",\"#19d3f3\",\"#FF6692\",\"#B6E880\",\"#FF97FF\",\"#FECB52\"],\"font\":{\"color\":\"#2a3f5f\"},\"hovermode\":\"closest\",\"hoverlabel\":{\"align\":\"left\"},\"paper_bgcolor\":\"white\",\"plot_bgcolor\":\"#E5ECF6\",\"polar\":{\"bgcolor\":\"#E5ECF6\",\"angularaxis\":{\"gridcolor\":\"white\",\"linecolor\":\"white\",\"ticks\":\"\"},\"radialaxis\":{\"gridcolor\":\"white\",\"linecolor\":\"white\",\"ticks\":\"\"}},\"ternary\":{\"bgcolor\":\"#E5ECF6\",\"aaxis\":{\"gridcolor\":\"white\",\"linecolor\":\"white\",\"ticks\":\"\"},\"baxis\":{\"gridcolor\":\"white\",\"linecolor\":\"white\",\"ticks\":\"\"},\"caxis\":{\"gridcolor\":\"white\",\"linecolor\":\"white\",\"ticks\":\"\"}},\"coloraxis\":{\"colorbar\":{\"outlinewidth\":0,\"ticks\":\"\"}},\"colorscale\":{\"sequential\":[[0.0,\"#0d0887\"],[0.1111111111111111,\"#46039f\"],[0.2222222222222222,\"#7201a8\"],[0.3333333333333333,\"#9c179e\"],[0.4444444444444444,\"#bd3786\"],[0.5555555555555556,\"#d8576b\"],[0.6666666666666666,\"#ed7953\"],[0.7777777777777778,\"#fb9f3a\"],[0.8888888888888888,\"#fdca26\"],[1.0,\"#f0f921\"]],\"sequentialminus\":[[0.0,\"#0d0887\"],[0.1111111111111111,\"#46039f\"],[0.2222222222222222,\"#7201a8\"],[0.3333333333333333,\"#9c179e\"],[0.4444444444444444,\"#bd3786\"],[0.5555555555555556,\"#d8576b\"],[0.6666666666666666,\"#ed7953\"],[0.7777777777777778,\"#fb9f3a\"],[0.8888888888888888,\"#fdca26\"],[1.0,\"#f0f921\"]],\"diverging\":[[0,\"#8e0152\"],[0.1,\"#c51b7d\"],[0.2,\"#de77ae\"],[0.3,\"#f1b6da\"],[0.4,\"#fde0ef\"],[0.5,\"#f7f7f7\"],[0.6,\"#e6f5d0\"],[0.7,\"#b8e186\"],[0.8,\"#7fbc41\"],[0.9,\"#4d9221\"],[1,\"#276419\"]]},\"xaxis\":{\"gridcolor\":\"white\",\"linecolor\":\"white\",\"ticks\":\"\",\"title\":{\"standoff\":15},\"zerolinecolor\":\"white\",\"automargin\":true,\"zerolinewidth\":2},\"yaxis\":{\"gridcolor\":\"white\",\"linecolor\":\"white\",\"ticks\":\"\",\"title\":{\"standoff\":15},\"zerolinecolor\":\"white\",\"automargin\":true,\"zerolinewidth\":2},\"scene\":{\"xaxis\":{\"backgroundcolor\":\"#E5ECF6\",\"gridcolor\":\"white\",\"linecolor\":\"white\",\"showbackground\":true,\"ticks\":\"\",\"zerolinecolor\":\"white\",\"gridwidth\":2},\"yaxis\":{\"backgroundcolor\":\"#E5ECF6\",\"gridcolor\":\"white\",\"linecolor\":\"white\",\"showbackground\":true,\"ticks\":\"\",\"zerolinecolor\":\"white\",\"gridwidth\":2},\"zaxis\":{\"backgroundcolor\":\"#E5ECF6\",\"gridcolor\":\"white\",\"linecolor\":\"white\",\"showbackground\":true,\"ticks\":\"\",\"zerolinecolor\":\"white\",\"gridwidth\":2}},\"shapedefaults\":{\"line\":{\"color\":\"#2a3f5f\"}},\"annotationdefaults\":{\"arrowcolor\":\"#2a3f5f\",\"arrowhead\":0,\"arrowwidth\":1},\"geo\":{\"bgcolor\":\"white\",\"landcolor\":\"#E5ECF6\",\"subunitcolor\":\"white\",\"showland\":true,\"showlakes\":true,\"lakecolor\":\"white\"},\"title\":{\"x\":0.05},\"mapbox\":{\"style\":\"light\"}}},\"polar\":{\"domain\":{\"x\":[0.0,1.0],\"y\":[0.0,1.0]},\"angularaxis\":{\"direction\":\"clockwise\",\"rotation\":90}},\"legend\":{\"title\":{\"text\":\"cluster\"},\"tracegroupgap\":0},\"margin\":{\"t\":60},\"height\":800,\"width\":1400},                        {\"responsive\": true}                    ).then(function(){\n                            \nvar gd = document.getElementById('db7b671a-9b21-4b45-8c33-a269254cee48');\nvar x = new MutationObserver(function (mutations, observer) {{\n        var display = window.getComputedStyle(gd).display;\n        if (!display || display === 'none') {{\n            console.log([gd, 'removed!']);\n            Plotly.purge(gd);\n            observer.disconnect();\n        }}\n}});\n\n// Listen for the removal of the full notebook cells\nvar notebookContainer = gd.closest('#notebook-container');\nif (notebookContainer) {{\n    x.observe(notebookContainer, {childList: true});\n}}\n\n// Listen for the clearing of the current output cell\nvar outputEl = gd.closest('.output');\nif (outputEl) {{\n    x.observe(outputEl, {childList: true});\n}}\n\n                        })                };                });            </script>        </div>"
     },
     "metadata": {},
     "output_type": "display_data"
    }
   ],
   "source": [
    "# mental radar plot\n",
    "polar=df_strikers[mental].groupby(\"cluster\").mean().reset_index()\n",
    "polar=pd.melt(polar,id_vars=[\"cluster\"])\n",
    "fig6 = px.line_polar(polar, r=\"value\", theta=\"variable\", color=\"cluster\", line_close=True,height=800,width=1400)\n",
    "fig6.show()"
   ],
   "metadata": {
    "collapsed": false
   }
  },
  {
   "cell_type": "code",
   "execution_count": 32,
   "outputs": [
    {
     "name": "stderr",
     "output_type": "stream",
     "text": [
      "C:\\Users\\joemc\\anaconda3\\lib\\site-packages\\plotly\\express\\_core.py:271: FutureWarning:\n",
      "\n",
      "The frame.append method is deprecated and will be removed from pandas in a future version. Use pandas.concat instead.\n",
      "\n",
      "C:\\Users\\joemc\\anaconda3\\lib\\site-packages\\plotly\\express\\_core.py:271: FutureWarning:\n",
      "\n",
      "The frame.append method is deprecated and will be removed from pandas in a future version. Use pandas.concat instead.\n",
      "\n",
      "C:\\Users\\joemc\\anaconda3\\lib\\site-packages\\plotly\\express\\_core.py:271: FutureWarning:\n",
      "\n",
      "The frame.append method is deprecated and will be removed from pandas in a future version. Use pandas.concat instead.\n",
      "\n"
     ]
    },
    {
     "data": {
      "application/vnd.plotly.v1+json": {
       "data": [
        {
         "hovertemplate": "cluster=0<br>value=%{r}<br>variable=%{theta}<extra></extra>",
         "legendgroup": "0",
         "line": {
          "color": "#636efa",
          "dash": "solid"
         },
         "marker": {
          "symbol": "circle"
         },
         "mode": "lines",
         "name": "0",
         "r": [
          15.515151515151516,
          14.696969696969697,
          13.666666666666666,
          13.530303030303031,
          10.545454545454545,
          14.787878787878787,
          14.818181818181818,
          15.212121212121213,
          12.651515151515152,
          15.515151515151516
         ],
         "showlegend": true,
         "subplot": "polar",
         "theta": [
          "Work Rate",
          "Acceleration",
          "Agility",
          "Balance",
          "Jumping Reach",
          "Natural Fitness",
          "Pace",
          "Stamina",
          "Strength",
          "Work Rate"
         ],
         "type": "scatterpolar"
        },
        {
         "hovertemplate": "cluster=11<br>value=%{r}<br>variable=%{theta}<extra></extra>",
         "legendgroup": "11",
         "line": {
          "color": "#EF553B",
          "dash": "solid"
         },
         "marker": {
          "symbol": "circle"
         },
         "mode": "lines",
         "name": "11",
         "r": [
          14.177777777777777,
          15.755555555555556,
          14.066666666666666,
          12.777777777777779,
          8.511111111111111,
          14.355555555555556,
          15.822222222222223,
          14.044444444444444,
          10.844444444444445,
          14.177777777777777
         ],
         "showlegend": true,
         "subplot": "polar",
         "theta": [
          "Work Rate",
          "Acceleration",
          "Agility",
          "Balance",
          "Jumping Reach",
          "Natural Fitness",
          "Pace",
          "Stamina",
          "Strength",
          "Work Rate"
         ],
         "type": "scatterpolar"
        },
        {
         "hovertemplate": "cluster=13<br>value=%{r}<br>variable=%{theta}<extra></extra>",
         "legendgroup": "13",
         "line": {
          "color": "#00cc96",
          "dash": "solid"
         },
         "marker": {
          "symbol": "circle"
         },
         "mode": "lines",
         "name": "13",
         "r": [
          14.852941176470589,
          13.691176470588236,
          13.735294117647058,
          12.779411764705882,
          8.852941176470589,
          14.073529411764707,
          13.397058823529411,
          14.602941176470589,
          10.808823529411764,
          14.852941176470589
         ],
         "showlegend": true,
         "subplot": "polar",
         "theta": [
          "Work Rate",
          "Acceleration",
          "Agility",
          "Balance",
          "Jumping Reach",
          "Natural Fitness",
          "Pace",
          "Stamina",
          "Strength",
          "Work Rate"
         ],
         "type": "scatterpolar"
        }
       ],
       "layout": {
        "template": {
         "data": {
          "histogram2dcontour": [
           {
            "type": "histogram2dcontour",
            "colorbar": {
             "outlinewidth": 0,
             "ticks": ""
            },
            "colorscale": [
             [
              0.0,
              "#0d0887"
             ],
             [
              0.1111111111111111,
              "#46039f"
             ],
             [
              0.2222222222222222,
              "#7201a8"
             ],
             [
              0.3333333333333333,
              "#9c179e"
             ],
             [
              0.4444444444444444,
              "#bd3786"
             ],
             [
              0.5555555555555556,
              "#d8576b"
             ],
             [
              0.6666666666666666,
              "#ed7953"
             ],
             [
              0.7777777777777778,
              "#fb9f3a"
             ],
             [
              0.8888888888888888,
              "#fdca26"
             ],
             [
              1.0,
              "#f0f921"
             ]
            ]
           }
          ],
          "choropleth": [
           {
            "type": "choropleth",
            "colorbar": {
             "outlinewidth": 0,
             "ticks": ""
            }
           }
          ],
          "histogram2d": [
           {
            "type": "histogram2d",
            "colorbar": {
             "outlinewidth": 0,
             "ticks": ""
            },
            "colorscale": [
             [
              0.0,
              "#0d0887"
             ],
             [
              0.1111111111111111,
              "#46039f"
             ],
             [
              0.2222222222222222,
              "#7201a8"
             ],
             [
              0.3333333333333333,
              "#9c179e"
             ],
             [
              0.4444444444444444,
              "#bd3786"
             ],
             [
              0.5555555555555556,
              "#d8576b"
             ],
             [
              0.6666666666666666,
              "#ed7953"
             ],
             [
              0.7777777777777778,
              "#fb9f3a"
             ],
             [
              0.8888888888888888,
              "#fdca26"
             ],
             [
              1.0,
              "#f0f921"
             ]
            ]
           }
          ],
          "heatmap": [
           {
            "type": "heatmap",
            "colorbar": {
             "outlinewidth": 0,
             "ticks": ""
            },
            "colorscale": [
             [
              0.0,
              "#0d0887"
             ],
             [
              0.1111111111111111,
              "#46039f"
             ],
             [
              0.2222222222222222,
              "#7201a8"
             ],
             [
              0.3333333333333333,
              "#9c179e"
             ],
             [
              0.4444444444444444,
              "#bd3786"
             ],
             [
              0.5555555555555556,
              "#d8576b"
             ],
             [
              0.6666666666666666,
              "#ed7953"
             ],
             [
              0.7777777777777778,
              "#fb9f3a"
             ],
             [
              0.8888888888888888,
              "#fdca26"
             ],
             [
              1.0,
              "#f0f921"
             ]
            ]
           }
          ],
          "heatmapgl": [
           {
            "type": "heatmapgl",
            "colorbar": {
             "outlinewidth": 0,
             "ticks": ""
            },
            "colorscale": [
             [
              0.0,
              "#0d0887"
             ],
             [
              0.1111111111111111,
              "#46039f"
             ],
             [
              0.2222222222222222,
              "#7201a8"
             ],
             [
              0.3333333333333333,
              "#9c179e"
             ],
             [
              0.4444444444444444,
              "#bd3786"
             ],
             [
              0.5555555555555556,
              "#d8576b"
             ],
             [
              0.6666666666666666,
              "#ed7953"
             ],
             [
              0.7777777777777778,
              "#fb9f3a"
             ],
             [
              0.8888888888888888,
              "#fdca26"
             ],
             [
              1.0,
              "#f0f921"
             ]
            ]
           }
          ],
          "contourcarpet": [
           {
            "type": "contourcarpet",
            "colorbar": {
             "outlinewidth": 0,
             "ticks": ""
            }
           }
          ],
          "contour": [
           {
            "type": "contour",
            "colorbar": {
             "outlinewidth": 0,
             "ticks": ""
            },
            "colorscale": [
             [
              0.0,
              "#0d0887"
             ],
             [
              0.1111111111111111,
              "#46039f"
             ],
             [
              0.2222222222222222,
              "#7201a8"
             ],
             [
              0.3333333333333333,
              "#9c179e"
             ],
             [
              0.4444444444444444,
              "#bd3786"
             ],
             [
              0.5555555555555556,
              "#d8576b"
             ],
             [
              0.6666666666666666,
              "#ed7953"
             ],
             [
              0.7777777777777778,
              "#fb9f3a"
             ],
             [
              0.8888888888888888,
              "#fdca26"
             ],
             [
              1.0,
              "#f0f921"
             ]
            ]
           }
          ],
          "surface": [
           {
            "type": "surface",
            "colorbar": {
             "outlinewidth": 0,
             "ticks": ""
            },
            "colorscale": [
             [
              0.0,
              "#0d0887"
             ],
             [
              0.1111111111111111,
              "#46039f"
             ],
             [
              0.2222222222222222,
              "#7201a8"
             ],
             [
              0.3333333333333333,
              "#9c179e"
             ],
             [
              0.4444444444444444,
              "#bd3786"
             ],
             [
              0.5555555555555556,
              "#d8576b"
             ],
             [
              0.6666666666666666,
              "#ed7953"
             ],
             [
              0.7777777777777778,
              "#fb9f3a"
             ],
             [
              0.8888888888888888,
              "#fdca26"
             ],
             [
              1.0,
              "#f0f921"
             ]
            ]
           }
          ],
          "mesh3d": [
           {
            "type": "mesh3d",
            "colorbar": {
             "outlinewidth": 0,
             "ticks": ""
            }
           }
          ],
          "scatter": [
           {
            "fillpattern": {
             "fillmode": "overlay",
             "size": 10,
             "solidity": 0.2
            },
            "type": "scatter"
           }
          ],
          "parcoords": [
           {
            "type": "parcoords",
            "line": {
             "colorbar": {
              "outlinewidth": 0,
              "ticks": ""
             }
            }
           }
          ],
          "scatterpolargl": [
           {
            "type": "scatterpolargl",
            "marker": {
             "colorbar": {
              "outlinewidth": 0,
              "ticks": ""
             }
            }
           }
          ],
          "bar": [
           {
            "error_x": {
             "color": "#2a3f5f"
            },
            "error_y": {
             "color": "#2a3f5f"
            },
            "marker": {
             "line": {
              "color": "#E5ECF6",
              "width": 0.5
             },
             "pattern": {
              "fillmode": "overlay",
              "size": 10,
              "solidity": 0.2
             }
            },
            "type": "bar"
           }
          ],
          "scattergeo": [
           {
            "type": "scattergeo",
            "marker": {
             "colorbar": {
              "outlinewidth": 0,
              "ticks": ""
             }
            }
           }
          ],
          "scatterpolar": [
           {
            "type": "scatterpolar",
            "marker": {
             "colorbar": {
              "outlinewidth": 0,
              "ticks": ""
             }
            }
           }
          ],
          "histogram": [
           {
            "marker": {
             "pattern": {
              "fillmode": "overlay",
              "size": 10,
              "solidity": 0.2
             }
            },
            "type": "histogram"
           }
          ],
          "scattergl": [
           {
            "type": "scattergl",
            "marker": {
             "colorbar": {
              "outlinewidth": 0,
              "ticks": ""
             }
            }
           }
          ],
          "scatter3d": [
           {
            "type": "scatter3d",
            "line": {
             "colorbar": {
              "outlinewidth": 0,
              "ticks": ""
             }
            },
            "marker": {
             "colorbar": {
              "outlinewidth": 0,
              "ticks": ""
             }
            }
           }
          ],
          "scattermapbox": [
           {
            "type": "scattermapbox",
            "marker": {
             "colorbar": {
              "outlinewidth": 0,
              "ticks": ""
             }
            }
           }
          ],
          "scatterternary": [
           {
            "type": "scatterternary",
            "marker": {
             "colorbar": {
              "outlinewidth": 0,
              "ticks": ""
             }
            }
           }
          ],
          "scattercarpet": [
           {
            "type": "scattercarpet",
            "marker": {
             "colorbar": {
              "outlinewidth": 0,
              "ticks": ""
             }
            }
           }
          ],
          "carpet": [
           {
            "aaxis": {
             "endlinecolor": "#2a3f5f",
             "gridcolor": "white",
             "linecolor": "white",
             "minorgridcolor": "white",
             "startlinecolor": "#2a3f5f"
            },
            "baxis": {
             "endlinecolor": "#2a3f5f",
             "gridcolor": "white",
             "linecolor": "white",
             "minorgridcolor": "white",
             "startlinecolor": "#2a3f5f"
            },
            "type": "carpet"
           }
          ],
          "table": [
           {
            "cells": {
             "fill": {
              "color": "#EBF0F8"
             },
             "line": {
              "color": "white"
             }
            },
            "header": {
             "fill": {
              "color": "#C8D4E3"
             },
             "line": {
              "color": "white"
             }
            },
            "type": "table"
           }
          ],
          "barpolar": [
           {
            "marker": {
             "line": {
              "color": "#E5ECF6",
              "width": 0.5
             },
             "pattern": {
              "fillmode": "overlay",
              "size": 10,
              "solidity": 0.2
             }
            },
            "type": "barpolar"
           }
          ],
          "pie": [
           {
            "automargin": true,
            "type": "pie"
           }
          ]
         },
         "layout": {
          "autotypenumbers": "strict",
          "colorway": [
           "#636efa",
           "#EF553B",
           "#00cc96",
           "#ab63fa",
           "#FFA15A",
           "#19d3f3",
           "#FF6692",
           "#B6E880",
           "#FF97FF",
           "#FECB52"
          ],
          "font": {
           "color": "#2a3f5f"
          },
          "hovermode": "closest",
          "hoverlabel": {
           "align": "left"
          },
          "paper_bgcolor": "white",
          "plot_bgcolor": "#E5ECF6",
          "polar": {
           "bgcolor": "#E5ECF6",
           "angularaxis": {
            "gridcolor": "white",
            "linecolor": "white",
            "ticks": ""
           },
           "radialaxis": {
            "gridcolor": "white",
            "linecolor": "white",
            "ticks": ""
           }
          },
          "ternary": {
           "bgcolor": "#E5ECF6",
           "aaxis": {
            "gridcolor": "white",
            "linecolor": "white",
            "ticks": ""
           },
           "baxis": {
            "gridcolor": "white",
            "linecolor": "white",
            "ticks": ""
           },
           "caxis": {
            "gridcolor": "white",
            "linecolor": "white",
            "ticks": ""
           }
          },
          "coloraxis": {
           "colorbar": {
            "outlinewidth": 0,
            "ticks": ""
           }
          },
          "colorscale": {
           "sequential": [
            [
             0.0,
             "#0d0887"
            ],
            [
             0.1111111111111111,
             "#46039f"
            ],
            [
             0.2222222222222222,
             "#7201a8"
            ],
            [
             0.3333333333333333,
             "#9c179e"
            ],
            [
             0.4444444444444444,
             "#bd3786"
            ],
            [
             0.5555555555555556,
             "#d8576b"
            ],
            [
             0.6666666666666666,
             "#ed7953"
            ],
            [
             0.7777777777777778,
             "#fb9f3a"
            ],
            [
             0.8888888888888888,
             "#fdca26"
            ],
            [
             1.0,
             "#f0f921"
            ]
           ],
           "sequentialminus": [
            [
             0.0,
             "#0d0887"
            ],
            [
             0.1111111111111111,
             "#46039f"
            ],
            [
             0.2222222222222222,
             "#7201a8"
            ],
            [
             0.3333333333333333,
             "#9c179e"
            ],
            [
             0.4444444444444444,
             "#bd3786"
            ],
            [
             0.5555555555555556,
             "#d8576b"
            ],
            [
             0.6666666666666666,
             "#ed7953"
            ],
            [
             0.7777777777777778,
             "#fb9f3a"
            ],
            [
             0.8888888888888888,
             "#fdca26"
            ],
            [
             1.0,
             "#f0f921"
            ]
           ],
           "diverging": [
            [
             0,
             "#8e0152"
            ],
            [
             0.1,
             "#c51b7d"
            ],
            [
             0.2,
             "#de77ae"
            ],
            [
             0.3,
             "#f1b6da"
            ],
            [
             0.4,
             "#fde0ef"
            ],
            [
             0.5,
             "#f7f7f7"
            ],
            [
             0.6,
             "#e6f5d0"
            ],
            [
             0.7,
             "#b8e186"
            ],
            [
             0.8,
             "#7fbc41"
            ],
            [
             0.9,
             "#4d9221"
            ],
            [
             1,
             "#276419"
            ]
           ]
          },
          "xaxis": {
           "gridcolor": "white",
           "linecolor": "white",
           "ticks": "",
           "title": {
            "standoff": 15
           },
           "zerolinecolor": "white",
           "automargin": true,
           "zerolinewidth": 2
          },
          "yaxis": {
           "gridcolor": "white",
           "linecolor": "white",
           "ticks": "",
           "title": {
            "standoff": 15
           },
           "zerolinecolor": "white",
           "automargin": true,
           "zerolinewidth": 2
          },
          "scene": {
           "xaxis": {
            "backgroundcolor": "#E5ECF6",
            "gridcolor": "white",
            "linecolor": "white",
            "showbackground": true,
            "ticks": "",
            "zerolinecolor": "white",
            "gridwidth": 2
           },
           "yaxis": {
            "backgroundcolor": "#E5ECF6",
            "gridcolor": "white",
            "linecolor": "white",
            "showbackground": true,
            "ticks": "",
            "zerolinecolor": "white",
            "gridwidth": 2
           },
           "zaxis": {
            "backgroundcolor": "#E5ECF6",
            "gridcolor": "white",
            "linecolor": "white",
            "showbackground": true,
            "ticks": "",
            "zerolinecolor": "white",
            "gridwidth": 2
           }
          },
          "shapedefaults": {
           "line": {
            "color": "#2a3f5f"
           }
          },
          "annotationdefaults": {
           "arrowcolor": "#2a3f5f",
           "arrowhead": 0,
           "arrowwidth": 1
          },
          "geo": {
           "bgcolor": "white",
           "landcolor": "#E5ECF6",
           "subunitcolor": "white",
           "showland": true,
           "showlakes": true,
           "lakecolor": "white"
          },
          "title": {
           "x": 0.05
          },
          "mapbox": {
           "style": "light"
          }
         }
        },
        "polar": {
         "domain": {
          "x": [
           0.0,
           1.0
          ],
          "y": [
           0.0,
           1.0
          ]
         },
         "angularaxis": {
          "direction": "clockwise",
          "rotation": 90
         }
        },
        "legend": {
         "title": {
          "text": "cluster"
         },
         "tracegroupgap": 0
        },
        "margin": {
         "t": 60
        },
        "height": 800,
        "width": 1400
       },
       "config": {
        "plotlyServerURL": "https://plot.ly"
       }
      },
      "text/html": "<div>                            <div id=\"2fb9b9e6-810a-4f56-aaed-f80aee1d2c65\" class=\"plotly-graph-div\" style=\"height:800px; width:1400px;\"></div>            <script type=\"text/javascript\">                require([\"plotly\"], function(Plotly) {                    window.PLOTLYENV=window.PLOTLYENV || {};                                    if (document.getElementById(\"2fb9b9e6-810a-4f56-aaed-f80aee1d2c65\")) {                    Plotly.newPlot(                        \"2fb9b9e6-810a-4f56-aaed-f80aee1d2c65\",                        [{\"hovertemplate\":\"cluster=0<br>value=%{r}<br>variable=%{theta}<extra></extra>\",\"legendgroup\":\"0\",\"line\":{\"color\":\"#636efa\",\"dash\":\"solid\"},\"marker\":{\"symbol\":\"circle\"},\"mode\":\"lines\",\"name\":\"0\",\"r\":[15.515151515151516,14.696969696969697,13.666666666666666,13.530303030303031,10.545454545454545,14.787878787878787,14.818181818181818,15.212121212121213,12.651515151515152,15.515151515151516],\"showlegend\":true,\"subplot\":\"polar\",\"theta\":[\"Work Rate\",\"Acceleration\",\"Agility\",\"Balance\",\"Jumping Reach\",\"Natural Fitness\",\"Pace\",\"Stamina\",\"Strength\",\"Work Rate\"],\"type\":\"scatterpolar\"},{\"hovertemplate\":\"cluster=11<br>value=%{r}<br>variable=%{theta}<extra></extra>\",\"legendgroup\":\"11\",\"line\":{\"color\":\"#EF553B\",\"dash\":\"solid\"},\"marker\":{\"symbol\":\"circle\"},\"mode\":\"lines\",\"name\":\"11\",\"r\":[14.177777777777777,15.755555555555556,14.066666666666666,12.777777777777779,8.511111111111111,14.355555555555556,15.822222222222223,14.044444444444444,10.844444444444445,14.177777777777777],\"showlegend\":true,\"subplot\":\"polar\",\"theta\":[\"Work Rate\",\"Acceleration\",\"Agility\",\"Balance\",\"Jumping Reach\",\"Natural Fitness\",\"Pace\",\"Stamina\",\"Strength\",\"Work Rate\"],\"type\":\"scatterpolar\"},{\"hovertemplate\":\"cluster=13<br>value=%{r}<br>variable=%{theta}<extra></extra>\",\"legendgroup\":\"13\",\"line\":{\"color\":\"#00cc96\",\"dash\":\"solid\"},\"marker\":{\"symbol\":\"circle\"},\"mode\":\"lines\",\"name\":\"13\",\"r\":[14.852941176470589,13.691176470588236,13.735294117647058,12.779411764705882,8.852941176470589,14.073529411764707,13.397058823529411,14.602941176470589,10.808823529411764,14.852941176470589],\"showlegend\":true,\"subplot\":\"polar\",\"theta\":[\"Work Rate\",\"Acceleration\",\"Agility\",\"Balance\",\"Jumping Reach\",\"Natural Fitness\",\"Pace\",\"Stamina\",\"Strength\",\"Work Rate\"],\"type\":\"scatterpolar\"}],                        {\"template\":{\"data\":{\"histogram2dcontour\":[{\"type\":\"histogram2dcontour\",\"colorbar\":{\"outlinewidth\":0,\"ticks\":\"\"},\"colorscale\":[[0.0,\"#0d0887\"],[0.1111111111111111,\"#46039f\"],[0.2222222222222222,\"#7201a8\"],[0.3333333333333333,\"#9c179e\"],[0.4444444444444444,\"#bd3786\"],[0.5555555555555556,\"#d8576b\"],[0.6666666666666666,\"#ed7953\"],[0.7777777777777778,\"#fb9f3a\"],[0.8888888888888888,\"#fdca26\"],[1.0,\"#f0f921\"]]}],\"choropleth\":[{\"type\":\"choropleth\",\"colorbar\":{\"outlinewidth\":0,\"ticks\":\"\"}}],\"histogram2d\":[{\"type\":\"histogram2d\",\"colorbar\":{\"outlinewidth\":0,\"ticks\":\"\"},\"colorscale\":[[0.0,\"#0d0887\"],[0.1111111111111111,\"#46039f\"],[0.2222222222222222,\"#7201a8\"],[0.3333333333333333,\"#9c179e\"],[0.4444444444444444,\"#bd3786\"],[0.5555555555555556,\"#d8576b\"],[0.6666666666666666,\"#ed7953\"],[0.7777777777777778,\"#fb9f3a\"],[0.8888888888888888,\"#fdca26\"],[1.0,\"#f0f921\"]]}],\"heatmap\":[{\"type\":\"heatmap\",\"colorbar\":{\"outlinewidth\":0,\"ticks\":\"\"},\"colorscale\":[[0.0,\"#0d0887\"],[0.1111111111111111,\"#46039f\"],[0.2222222222222222,\"#7201a8\"],[0.3333333333333333,\"#9c179e\"],[0.4444444444444444,\"#bd3786\"],[0.5555555555555556,\"#d8576b\"],[0.6666666666666666,\"#ed7953\"],[0.7777777777777778,\"#fb9f3a\"],[0.8888888888888888,\"#fdca26\"],[1.0,\"#f0f921\"]]}],\"heatmapgl\":[{\"type\":\"heatmapgl\",\"colorbar\":{\"outlinewidth\":0,\"ticks\":\"\"},\"colorscale\":[[0.0,\"#0d0887\"],[0.1111111111111111,\"#46039f\"],[0.2222222222222222,\"#7201a8\"],[0.3333333333333333,\"#9c179e\"],[0.4444444444444444,\"#bd3786\"],[0.5555555555555556,\"#d8576b\"],[0.6666666666666666,\"#ed7953\"],[0.7777777777777778,\"#fb9f3a\"],[0.8888888888888888,\"#fdca26\"],[1.0,\"#f0f921\"]]}],\"contourcarpet\":[{\"type\":\"contourcarpet\",\"colorbar\":{\"outlinewidth\":0,\"ticks\":\"\"}}],\"contour\":[{\"type\":\"contour\",\"colorbar\":{\"outlinewidth\":0,\"ticks\":\"\"},\"colorscale\":[[0.0,\"#0d0887\"],[0.1111111111111111,\"#46039f\"],[0.2222222222222222,\"#7201a8\"],[0.3333333333333333,\"#9c179e\"],[0.4444444444444444,\"#bd3786\"],[0.5555555555555556,\"#d8576b\"],[0.6666666666666666,\"#ed7953\"],[0.7777777777777778,\"#fb9f3a\"],[0.8888888888888888,\"#fdca26\"],[1.0,\"#f0f921\"]]}],\"surface\":[{\"type\":\"surface\",\"colorbar\":{\"outlinewidth\":0,\"ticks\":\"\"},\"colorscale\":[[0.0,\"#0d0887\"],[0.1111111111111111,\"#46039f\"],[0.2222222222222222,\"#7201a8\"],[0.3333333333333333,\"#9c179e\"],[0.4444444444444444,\"#bd3786\"],[0.5555555555555556,\"#d8576b\"],[0.6666666666666666,\"#ed7953\"],[0.7777777777777778,\"#fb9f3a\"],[0.8888888888888888,\"#fdca26\"],[1.0,\"#f0f921\"]]}],\"mesh3d\":[{\"type\":\"mesh3d\",\"colorbar\":{\"outlinewidth\":0,\"ticks\":\"\"}}],\"scatter\":[{\"fillpattern\":{\"fillmode\":\"overlay\",\"size\":10,\"solidity\":0.2},\"type\":\"scatter\"}],\"parcoords\":[{\"type\":\"parcoords\",\"line\":{\"colorbar\":{\"outlinewidth\":0,\"ticks\":\"\"}}}],\"scatterpolargl\":[{\"type\":\"scatterpolargl\",\"marker\":{\"colorbar\":{\"outlinewidth\":0,\"ticks\":\"\"}}}],\"bar\":[{\"error_x\":{\"color\":\"#2a3f5f\"},\"error_y\":{\"color\":\"#2a3f5f\"},\"marker\":{\"line\":{\"color\":\"#E5ECF6\",\"width\":0.5},\"pattern\":{\"fillmode\":\"overlay\",\"size\":10,\"solidity\":0.2}},\"type\":\"bar\"}],\"scattergeo\":[{\"type\":\"scattergeo\",\"marker\":{\"colorbar\":{\"outlinewidth\":0,\"ticks\":\"\"}}}],\"scatterpolar\":[{\"type\":\"scatterpolar\",\"marker\":{\"colorbar\":{\"outlinewidth\":0,\"ticks\":\"\"}}}],\"histogram\":[{\"marker\":{\"pattern\":{\"fillmode\":\"overlay\",\"size\":10,\"solidity\":0.2}},\"type\":\"histogram\"}],\"scattergl\":[{\"type\":\"scattergl\",\"marker\":{\"colorbar\":{\"outlinewidth\":0,\"ticks\":\"\"}}}],\"scatter3d\":[{\"type\":\"scatter3d\",\"line\":{\"colorbar\":{\"outlinewidth\":0,\"ticks\":\"\"}},\"marker\":{\"colorbar\":{\"outlinewidth\":0,\"ticks\":\"\"}}}],\"scattermapbox\":[{\"type\":\"scattermapbox\",\"marker\":{\"colorbar\":{\"outlinewidth\":0,\"ticks\":\"\"}}}],\"scatterternary\":[{\"type\":\"scatterternary\",\"marker\":{\"colorbar\":{\"outlinewidth\":0,\"ticks\":\"\"}}}],\"scattercarpet\":[{\"type\":\"scattercarpet\",\"marker\":{\"colorbar\":{\"outlinewidth\":0,\"ticks\":\"\"}}}],\"carpet\":[{\"aaxis\":{\"endlinecolor\":\"#2a3f5f\",\"gridcolor\":\"white\",\"linecolor\":\"white\",\"minorgridcolor\":\"white\",\"startlinecolor\":\"#2a3f5f\"},\"baxis\":{\"endlinecolor\":\"#2a3f5f\",\"gridcolor\":\"white\",\"linecolor\":\"white\",\"minorgridcolor\":\"white\",\"startlinecolor\":\"#2a3f5f\"},\"type\":\"carpet\"}],\"table\":[{\"cells\":{\"fill\":{\"color\":\"#EBF0F8\"},\"line\":{\"color\":\"white\"}},\"header\":{\"fill\":{\"color\":\"#C8D4E3\"},\"line\":{\"color\":\"white\"}},\"type\":\"table\"}],\"barpolar\":[{\"marker\":{\"line\":{\"color\":\"#E5ECF6\",\"width\":0.5},\"pattern\":{\"fillmode\":\"overlay\",\"size\":10,\"solidity\":0.2}},\"type\":\"barpolar\"}],\"pie\":[{\"automargin\":true,\"type\":\"pie\"}]},\"layout\":{\"autotypenumbers\":\"strict\",\"colorway\":[\"#636efa\",\"#EF553B\",\"#00cc96\",\"#ab63fa\",\"#FFA15A\",\"#19d3f3\",\"#FF6692\",\"#B6E880\",\"#FF97FF\",\"#FECB52\"],\"font\":{\"color\":\"#2a3f5f\"},\"hovermode\":\"closest\",\"hoverlabel\":{\"align\":\"left\"},\"paper_bgcolor\":\"white\",\"plot_bgcolor\":\"#E5ECF6\",\"polar\":{\"bgcolor\":\"#E5ECF6\",\"angularaxis\":{\"gridcolor\":\"white\",\"linecolor\":\"white\",\"ticks\":\"\"},\"radialaxis\":{\"gridcolor\":\"white\",\"linecolor\":\"white\",\"ticks\":\"\"}},\"ternary\":{\"bgcolor\":\"#E5ECF6\",\"aaxis\":{\"gridcolor\":\"white\",\"linecolor\":\"white\",\"ticks\":\"\"},\"baxis\":{\"gridcolor\":\"white\",\"linecolor\":\"white\",\"ticks\":\"\"},\"caxis\":{\"gridcolor\":\"white\",\"linecolor\":\"white\",\"ticks\":\"\"}},\"coloraxis\":{\"colorbar\":{\"outlinewidth\":0,\"ticks\":\"\"}},\"colorscale\":{\"sequential\":[[0.0,\"#0d0887\"],[0.1111111111111111,\"#46039f\"],[0.2222222222222222,\"#7201a8\"],[0.3333333333333333,\"#9c179e\"],[0.4444444444444444,\"#bd3786\"],[0.5555555555555556,\"#d8576b\"],[0.6666666666666666,\"#ed7953\"],[0.7777777777777778,\"#fb9f3a\"],[0.8888888888888888,\"#fdca26\"],[1.0,\"#f0f921\"]],\"sequentialminus\":[[0.0,\"#0d0887\"],[0.1111111111111111,\"#46039f\"],[0.2222222222222222,\"#7201a8\"],[0.3333333333333333,\"#9c179e\"],[0.4444444444444444,\"#bd3786\"],[0.5555555555555556,\"#d8576b\"],[0.6666666666666666,\"#ed7953\"],[0.7777777777777778,\"#fb9f3a\"],[0.8888888888888888,\"#fdca26\"],[1.0,\"#f0f921\"]],\"diverging\":[[0,\"#8e0152\"],[0.1,\"#c51b7d\"],[0.2,\"#de77ae\"],[0.3,\"#f1b6da\"],[0.4,\"#fde0ef\"],[0.5,\"#f7f7f7\"],[0.6,\"#e6f5d0\"],[0.7,\"#b8e186\"],[0.8,\"#7fbc41\"],[0.9,\"#4d9221\"],[1,\"#276419\"]]},\"xaxis\":{\"gridcolor\":\"white\",\"linecolor\":\"white\",\"ticks\":\"\",\"title\":{\"standoff\":15},\"zerolinecolor\":\"white\",\"automargin\":true,\"zerolinewidth\":2},\"yaxis\":{\"gridcolor\":\"white\",\"linecolor\":\"white\",\"ticks\":\"\",\"title\":{\"standoff\":15},\"zerolinecolor\":\"white\",\"automargin\":true,\"zerolinewidth\":2},\"scene\":{\"xaxis\":{\"backgroundcolor\":\"#E5ECF6\",\"gridcolor\":\"white\",\"linecolor\":\"white\",\"showbackground\":true,\"ticks\":\"\",\"zerolinecolor\":\"white\",\"gridwidth\":2},\"yaxis\":{\"backgroundcolor\":\"#E5ECF6\",\"gridcolor\":\"white\",\"linecolor\":\"white\",\"showbackground\":true,\"ticks\":\"\",\"zerolinecolor\":\"white\",\"gridwidth\":2},\"zaxis\":{\"backgroundcolor\":\"#E5ECF6\",\"gridcolor\":\"white\",\"linecolor\":\"white\",\"showbackground\":true,\"ticks\":\"\",\"zerolinecolor\":\"white\",\"gridwidth\":2}},\"shapedefaults\":{\"line\":{\"color\":\"#2a3f5f\"}},\"annotationdefaults\":{\"arrowcolor\":\"#2a3f5f\",\"arrowhead\":0,\"arrowwidth\":1},\"geo\":{\"bgcolor\":\"white\",\"landcolor\":\"#E5ECF6\",\"subunitcolor\":\"white\",\"showland\":true,\"showlakes\":true,\"lakecolor\":\"white\"},\"title\":{\"x\":0.05},\"mapbox\":{\"style\":\"light\"}}},\"polar\":{\"domain\":{\"x\":[0.0,1.0],\"y\":[0.0,1.0]},\"angularaxis\":{\"direction\":\"clockwise\",\"rotation\":90}},\"legend\":{\"title\":{\"text\":\"cluster\"},\"tracegroupgap\":0},\"margin\":{\"t\":60},\"height\":800,\"width\":1400},                        {\"responsive\": true}                    ).then(function(){\n                            \nvar gd = document.getElementById('2fb9b9e6-810a-4f56-aaed-f80aee1d2c65');\nvar x = new MutationObserver(function (mutations, observer) {{\n        var display = window.getComputedStyle(gd).display;\n        if (!display || display === 'none') {{\n            console.log([gd, 'removed!']);\n            Plotly.purge(gd);\n            observer.disconnect();\n        }}\n}});\n\n// Listen for the removal of the full notebook cells\nvar notebookContainer = gd.closest('#notebook-container');\nif (notebookContainer) {{\n    x.observe(notebookContainer, {childList: true});\n}}\n\n// Listen for the clearing of the current output cell\nvar outputEl = gd.closest('.output');\nif (outputEl) {{\n    x.observe(outputEl, {childList: true});\n}}\n\n                        })                };                });            </script>        </div>"
     },
     "metadata": {},
     "output_type": "display_data"
    }
   ],
   "source": [
    "# physical radar plot\n",
    "polar=df_strikers[physical].groupby(\"cluster\").mean().reset_index()\n",
    "polar=pd.melt(polar,id_vars=[\"cluster\"])\n",
    "fig6 = px.line_polar(polar, r=\"value\", theta=\"variable\", color=\"cluster\", line_close=True,height=800,width=1400)\n",
    "fig6.show()"
   ],
   "metadata": {
    "collapsed": false
   }
  },
  {
   "cell_type": "code",
   "execution_count": 33,
   "outputs": [],
   "source": [
    "\n",
    "# create a new DataFrame with the t-SNE coordinates\n",
    "tsne_df = pd.DataFrame(X_embedded, columns=['tsne_1', 'tsne_2'])"
   ],
   "metadata": {
    "collapsed": false
   }
  },
  {
   "cell_type": "code",
   "execution_count": 34,
   "outputs": [],
   "source": [
    "# add tsne coordinates to dataframe\n",
    "df_clusters = pd.concat([df,tsne_df], axis= 1)"
   ],
   "metadata": {
    "collapsed": false
   }
  },
  {
   "cell_type": "code",
   "execution_count": 35,
   "outputs": [],
   "source": [
    "# save to csv\n",
    "df_clusters.to_csv('final.csv')"
   ],
   "metadata": {
    "collapsed": false
   }
  },
  {
   "cell_type": "markdown",
   "source": [
    "# Finding 10 closest players based on t-SNE for each player"
   ],
   "metadata": {
    "collapsed": false
   }
  },
  {
   "cell_type": "code",
   "execution_count": 40,
   "outputs": [],
   "source": [
    "df_test = df_clusters.copy()"
   ],
   "metadata": {
    "collapsed": false
   }
  },
  {
   "cell_type": "code",
   "execution_count": 41,
   "outputs": [],
   "source": [
    "from scipy.spatial.distance import cdist\n",
    "\n",
    "def find_closest(df):\n",
    "    df_results = pd.DataFrame()\n",
    "    for i in range(0,18):\n",
    "        df_cluster = df_test[df_test['cluster']== i]\n",
    "\n",
    "        # Create an array of (x, y) coordinates\n",
    "        coords = df_cluster[['tsne_1', 'tsne_2']].values\n",
    "        names = df_cluster['name'].tolist()\n",
    "        # Compute the pairwise distances between all points\n",
    "        distances = cdist(coords, coords)\n",
    "        # Set the diagonal to a large value so that each point doesn't count itself as a closest point\n",
    "        np.fill_diagonal(distances, np.inf)\n",
    "        # Find the indices of the 10 closest points for each point\n",
    "        indices = np.argpartition(distances, 10)[:, :10]\n",
    "        # Get the names of the closest points\n",
    "        closest_names = np.take(names, indices)\n",
    "        # Create a new dataframe with the closest names\n",
    "        closest_names_df = pd.DataFrame(closest_names, columns=[f'closest_{i}' for i in range(10)])\n",
    "        # Add the index column from the original dataframe to the new dataframe\n",
    "        closest_names_df['index_tracker'] = df_cluster.index\n",
    "\n",
    "        df_results = pd.concat([df_results,closest_names_df])\n",
    "\n",
    "    return df_results"
   ],
   "metadata": {
    "collapsed": false
   }
  },
  {
   "cell_type": "code",
   "execution_count": 42,
   "outputs": [],
   "source": [
    "#run function and merge to original dataframe\n",
    "df_results = find_closest(df_test)"
   ],
   "metadata": {
    "collapsed": false
   }
  },
  {
   "cell_type": "code",
   "execution_count": 44,
   "outputs": [],
   "source": [
    "merged_df = df_test.merge(df_results,how= 'left', left_on= df_test.index, right_on='index_tracker')"
   ],
   "metadata": {
    "collapsed": false
   }
  },
  {
   "cell_type": "code",
   "execution_count": 46,
   "outputs": [],
   "source": [
    "# save dataframe with most similar players\n",
    "merged_df.to_csv('clostest_10_all.csv')"
   ],
   "metadata": {
    "collapsed": false
   }
  }
 ],
 "metadata": {
  "kernelspec": {
   "display_name": "Python 3",
   "language": "python",
   "name": "python3"
  },
  "language_info": {
   "codemirror_mode": {
    "name": "ipython",
    "version": 2
   },
   "file_extension": ".py",
   "mimetype": "text/x-python",
   "name": "python",
   "nbconvert_exporter": "python",
   "pygments_lexer": "ipython2",
   "version": "2.7.6"
  }
 },
 "nbformat": 4,
 "nbformat_minor": 0
}
